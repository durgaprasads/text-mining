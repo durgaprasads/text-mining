{
 "cells": [
  {
   "cell_type": "markdown",
   "metadata": {
    "id": "GUn0NpWKI2Ww"
   },
   "source": [
    "\n",
    "## Booking.com Feature Extraction"
   ]
  },
  {
   "cell_type": "code",
   "execution_count": 6,
   "metadata": {
    "colab": {
     "base_uri": "https://localhost:8080/"
    },
    "id": "sr2pMa1jI1Z6",
    "outputId": "7c75f96a-c0d1-4a53-82ee-149a59886b46"
   },
   "outputs": [
    {
     "name": "stderr",
     "output_type": "stream",
     "text": [
      "[nltk_data] Downloading package stopwords to /root/nltk_data...\n",
      "[nltk_data]   Package stopwords is already up-to-date!\n",
      "[nltk_data] Downloading package punkt to /root/nltk_data...\n",
      "[nltk_data]   Package punkt is already up-to-date!\n",
      "[nltk_data] Downloading package wordnet to /root/nltk_data...\n",
      "[nltk_data]   Package wordnet is already up-to-date!\n",
      "[nltk_data] Downloading package omw-1.4 to /root/nltk_data...\n",
      "[nltk_data]   Package omw-1.4 is already up-to-date!\n",
      "[nltk_data] Downloading package averaged_perceptron_tagger to\n",
      "[nltk_data]     /root/nltk_data...\n",
      "[nltk_data]   Package averaged_perceptron_tagger is already up-to-\n",
      "[nltk_data]       date!\n",
      "[nltk_data] Downloading package universal_tagset to /root/nltk_data...\n",
      "[nltk_data]   Package universal_tagset is already up-to-date!\n"
     ]
    },
    {
     "data": {
      "text/plain": [
       "True"
      ]
     },
     "execution_count": 6,
     "metadata": {},
     "output_type": "execute_result"
    }
   ],
   "source": [
    "import nltk\n",
    "import pandas as pd\n",
    "from collections import Counter\n",
    "nltk.download('stopwords')\n",
    "nltk.download('punkt')\n",
    "nltk.download('wordnet')\n",
    "nltk.download('omw-1.4')\n",
    "nltk.download('averaged_perceptron_tagger')\n",
    "nltk.download('universal_tagset')\n",
    "  "
   ]
  },
  {
   "cell_type": "code",
   "execution_count": 7,
   "metadata": {
    "id": "pOom2LwidFbD"
   },
   "outputs": [],
   "source": [
    "booking_df=pd.read_excel(\"BookingDotCom_HotelReviews.xlsx\")"
   ]
  },
  {
   "cell_type": "code",
   "execution_count": 8,
   "metadata": {
    "colab": {
     "base_uri": "https://localhost:8080/"
    },
    "id": "U83swYpMdj86",
    "outputId": "be91fc5b-29da-4694-86a7-722a252eb2c5"
   },
   "outputs": [
    {
     "data": {
      "text/plain": [
       "Hotel_Name                          object\n",
       "Hotel_Address                       object\n",
       "Review_Count                         int64\n",
       "Non_Review_Scoring_Count             int64\n",
       "Average_Hotel_Score                float64\n",
       "Review_Date                 datetime64[ns]\n",
       "Reviewer_Nationality                object\n",
       "Positive_Comments                   object\n",
       "Negative_Comments                   object\n",
       "Total_Reviewer_Reviews               int64\n",
       "Reviewer_Score                     float64\n",
       "Tags                                object\n",
       "dtype: object"
      ]
     },
     "execution_count": 8,
     "metadata": {},
     "output_type": "execute_result"
    }
   ],
   "source": [
    "booking_df.dtypes"
   ]
  },
  {
   "cell_type": "code",
   "execution_count": 9,
   "metadata": {
    "id": "QnHGYGb9lxwA"
   },
   "outputs": [],
   "source": [
    "booking_df[['Hotel_Name','Hotel_Address','Reviewer_Nationality','Positive_Comments','Negative_Comments']]=booking_df[['Hotel_Name','Hotel_Address','Reviewer_Nationality','Positive_Comments','Negative_Comments']].astype('str')"
   ]
  },
  {
   "cell_type": "code",
   "execution_count": 10,
   "metadata": {
    "colab": {
     "base_uri": "https://localhost:8080/",
     "height": 485
    },
    "id": "0UO-y_sGmAiz",
    "outputId": "d39f52ea-5f13-4fa1-d24c-872c3ca583cc"
   },
   "outputs": [
    {
     "data": {
      "text/html": [
       "\n",
       "  <div id=\"df-36b076f4-4964-44ea-a663-06974505e858\">\n",
       "    <div class=\"colab-df-container\">\n",
       "      <div>\n",
       "<style scoped>\n",
       "    .dataframe tbody tr th:only-of-type {\n",
       "        vertical-align: middle;\n",
       "    }\n",
       "\n",
       "    .dataframe tbody tr th {\n",
       "        vertical-align: top;\n",
       "    }\n",
       "\n",
       "    .dataframe thead th {\n",
       "        text-align: right;\n",
       "    }\n",
       "</style>\n",
       "<table border=\"1\" class=\"dataframe\">\n",
       "  <thead>\n",
       "    <tr style=\"text-align: right;\">\n",
       "      <th></th>\n",
       "      <th>Hotel_Name</th>\n",
       "      <th>Hotel_Address</th>\n",
       "      <th>Review_Count</th>\n",
       "      <th>Non_Review_Scoring_Count</th>\n",
       "      <th>Average_Hotel_Score</th>\n",
       "      <th>Review_Date</th>\n",
       "      <th>Reviewer_Nationality</th>\n",
       "      <th>Positive_Comments</th>\n",
       "      <th>Negative_Comments</th>\n",
       "      <th>Total_Reviewer_Reviews</th>\n",
       "      <th>Reviewer_Score</th>\n",
       "      <th>Tags</th>\n",
       "    </tr>\n",
       "  </thead>\n",
       "  <tbody>\n",
       "    <tr>\n",
       "      <th>0</th>\n",
       "      <td>Hotel Arena</td>\n",
       "      <td>s Gravesandestraat 55 Oost 1092 AA Amsterdam ...</td>\n",
       "      <td>1403</td>\n",
       "      <td>194</td>\n",
       "      <td>7.7</td>\n",
       "      <td>2017-07-17</td>\n",
       "      <td>United Kingdom</td>\n",
       "      <td>Good location Set in a lovely park friendly s...</td>\n",
       "      <td>Apart from the price for the brekfast Everyth...</td>\n",
       "      <td>1</td>\n",
       "      <td>10.0</td>\n",
       "      <td>[' Leisure trip ', ' Couple ', ' Duplex Double...</td>\n",
       "    </tr>\n",
       "    <tr>\n",
       "      <th>1</th>\n",
       "      <td>Hotel Arena</td>\n",
       "      <td>s Gravesandestraat 55 Oost 1092 AA Amsterdam ...</td>\n",
       "      <td>1403</td>\n",
       "      <td>194</td>\n",
       "      <td>7.7</td>\n",
       "      <td>2017-07-07</td>\n",
       "      <td>United Kingdom</td>\n",
       "      <td>Rooms were stunningly decorated and really sp...</td>\n",
       "      <td>Nothing all great</td>\n",
       "      <td>2</td>\n",
       "      <td>10.0</td>\n",
       "      <td>[' Leisure trip ', ' Group ', ' Duplex Double ...</td>\n",
       "    </tr>\n",
       "    <tr>\n",
       "      <th>2</th>\n",
       "      <td>Hotel Arena</td>\n",
       "      <td>s Gravesandestraat 55 Oost 1092 AA Amsterdam ...</td>\n",
       "      <td>1403</td>\n",
       "      <td>194</td>\n",
       "      <td>7.7</td>\n",
       "      <td>2017-07-03</td>\n",
       "      <td>Italy</td>\n",
       "      <td>This hotel is awesome I took it sincirely bec...</td>\n",
       "      <td>No Negative</td>\n",
       "      <td>26</td>\n",
       "      <td>10.0</td>\n",
       "      <td>[' Leisure trip ', ' Couple ', ' Duplex Double...</td>\n",
       "    </tr>\n",
       "  </tbody>\n",
       "</table>\n",
       "</div>\n",
       "      <button class=\"colab-df-convert\" onclick=\"convertToInteractive('df-36b076f4-4964-44ea-a663-06974505e858')\"\n",
       "              title=\"Convert this dataframe to an interactive table.\"\n",
       "              style=\"display:none;\">\n",
       "        \n",
       "  <svg xmlns=\"http://www.w3.org/2000/svg\" height=\"24px\"viewBox=\"0 0 24 24\"\n",
       "       width=\"24px\">\n",
       "    <path d=\"M0 0h24v24H0V0z\" fill=\"none\"/>\n",
       "    <path d=\"M18.56 5.44l.94 2.06.94-2.06 2.06-.94-2.06-.94-.94-2.06-.94 2.06-2.06.94zm-11 1L8.5 8.5l.94-2.06 2.06-.94-2.06-.94L8.5 2.5l-.94 2.06-2.06.94zm10 10l.94 2.06.94-2.06 2.06-.94-2.06-.94-.94-2.06-.94 2.06-2.06.94z\"/><path d=\"M17.41 7.96l-1.37-1.37c-.4-.4-.92-.59-1.43-.59-.52 0-1.04.2-1.43.59L10.3 9.45l-7.72 7.72c-.78.78-.78 2.05 0 2.83L4 21.41c.39.39.9.59 1.41.59.51 0 1.02-.2 1.41-.59l7.78-7.78 2.81-2.81c.8-.78.8-2.07 0-2.86zM5.41 20L4 18.59l7.72-7.72 1.47 1.35L5.41 20z\"/>\n",
       "  </svg>\n",
       "      </button>\n",
       "      \n",
       "  <style>\n",
       "    .colab-df-container {\n",
       "      display:flex;\n",
       "      flex-wrap:wrap;\n",
       "      gap: 12px;\n",
       "    }\n",
       "\n",
       "    .colab-df-convert {\n",
       "      background-color: #E8F0FE;\n",
       "      border: none;\n",
       "      border-radius: 50%;\n",
       "      cursor: pointer;\n",
       "      display: none;\n",
       "      fill: #1967D2;\n",
       "      height: 32px;\n",
       "      padding: 0 0 0 0;\n",
       "      width: 32px;\n",
       "    }\n",
       "\n",
       "    .colab-df-convert:hover {\n",
       "      background-color: #E2EBFA;\n",
       "      box-shadow: 0px 1px 2px rgba(60, 64, 67, 0.3), 0px 1px 3px 1px rgba(60, 64, 67, 0.15);\n",
       "      fill: #174EA6;\n",
       "    }\n",
       "\n",
       "    [theme=dark] .colab-df-convert {\n",
       "      background-color: #3B4455;\n",
       "      fill: #D2E3FC;\n",
       "    }\n",
       "\n",
       "    [theme=dark] .colab-df-convert:hover {\n",
       "      background-color: #434B5C;\n",
       "      box-shadow: 0px 1px 3px 1px rgba(0, 0, 0, 0.15);\n",
       "      filter: drop-shadow(0px 1px 2px rgba(0, 0, 0, 0.3));\n",
       "      fill: #FFFFFF;\n",
       "    }\n",
       "  </style>\n",
       "\n",
       "      <script>\n",
       "        const buttonEl =\n",
       "          document.querySelector('#df-36b076f4-4964-44ea-a663-06974505e858 button.colab-df-convert');\n",
       "        buttonEl.style.display =\n",
       "          google.colab.kernel.accessAllowed ? 'block' : 'none';\n",
       "\n",
       "        async function convertToInteractive(key) {\n",
       "          const element = document.querySelector('#df-36b076f4-4964-44ea-a663-06974505e858');\n",
       "          const dataTable =\n",
       "            await google.colab.kernel.invokeFunction('convertToInteractive',\n",
       "                                                     [key], {});\n",
       "          if (!dataTable) return;\n",
       "\n",
       "          const docLinkHtml = 'Like what you see? Visit the ' +\n",
       "            '<a target=\"_blank\" href=https://colab.research.google.com/notebooks/data_table.ipynb>data table notebook</a>'\n",
       "            + ' to learn more about interactive tables.';\n",
       "          element.innerHTML = '';\n",
       "          dataTable['output_type'] = 'display_data';\n",
       "          await google.colab.output.renderOutput(dataTable, element);\n",
       "          const docLink = document.createElement('div');\n",
       "          docLink.innerHTML = docLinkHtml;\n",
       "          element.appendChild(docLink);\n",
       "        }\n",
       "      </script>\n",
       "    </div>\n",
       "  </div>\n",
       "  "
      ],
      "text/plain": [
       "    Hotel_Name                                      Hotel_Address  \\\n",
       "0  Hotel Arena   s Gravesandestraat 55 Oost 1092 AA Amsterdam ...   \n",
       "1  Hotel Arena   s Gravesandestraat 55 Oost 1092 AA Amsterdam ...   \n",
       "2  Hotel Arena   s Gravesandestraat 55 Oost 1092 AA Amsterdam ...   \n",
       "\n",
       "   Review_Count  Non_Review_Scoring_Count  Average_Hotel_Score Review_Date  \\\n",
       "0          1403                       194                  7.7  2017-07-17   \n",
       "1          1403                       194                  7.7  2017-07-07   \n",
       "2          1403                       194                  7.7  2017-07-03   \n",
       "\n",
       "  Reviewer_Nationality                                  Positive_Comments  \\\n",
       "0      United Kingdom    Good location Set in a lovely park friendly s...   \n",
       "1      United Kingdom    Rooms were stunningly decorated and really sp...   \n",
       "2               Italy    This hotel is awesome I took it sincirely bec...   \n",
       "\n",
       "                                   Negative_Comments  Total_Reviewer_Reviews  \\\n",
       "0   Apart from the price for the brekfast Everyth...                       1   \n",
       "1                                 Nothing all great                        2   \n",
       "2                                        No Negative                      26   \n",
       "\n",
       "   Reviewer_Score                                               Tags  \n",
       "0            10.0  [' Leisure trip ', ' Couple ', ' Duplex Double...  \n",
       "1            10.0  [' Leisure trip ', ' Group ', ' Duplex Double ...  \n",
       "2            10.0  [' Leisure trip ', ' Couple ', ' Duplex Double...  "
      ]
     },
     "execution_count": 10,
     "metadata": {},
     "output_type": "execute_result"
    }
   ],
   "source": [
    "booking_df.head(3)"
   ]
  },
  {
   "cell_type": "code",
   "execution_count": 11,
   "metadata": {
    "id": "K2-G_ZtTw4qZ"
   },
   "outputs": [],
   "source": [
    "booking_df['Positive_Comments'] = booking_df['Positive_Comments'].astype(str)\n",
    "booking_df['Negative_Comments'] = booking_df['Negative_Comments'].astype(str)\n",
    "positive_comments_total=''.join(booking_df['Positive_Comments']).lower()\n",
    "negative_comments_total=''.join(booking_df['Negative_Comments']).lower()"
   ]
  },
  {
   "cell_type": "code",
   "execution_count": 12,
   "metadata": {
    "colab": {
     "base_uri": "https://localhost:8080/"
    },
    "id": "6hVe18MRoWlt",
    "outputId": "49f4485a-230d-49c6-f160-26d01106e16a"
   },
   "outputs": [
    {
     "data": {
      "text/plain": [
       "179"
      ]
     },
     "execution_count": 12,
     "metadata": {},
     "output_type": "execute_result"
    }
   ],
   "source": [
    "nltkStopwords = nltk.corpus.stopwords.words('english')\n",
    "len(nltkStopwords)"
   ]
  },
  {
   "cell_type": "code",
   "execution_count": 13,
   "metadata": {
    "id": "g6AK100iyr1p"
   },
   "outputs": [],
   "source": [
    "lemmatizer = nltk.stem.WordNetLemmatizer()\n",
    "def tokenizeCleanLemmatizeWords(data):\n",
    "  nltkWords = nltk.tokenize.word_tokenize(data)\n",
    "  nltkCleanWords = [w for w in nltkWords if w.isalnum()]\n",
    "  nltkCleanWords = [w.lower() for w in nltkCleanWords if w not in nltkStopwords]\n",
    "  return [lemmatizer.lemmatize(w) for w in nltkCleanWords]"
   ]
  },
  {
   "cell_type": "code",
   "execution_count": 14,
   "metadata": {
    "colab": {
     "base_uri": "https://localhost:8080/"
    },
    "id": "OfFHddqgzxF9",
    "outputId": "0c7f6d62-da5c-4654-8e5c-e6fca8b56a74"
   },
   "outputs": [
    {
     "data": {
      "text/plain": [
       "14"
      ]
     },
     "execution_count": 14,
     "metadata": {},
     "output_type": "execute_result"
    }
   ],
   "source": [
    "len(tokenizeCleanLemmatizeWords(booking_df['Positive_Comments'][0]))"
   ]
  },
  {
   "cell_type": "code",
   "execution_count": 15,
   "metadata": {
    "id": "y5JPyhyObIg-"
   },
   "outputs": [],
   "source": [
    "booking_df['pos_cleaned'] = booking_df['Positive_Comments'].apply(lambda x: tokenizeCleanLemmatizeWords(x))\n"
   ]
  },
  {
   "cell_type": "code",
   "execution_count": 16,
   "metadata": {
    "id": "zIBS8gPLbhtB"
   },
   "outputs": [],
   "source": [
    "booking_df['neg_cleaned'] = booking_df['Negative_Comments'].apply(lambda x: tokenizeCleanLemmatizeWords(x))\n"
   ]
  },
  {
   "cell_type": "code",
   "execution_count": 17,
   "metadata": {
    "colab": {
     "base_uri": "https://localhost:8080/",
     "height": 485
    },
    "id": "pn3kTdWjc0mQ",
    "outputId": "0a8f062b-e8b5-43ac-afd1-07b06714408e"
   },
   "outputs": [
    {
     "data": {
      "text/html": [
       "\n",
       "  <div id=\"df-2546c0d9-e50b-4559-86e5-31b7133ecd19\">\n",
       "    <div class=\"colab-df-container\">\n",
       "      <div>\n",
       "<style scoped>\n",
       "    .dataframe tbody tr th:only-of-type {\n",
       "        vertical-align: middle;\n",
       "    }\n",
       "\n",
       "    .dataframe tbody tr th {\n",
       "        vertical-align: top;\n",
       "    }\n",
       "\n",
       "    .dataframe thead th {\n",
       "        text-align: right;\n",
       "    }\n",
       "</style>\n",
       "<table border=\"1\" class=\"dataframe\">\n",
       "  <thead>\n",
       "    <tr style=\"text-align: right;\">\n",
       "      <th></th>\n",
       "      <th>Hotel_Name</th>\n",
       "      <th>Hotel_Address</th>\n",
       "      <th>Review_Count</th>\n",
       "      <th>Non_Review_Scoring_Count</th>\n",
       "      <th>Average_Hotel_Score</th>\n",
       "      <th>Review_Date</th>\n",
       "      <th>Reviewer_Nationality</th>\n",
       "      <th>Positive_Comments</th>\n",
       "      <th>Negative_Comments</th>\n",
       "      <th>Total_Reviewer_Reviews</th>\n",
       "      <th>Reviewer_Score</th>\n",
       "      <th>Tags</th>\n",
       "      <th>pos_cleaned</th>\n",
       "      <th>neg_cleaned</th>\n",
       "    </tr>\n",
       "  </thead>\n",
       "  <tbody>\n",
       "    <tr>\n",
       "      <th>0</th>\n",
       "      <td>Hotel Arena</td>\n",
       "      <td>s Gravesandestraat 55 Oost 1092 AA Amsterdam ...</td>\n",
       "      <td>1403</td>\n",
       "      <td>194</td>\n",
       "      <td>7.7</td>\n",
       "      <td>2017-07-17</td>\n",
       "      <td>United Kingdom</td>\n",
       "      <td>Good location Set in a lovely park friendly s...</td>\n",
       "      <td>Apart from the price for the brekfast Everyth...</td>\n",
       "      <td>1</td>\n",
       "      <td>10.0</td>\n",
       "      <td>[' Leisure trip ', ' Couple ', ' Duplex Double...</td>\n",
       "      <td>[good, location, set, lovely, park, friendly, ...</td>\n",
       "      <td>[apart, price, brekfast, everything, good]</td>\n",
       "    </tr>\n",
       "    <tr>\n",
       "      <th>1</th>\n",
       "      <td>Hotel Arena</td>\n",
       "      <td>s Gravesandestraat 55 Oost 1092 AA Amsterdam ...</td>\n",
       "      <td>1403</td>\n",
       "      <td>194</td>\n",
       "      <td>7.7</td>\n",
       "      <td>2017-07-07</td>\n",
       "      <td>United Kingdom</td>\n",
       "      <td>Rooms were stunningly decorated and really sp...</td>\n",
       "      <td>Nothing all great</td>\n",
       "      <td>2</td>\n",
       "      <td>10.0</td>\n",
       "      <td>[' Leisure trip ', ' Group ', ' Duplex Double ...</td>\n",
       "      <td>[room, stunningly, decorated, really, spacious...</td>\n",
       "      <td>[nothing, great]</td>\n",
       "    </tr>\n",
       "    <tr>\n",
       "      <th>2</th>\n",
       "      <td>Hotel Arena</td>\n",
       "      <td>s Gravesandestraat 55 Oost 1092 AA Amsterdam ...</td>\n",
       "      <td>1403</td>\n",
       "      <td>194</td>\n",
       "      <td>7.7</td>\n",
       "      <td>2017-07-03</td>\n",
       "      <td>Italy</td>\n",
       "      <td>This hotel is awesome I took it sincirely bec...</td>\n",
       "      <td>No Negative</td>\n",
       "      <td>26</td>\n",
       "      <td>10.0</td>\n",
       "      <td>[' Leisure trip ', ' Couple ', ' Duplex Double...</td>\n",
       "      <td>[this, hotel, awesome, i, took, sincirely, bit...</td>\n",
       "      <td>[no, negative]</td>\n",
       "    </tr>\n",
       "  </tbody>\n",
       "</table>\n",
       "</div>\n",
       "      <button class=\"colab-df-convert\" onclick=\"convertToInteractive('df-2546c0d9-e50b-4559-86e5-31b7133ecd19')\"\n",
       "              title=\"Convert this dataframe to an interactive table.\"\n",
       "              style=\"display:none;\">\n",
       "        \n",
       "  <svg xmlns=\"http://www.w3.org/2000/svg\" height=\"24px\"viewBox=\"0 0 24 24\"\n",
       "       width=\"24px\">\n",
       "    <path d=\"M0 0h24v24H0V0z\" fill=\"none\"/>\n",
       "    <path d=\"M18.56 5.44l.94 2.06.94-2.06 2.06-.94-2.06-.94-.94-2.06-.94 2.06-2.06.94zm-11 1L8.5 8.5l.94-2.06 2.06-.94-2.06-.94L8.5 2.5l-.94 2.06-2.06.94zm10 10l.94 2.06.94-2.06 2.06-.94-2.06-.94-.94-2.06-.94 2.06-2.06.94z\"/><path d=\"M17.41 7.96l-1.37-1.37c-.4-.4-.92-.59-1.43-.59-.52 0-1.04.2-1.43.59L10.3 9.45l-7.72 7.72c-.78.78-.78 2.05 0 2.83L4 21.41c.39.39.9.59 1.41.59.51 0 1.02-.2 1.41-.59l7.78-7.78 2.81-2.81c.8-.78.8-2.07 0-2.86zM5.41 20L4 18.59l7.72-7.72 1.47 1.35L5.41 20z\"/>\n",
       "  </svg>\n",
       "      </button>\n",
       "      \n",
       "  <style>\n",
       "    .colab-df-container {\n",
       "      display:flex;\n",
       "      flex-wrap:wrap;\n",
       "      gap: 12px;\n",
       "    }\n",
       "\n",
       "    .colab-df-convert {\n",
       "      background-color: #E8F0FE;\n",
       "      border: none;\n",
       "      border-radius: 50%;\n",
       "      cursor: pointer;\n",
       "      display: none;\n",
       "      fill: #1967D2;\n",
       "      height: 32px;\n",
       "      padding: 0 0 0 0;\n",
       "      width: 32px;\n",
       "    }\n",
       "\n",
       "    .colab-df-convert:hover {\n",
       "      background-color: #E2EBFA;\n",
       "      box-shadow: 0px 1px 2px rgba(60, 64, 67, 0.3), 0px 1px 3px 1px rgba(60, 64, 67, 0.15);\n",
       "      fill: #174EA6;\n",
       "    }\n",
       "\n",
       "    [theme=dark] .colab-df-convert {\n",
       "      background-color: #3B4455;\n",
       "      fill: #D2E3FC;\n",
       "    }\n",
       "\n",
       "    [theme=dark] .colab-df-convert:hover {\n",
       "      background-color: #434B5C;\n",
       "      box-shadow: 0px 1px 3px 1px rgba(0, 0, 0, 0.15);\n",
       "      filter: drop-shadow(0px 1px 2px rgba(0, 0, 0, 0.3));\n",
       "      fill: #FFFFFF;\n",
       "    }\n",
       "  </style>\n",
       "\n",
       "      <script>\n",
       "        const buttonEl =\n",
       "          document.querySelector('#df-2546c0d9-e50b-4559-86e5-31b7133ecd19 button.colab-df-convert');\n",
       "        buttonEl.style.display =\n",
       "          google.colab.kernel.accessAllowed ? 'block' : 'none';\n",
       "\n",
       "        async function convertToInteractive(key) {\n",
       "          const element = document.querySelector('#df-2546c0d9-e50b-4559-86e5-31b7133ecd19');\n",
       "          const dataTable =\n",
       "            await google.colab.kernel.invokeFunction('convertToInteractive',\n",
       "                                                     [key], {});\n",
       "          if (!dataTable) return;\n",
       "\n",
       "          const docLinkHtml = 'Like what you see? Visit the ' +\n",
       "            '<a target=\"_blank\" href=https://colab.research.google.com/notebooks/data_table.ipynb>data table notebook</a>'\n",
       "            + ' to learn more about interactive tables.';\n",
       "          element.innerHTML = '';\n",
       "          dataTable['output_type'] = 'display_data';\n",
       "          await google.colab.output.renderOutput(dataTable, element);\n",
       "          const docLink = document.createElement('div');\n",
       "          docLink.innerHTML = docLinkHtml;\n",
       "          element.appendChild(docLink);\n",
       "        }\n",
       "      </script>\n",
       "    </div>\n",
       "  </div>\n",
       "  "
      ],
      "text/plain": [
       "    Hotel_Name                                      Hotel_Address  \\\n",
       "0  Hotel Arena   s Gravesandestraat 55 Oost 1092 AA Amsterdam ...   \n",
       "1  Hotel Arena   s Gravesandestraat 55 Oost 1092 AA Amsterdam ...   \n",
       "2  Hotel Arena   s Gravesandestraat 55 Oost 1092 AA Amsterdam ...   \n",
       "\n",
       "   Review_Count  Non_Review_Scoring_Count  Average_Hotel_Score Review_Date  \\\n",
       "0          1403                       194                  7.7  2017-07-17   \n",
       "1          1403                       194                  7.7  2017-07-07   \n",
       "2          1403                       194                  7.7  2017-07-03   \n",
       "\n",
       "  Reviewer_Nationality                                  Positive_Comments  \\\n",
       "0      United Kingdom    Good location Set in a lovely park friendly s...   \n",
       "1      United Kingdom    Rooms were stunningly decorated and really sp...   \n",
       "2               Italy    This hotel is awesome I took it sincirely bec...   \n",
       "\n",
       "                                   Negative_Comments  Total_Reviewer_Reviews  \\\n",
       "0   Apart from the price for the brekfast Everyth...                       1   \n",
       "1                                 Nothing all great                        2   \n",
       "2                                        No Negative                      26   \n",
       "\n",
       "   Reviewer_Score                                               Tags  \\\n",
       "0            10.0  [' Leisure trip ', ' Couple ', ' Duplex Double...   \n",
       "1            10.0  [' Leisure trip ', ' Group ', ' Duplex Double ...   \n",
       "2            10.0  [' Leisure trip ', ' Couple ', ' Duplex Double...   \n",
       "\n",
       "                                         pos_cleaned  \\\n",
       "0  [good, location, set, lovely, park, friendly, ...   \n",
       "1  [room, stunningly, decorated, really, spacious...   \n",
       "2  [this, hotel, awesome, i, took, sincirely, bit...   \n",
       "\n",
       "                                  neg_cleaned  \n",
       "0  [apart, price, brekfast, everything, good]  \n",
       "1                            [nothing, great]  \n",
       "2                              [no, negative]  "
      ]
     },
     "execution_count": 17,
     "metadata": {},
     "output_type": "execute_result"
    }
   ],
   "source": [
    "booking_df.head(3)"
   ]
  },
  {
   "cell_type": "code",
   "execution_count": 18,
   "metadata": {
    "id": "NiHP0xRVfAZd"
   },
   "outputs": [],
   "source": [
    "def getNounFeatures(data):\n",
    "  nltkPos = nltk.pos_tag(data, tagset='universal')\n",
    "  pattern = 'NP: {<DT>?<JJ>*<NN>}'\n",
    "  parser = nltk.RegexpParser(pattern)\n",
    "  nltkParsed = parser.parse(nltkPos)\n",
    "  #print(nltkParsed)\n",
    "  word, pos = zip(*nltkParsed)\n",
    "  nltkNouns = []\n",
    "  for i, w in enumerate(word):\n",
    "    if pos[i] == 'NOUN' and len(w)>2:\n",
    "      nltkNouns.append(word[i])\n",
    "  return nltkNouns"
   ]
  },
  {
   "cell_type": "markdown",
   "metadata": {
    "id": "KgHCaADJuJE2"
   },
   "source": [
    "## Top five hotel features (e.g., location, staff, etc.) that customers mention the most in positive reviews and top five features they mention most in negative reviews? Your identified features must make sense (e.g., \"great\" or \"negative\" are not features)"
   ]
  },
  {
   "cell_type": "code",
   "execution_count": 19,
   "metadata": {
    "colab": {
     "base_uri": "https://localhost:8080/"
    },
    "id": "_pHIcNRjwr7N",
    "outputId": "5b46b1c3-d00c-4b8a-b893-0dae65ceb791"
   },
   "outputs": [
    {
     "data": {
      "text/plain": [
       "0    [good, location, set, lovely, park, friendly, ...\n",
       "1    [room, stunningly, decorated, really, spacious...\n",
       "2    [this, hotel, awesome, i, took, sincirely, bit...\n",
       "Name: pos_cleaned, dtype: object"
      ]
     },
     "execution_count": 19,
     "metadata": {},
     "output_type": "execute_result"
    }
   ],
   "source": [
    "booking_df['pos_cleaned'].head(3)"
   ]
  },
  {
   "cell_type": "code",
   "execution_count": 20,
   "metadata": {
    "id": "K3lPLkjrs7-k"
   },
   "outputs": [],
   "source": [
    "total_positive=[]\n",
    "for row in booking_df['pos_cleaned']:\n",
    "  for w in row:\n",
    "    total_positive.append(w)"
   ]
  },
  {
   "cell_type": "code",
   "execution_count": 21,
   "metadata": {
    "id": "N4Dzbh8ju6ks"
   },
   "outputs": [],
   "source": [
    "total_negative=[]\n",
    "for row in booking_df['neg_cleaned']:\n",
    "  for w in row:\n",
    "    total_negative.append(w)\n"
   ]
  },
  {
   "cell_type": "code",
   "execution_count": 22,
   "metadata": {
    "id": "j0Yi94WEvXim"
   },
   "outputs": [],
   "source": [
    "def getTop5(data,num):\n",
    "  total_freq=[i  for i, w in Counter(data).most_common(num)]\n",
    "  unique_pos=getNounFeatures(list(set(data)))\n",
    "  return [w for w in total_freq if w in unique_pos][0:5]\n",
    "\n"
   ]
  },
  {
   "cell_type": "markdown",
   "metadata": {
    "id": "GEVf_VNLJYRx"
   },
   "source": [
    "**top five hotel features in positive reviews**"
   ]
  },
  {
   "cell_type": "code",
   "execution_count": 23,
   "metadata": {
    "colab": {
     "base_uri": "https://localhost:8080/"
    },
    "id": "H8uTo7YhvE-H",
    "outputId": "47ad985d-668a-4f7c-9a0e-18b6df13fc62"
   },
   "outputs": [
    {
     "data": {
      "text/plain": [
       "['staff', 'location', 'room', 'hotel', 'breakfast']"
      ]
     },
     "execution_count": 23,
     "metadata": {},
     "output_type": "execute_result"
    }
   ],
   "source": [
    "getTop5(total_positive,50)"
   ]
  },
  {
   "cell_type": "markdown",
   "metadata": {
    "id": "BiBwFKT9JgY6"
   },
   "source": [
    "**top five hotel features in negative reviews**"
   ]
  },
  {
   "cell_type": "code",
   "execution_count": 24,
   "metadata": {
    "colab": {
     "base_uri": "https://localhost:8080/"
    },
    "id": "FeMO9nj74lrc",
    "outputId": "ec404ac6-b767-4f36-d572-2d67f74f6cb1"
   },
   "outputs": [
    {
     "data": {
      "text/plain": [
       "['room', 'hotel', 'breakfast', 'staff', 'nothing']"
      ]
     },
     "execution_count": 24,
     "metadata": {},
     "output_type": "execute_result"
    }
   ],
   "source": [
    "getTop5(total_negative,50)"
   ]
  },
  {
   "cell_type": "markdown",
   "metadata": {
    "id": "23r32k-eAsZd"
   },
   "source": [
    "# What are the top five features that customers prefer most if they are a solo traveler vs traveling with a group vs on a business trip vs a leisure trip vs traveling as a couple vs a family with young children. "
   ]
  },
  {
   "cell_type": "code",
   "execution_count": 25,
   "metadata": {
    "id": "NjLwTSqNAs_i"
   },
   "outputs": [],
   "source": [
    "booking_df['Tags']=booking_df['Tags'].str.lower()\n",
    "business_trip_df= booking_df[booking_df['Tags'].str.contains('business trip')]\n",
    "leisure_trip_df= booking_df[booking_df['Tags'].str.contains('leisure trip')]\n",
    "solo_trip_df= booking_df[booking_df['Tags'].str.contains('solo traveler')]\n",
    "couple_trip_df= booking_df[booking_df['Tags'].str.contains('couple')]\n",
    "family_trip_df= booking_df[booking_df['Tags'].str.contains('family with young children')]"
   ]
  },
  {
   "cell_type": "code",
   "execution_count": 26,
   "metadata": {
    "colab": {
     "base_uri": "https://localhost:8080/"
    },
    "id": "Qwe4nPvR04lZ",
    "outputId": "74ce93f8-cf20-4e88-b3de-a48570f1c667"
   },
   "outputs": [
    {
     "name": "stdout",
     "output_type": "stream",
     "text": [
      "82939 417778 108545 252294 61015\n"
     ]
    }
   ],
   "source": [
    "print(len(business_trip_df),len(leisure_trip_df),len(solo_trip_df),len(couple_trip_df),len(family_trip_df))"
   ]
  },
  {
   "cell_type": "code",
   "execution_count": 27,
   "metadata": {
    "id": "LJQJWuQG1ZgI"
   },
   "outputs": [],
   "source": [
    "def getTopFeatures(data):\n",
    "  total_positive=[]\n",
    "  for row in data:\n",
    "    for w in row:\n",
    "      total_positive.append(w)\n",
    "  return getTop5(total_positive,50)"
   ]
  },
  {
   "cell_type": "markdown",
   "metadata": {
    "id": "FcLaCAsJJl1S"
   },
   "source": [
    "## top five features that customers prefer most if they are a business_trip"
   ]
  },
  {
   "cell_type": "code",
   "execution_count": 28,
   "metadata": {
    "colab": {
     "base_uri": "https://localhost:8080/"
    },
    "id": "Ht8TOps85F5O",
    "outputId": "6f39622d-36a1-4047-c0b3-f2bda6dfb431"
   },
   "outputs": [
    {
     "data": {
      "text/plain": [
       "['location', 'room', 'staff', 'service', 'station']"
      ]
     },
     "execution_count": 28,
     "metadata": {},
     "output_type": "execute_result"
    }
   ],
   "source": [
    "getTopFeatures(business_trip_df['pos_cleaned'])"
   ]
  },
  {
   "cell_type": "markdown",
   "metadata": {
    "id": "oSY0Lo3XJrE0"
   },
   "source": [
    "## top five features that customers prefer most if they are a leisure_trip"
   ]
  },
  {
   "cell_type": "code",
   "execution_count": 29,
   "metadata": {
    "colab": {
     "base_uri": "https://localhost:8080/"
    },
    "id": "7a3k-fmd5S2q",
    "outputId": "65dff87e-bb3a-43ee-c55a-3da95ddfea11"
   },
   "outputs": [
    {
     "data": {
      "text/plain": [
       "['staff', 'location', 'room', 'hotel', 'breakfast']"
      ]
     },
     "execution_count": 29,
     "metadata": {},
     "output_type": "execute_result"
    }
   ],
   "source": [
    "getTopFeatures(leisure_trip_df['pos_cleaned'])"
   ]
  },
  {
   "cell_type": "markdown",
   "metadata": {
    "id": "psMuKjyiJvaL"
   },
   "source": [
    "## top five features that customers prefer most if they are a solo trip"
   ]
  },
  {
   "cell_type": "code",
   "execution_count": 30,
   "metadata": {
    "colab": {
     "base_uri": "https://localhost:8080/"
    },
    "id": "0adZT-ow5UFJ",
    "outputId": "2f704652-e54e-4ea5-909d-f56145529312"
   },
   "outputs": [
    {
     "data": {
      "text/plain": [
       "['location', 'room', 'staff', 'hotel', 'breakfast']"
      ]
     },
     "execution_count": 30,
     "metadata": {},
     "output_type": "execute_result"
    }
   ],
   "source": [
    "getTopFeatures(solo_trip_df['pos_cleaned'])"
   ]
  },
  {
   "cell_type": "markdown",
   "metadata": {
    "id": "mZDQCicRJyY6"
   },
   "source": [
    "## top five features that customers prefer most if they are a couple_trip"
   ]
  },
  {
   "cell_type": "code",
   "execution_count": 31,
   "metadata": {
    "colab": {
     "base_uri": "https://localhost:8080/"
    },
    "id": "XEbmCcQ_5T85",
    "outputId": "a4971087-ec99-46db-f5ce-8436e607e336"
   },
   "outputs": [
    {
     "data": {
      "text/plain": [
       "['staff', 'location', 'room', 'hotel', 'breakfast']"
      ]
     },
     "execution_count": 31,
     "metadata": {},
     "output_type": "execute_result"
    }
   ],
   "source": [
    "getTopFeatures(couple_trip_df['pos_cleaned'])"
   ]
  },
  {
   "cell_type": "markdown",
   "metadata": {
    "id": "hERtV4djJ1Lz"
   },
   "source": [
    "## top five features that customers prefer most if they are a family_trip"
   ]
  },
  {
   "cell_type": "code",
   "execution_count": 32,
   "metadata": {
    "colab": {
     "base_uri": "https://localhost:8080/"
    },
    "id": "38wSKu2q5T54",
    "outputId": "e4fa0112-885b-4be4-b291-20e3e9278301"
   },
   "outputs": [
    {
     "data": {
      "text/plain": [
       "['location', 'staff', 'room', 'hotel', 'station']"
      ]
     },
     "execution_count": 32,
     "metadata": {},
     "output_type": "execute_result"
    }
   ],
   "source": [
    "getTopFeatures(family_trip_df['pos_cleaned'])"
   ]
  },
  {
   "cell_type": "markdown",
   "metadata": {
    "id": "CUVgJ5lBTAUG"
   },
   "source": [
    "# Top five features customers like most and top five features they complain about most about hotels in United Kingdom, France, Italy, and Spain? Country information is available inside Hotel_Address"
   ]
  },
  {
   "cell_type": "code",
   "execution_count": 33,
   "metadata": {
    "colab": {
     "base_uri": "https://localhost:8080/",
     "height": 433
    },
    "id": "aT2ySq_lTCV6",
    "outputId": "7d51e965-5be9-4ea0-843d-871a81090547"
   },
   "outputs": [
    {
     "data": {
      "text/html": [
       "\n",
       "  <div id=\"df-7c3c5ac4-d399-4fa4-b22e-59c70b33b636\">\n",
       "    <div class=\"colab-df-container\">\n",
       "      <div>\n",
       "<style scoped>\n",
       "    .dataframe tbody tr th:only-of-type {\n",
       "        vertical-align: middle;\n",
       "    }\n",
       "\n",
       "    .dataframe tbody tr th {\n",
       "        vertical-align: top;\n",
       "    }\n",
       "\n",
       "    .dataframe thead th {\n",
       "        text-align: right;\n",
       "    }\n",
       "</style>\n",
       "<table border=\"1\" class=\"dataframe\">\n",
       "  <thead>\n",
       "    <tr style=\"text-align: right;\">\n",
       "      <th></th>\n",
       "      <th>Hotel_Name</th>\n",
       "      <th>Hotel_Address</th>\n",
       "      <th>Review_Count</th>\n",
       "      <th>Non_Review_Scoring_Count</th>\n",
       "      <th>Average_Hotel_Score</th>\n",
       "      <th>Review_Date</th>\n",
       "      <th>Reviewer_Nationality</th>\n",
       "      <th>Positive_Comments</th>\n",
       "      <th>Negative_Comments</th>\n",
       "      <th>Total_Reviewer_Reviews</th>\n",
       "      <th>Reviewer_Score</th>\n",
       "      <th>Tags</th>\n",
       "      <th>pos_cleaned</th>\n",
       "      <th>neg_cleaned</th>\n",
       "    </tr>\n",
       "  </thead>\n",
       "  <tbody>\n",
       "    <tr>\n",
       "      <th>0</th>\n",
       "      <td>Hotel Arena</td>\n",
       "      <td>s Gravesandestraat 55 Oost 1092 AA Amsterdam ...</td>\n",
       "      <td>1403</td>\n",
       "      <td>194</td>\n",
       "      <td>7.7</td>\n",
       "      <td>2017-07-17</td>\n",
       "      <td>United Kingdom</td>\n",
       "      <td>Good location Set in a lovely park friendly s...</td>\n",
       "      <td>Apart from the price for the brekfast Everyth...</td>\n",
       "      <td>1</td>\n",
       "      <td>10.0</td>\n",
       "      <td>[' leisure trip ', ' couple ', ' duplex double...</td>\n",
       "      <td>[good, location, set, lovely, park, friendly, ...</td>\n",
       "      <td>[apart, price, brekfast, everything, good]</td>\n",
       "    </tr>\n",
       "    <tr>\n",
       "      <th>1</th>\n",
       "      <td>Hotel Arena</td>\n",
       "      <td>s Gravesandestraat 55 Oost 1092 AA Amsterdam ...</td>\n",
       "      <td>1403</td>\n",
       "      <td>194</td>\n",
       "      <td>7.7</td>\n",
       "      <td>2017-07-07</td>\n",
       "      <td>United Kingdom</td>\n",
       "      <td>Rooms were stunningly decorated and really sp...</td>\n",
       "      <td>Nothing all great</td>\n",
       "      <td>2</td>\n",
       "      <td>10.0</td>\n",
       "      <td>[' leisure trip ', ' group ', ' duplex double ...</td>\n",
       "      <td>[room, stunningly, decorated, really, spacious...</td>\n",
       "      <td>[nothing, great]</td>\n",
       "    </tr>\n",
       "    <tr>\n",
       "      <th>2</th>\n",
       "      <td>Hotel Arena</td>\n",
       "      <td>s Gravesandestraat 55 Oost 1092 AA Amsterdam ...</td>\n",
       "      <td>1403</td>\n",
       "      <td>194</td>\n",
       "      <td>7.7</td>\n",
       "      <td>2017-07-03</td>\n",
       "      <td>Italy</td>\n",
       "      <td>This hotel is awesome I took it sincirely bec...</td>\n",
       "      <td>No Negative</td>\n",
       "      <td>26</td>\n",
       "      <td>10.0</td>\n",
       "      <td>[' leisure trip ', ' couple ', ' duplex double...</td>\n",
       "      <td>[this, hotel, awesome, i, took, sincirely, bit...</td>\n",
       "      <td>[no, negative]</td>\n",
       "    </tr>\n",
       "  </tbody>\n",
       "</table>\n",
       "</div>\n",
       "      <button class=\"colab-df-convert\" onclick=\"convertToInteractive('df-7c3c5ac4-d399-4fa4-b22e-59c70b33b636')\"\n",
       "              title=\"Convert this dataframe to an interactive table.\"\n",
       "              style=\"display:none;\">\n",
       "        \n",
       "  <svg xmlns=\"http://www.w3.org/2000/svg\" height=\"24px\"viewBox=\"0 0 24 24\"\n",
       "       width=\"24px\">\n",
       "    <path d=\"M0 0h24v24H0V0z\" fill=\"none\"/>\n",
       "    <path d=\"M18.56 5.44l.94 2.06.94-2.06 2.06-.94-2.06-.94-.94-2.06-.94 2.06-2.06.94zm-11 1L8.5 8.5l.94-2.06 2.06-.94-2.06-.94L8.5 2.5l-.94 2.06-2.06.94zm10 10l.94 2.06.94-2.06 2.06-.94-2.06-.94-.94-2.06-.94 2.06-2.06.94z\"/><path d=\"M17.41 7.96l-1.37-1.37c-.4-.4-.92-.59-1.43-.59-.52 0-1.04.2-1.43.59L10.3 9.45l-7.72 7.72c-.78.78-.78 2.05 0 2.83L4 21.41c.39.39.9.59 1.41.59.51 0 1.02-.2 1.41-.59l7.78-7.78 2.81-2.81c.8-.78.8-2.07 0-2.86zM5.41 20L4 18.59l7.72-7.72 1.47 1.35L5.41 20z\"/>\n",
       "  </svg>\n",
       "      </button>\n",
       "      \n",
       "  <style>\n",
       "    .colab-df-container {\n",
       "      display:flex;\n",
       "      flex-wrap:wrap;\n",
       "      gap: 12px;\n",
       "    }\n",
       "\n",
       "    .colab-df-convert {\n",
       "      background-color: #E8F0FE;\n",
       "      border: none;\n",
       "      border-radius: 50%;\n",
       "      cursor: pointer;\n",
       "      display: none;\n",
       "      fill: #1967D2;\n",
       "      height: 32px;\n",
       "      padding: 0 0 0 0;\n",
       "      width: 32px;\n",
       "    }\n",
       "\n",
       "    .colab-df-convert:hover {\n",
       "      background-color: #E2EBFA;\n",
       "      box-shadow: 0px 1px 2px rgba(60, 64, 67, 0.3), 0px 1px 3px 1px rgba(60, 64, 67, 0.15);\n",
       "      fill: #174EA6;\n",
       "    }\n",
       "\n",
       "    [theme=dark] .colab-df-convert {\n",
       "      background-color: #3B4455;\n",
       "      fill: #D2E3FC;\n",
       "    }\n",
       "\n",
       "    [theme=dark] .colab-df-convert:hover {\n",
       "      background-color: #434B5C;\n",
       "      box-shadow: 0px 1px 3px 1px rgba(0, 0, 0, 0.15);\n",
       "      filter: drop-shadow(0px 1px 2px rgba(0, 0, 0, 0.3));\n",
       "      fill: #FFFFFF;\n",
       "    }\n",
       "  </style>\n",
       "\n",
       "      <script>\n",
       "        const buttonEl =\n",
       "          document.querySelector('#df-7c3c5ac4-d399-4fa4-b22e-59c70b33b636 button.colab-df-convert');\n",
       "        buttonEl.style.display =\n",
       "          google.colab.kernel.accessAllowed ? 'block' : 'none';\n",
       "\n",
       "        async function convertToInteractive(key) {\n",
       "          const element = document.querySelector('#df-7c3c5ac4-d399-4fa4-b22e-59c70b33b636');\n",
       "          const dataTable =\n",
       "            await google.colab.kernel.invokeFunction('convertToInteractive',\n",
       "                                                     [key], {});\n",
       "          if (!dataTable) return;\n",
       "\n",
       "          const docLinkHtml = 'Like what you see? Visit the ' +\n",
       "            '<a target=\"_blank\" href=https://colab.research.google.com/notebooks/data_table.ipynb>data table notebook</a>'\n",
       "            + ' to learn more about interactive tables.';\n",
       "          element.innerHTML = '';\n",
       "          dataTable['output_type'] = 'display_data';\n",
       "          await google.colab.output.renderOutput(dataTable, element);\n",
       "          const docLink = document.createElement('div');\n",
       "          docLink.innerHTML = docLinkHtml;\n",
       "          element.appendChild(docLink);\n",
       "        }\n",
       "      </script>\n",
       "    </div>\n",
       "  </div>\n",
       "  "
      ],
      "text/plain": [
       "    Hotel_Name                                      Hotel_Address  \\\n",
       "0  Hotel Arena   s Gravesandestraat 55 Oost 1092 AA Amsterdam ...   \n",
       "1  Hotel Arena   s Gravesandestraat 55 Oost 1092 AA Amsterdam ...   \n",
       "2  Hotel Arena   s Gravesandestraat 55 Oost 1092 AA Amsterdam ...   \n",
       "\n",
       "   Review_Count  Non_Review_Scoring_Count  Average_Hotel_Score Review_Date  \\\n",
       "0          1403                       194                  7.7  2017-07-17   \n",
       "1          1403                       194                  7.7  2017-07-07   \n",
       "2          1403                       194                  7.7  2017-07-03   \n",
       "\n",
       "  Reviewer_Nationality                                  Positive_Comments  \\\n",
       "0      United Kingdom    Good location Set in a lovely park friendly s...   \n",
       "1      United Kingdom    Rooms were stunningly decorated and really sp...   \n",
       "2               Italy    This hotel is awesome I took it sincirely bec...   \n",
       "\n",
       "                                   Negative_Comments  Total_Reviewer_Reviews  \\\n",
       "0   Apart from the price for the brekfast Everyth...                       1   \n",
       "1                                 Nothing all great                        2   \n",
       "2                                        No Negative                      26   \n",
       "\n",
       "   Reviewer_Score                                               Tags  \\\n",
       "0            10.0  [' leisure trip ', ' couple ', ' duplex double...   \n",
       "1            10.0  [' leisure trip ', ' group ', ' duplex double ...   \n",
       "2            10.0  [' leisure trip ', ' couple ', ' duplex double...   \n",
       "\n",
       "                                         pos_cleaned  \\\n",
       "0  [good, location, set, lovely, park, friendly, ...   \n",
       "1  [room, stunningly, decorated, really, spacious...   \n",
       "2  [this, hotel, awesome, i, took, sincirely, bit...   \n",
       "\n",
       "                                  neg_cleaned  \n",
       "0  [apart, price, brekfast, everything, good]  \n",
       "1                            [nothing, great]  \n",
       "2                              [no, negative]  "
      ]
     },
     "execution_count": 33,
     "metadata": {},
     "output_type": "execute_result"
    }
   ],
   "source": [
    "booking_df.head(3)"
   ]
  },
  {
   "cell_type": "code",
   "execution_count": 34,
   "metadata": {
    "id": "sKtA0zF8TPGz"
   },
   "outputs": [],
   "source": [
    "booking_df['Hotel_Address']=booking_df['Hotel_Address'].str.lower()\n",
    "uk_df= booking_df[booking_df['Hotel_Address'].str.contains('united kingdom')]\n",
    "france_df= booking_df[booking_df['Hotel_Address'].str.contains('france')]\n",
    "italy_df= booking_df[booking_df['Hotel_Address'].str.contains('italy')]\n",
    "spain_df= booking_df[booking_df['Hotel_Address'].str.contains('spain')]"
   ]
  },
  {
   "cell_type": "markdown",
   "metadata": {
    "id": "0gSldbR0KD1D"
   },
   "source": [
    "**top five features customers like most in UK**"
   ]
  },
  {
   "cell_type": "code",
   "execution_count": 35,
   "metadata": {
    "colab": {
     "base_uri": "https://localhost:8080/"
    },
    "id": "byJKF_F2UCFo",
    "outputId": "3daa2c93-7c55-4f13-da20-92ebd12e2653"
   },
   "outputs": [
    {
     "data": {
      "text/plain": [
       "['staff', 'location', 'room', 'hotel', 'breakfast']"
      ]
     },
     "execution_count": 35,
     "metadata": {},
     "output_type": "execute_result"
    }
   ],
   "source": [
    "getTopFeatures(uk_df['pos_cleaned'])"
   ]
  },
  {
   "cell_type": "markdown",
   "metadata": {
    "id": "ZIj8gbFFKJHM"
   },
   "source": [
    "**top five features customers complain in UK**"
   ]
  },
  {
   "cell_type": "code",
   "execution_count": 36,
   "metadata": {
    "colab": {
     "base_uri": "https://localhost:8080/"
    },
    "id": "uiSfnOhmULWS",
    "outputId": "106bced8-77cf-49b2-92f7-0eb5afc744a2"
   },
   "outputs": [
    {
     "data": {
      "text/plain": [
       "['room', 'hotel', 'breakfast', 'staff', 'nothing']"
      ]
     },
     "execution_count": 36,
     "metadata": {},
     "output_type": "execute_result"
    }
   ],
   "source": [
    "getTopFeatures(uk_df['neg_cleaned'])"
   ]
  },
  {
   "cell_type": "markdown",
   "metadata": {
    "id": "fFIxZUlcKOZE"
   },
   "source": [
    "**top five features customers like most in france**"
   ]
  },
  {
   "cell_type": "code",
   "execution_count": 37,
   "metadata": {
    "colab": {
     "base_uri": "https://localhost:8080/"
    },
    "id": "QTU7XHpPUQM2",
    "outputId": "7d3ef053-e200-4645-d203-5f53a56a3f41"
   },
   "outputs": [
    {
     "data": {
      "text/plain": [
       "['location', 'staff', 'room', 'hotel', 'metro']"
      ]
     },
     "execution_count": 37,
     "metadata": {},
     "output_type": "execute_result"
    }
   ],
   "source": [
    "getTopFeatures(france_df['pos_cleaned'])"
   ]
  },
  {
   "cell_type": "markdown",
   "metadata": {
    "id": "l5yQ4xHDKQnL"
   },
   "source": [
    "**top five features customers  complain in france**"
   ]
  },
  {
   "cell_type": "code",
   "execution_count": 38,
   "metadata": {
    "colab": {
     "base_uri": "https://localhost:8080/"
    },
    "id": "8inGsBD7UQGw",
    "outputId": "1ca42ad1-b1f0-45a5-9221-fd19280bb570"
   },
   "outputs": [
    {
     "data": {
      "text/plain": [
       "['room', 'hotel', 'breakfast', 'nothing', 'staff']"
      ]
     },
     "execution_count": 38,
     "metadata": {},
     "output_type": "execute_result"
    }
   ],
   "source": [
    "getTopFeatures(france_df['neg_cleaned'])"
   ]
  },
  {
   "cell_type": "markdown",
   "metadata": {
    "id": "SwHg7tYhKVNS"
   },
   "source": [
    "**top five features customers like most in Italy**"
   ]
  },
  {
   "cell_type": "code",
   "execution_count": 39,
   "metadata": {
    "colab": {
     "base_uri": "https://localhost:8080/"
    },
    "id": "f3v5kwx7UQBC",
    "outputId": "8ba7d9e2-443e-4a63-86d6-d35a53f068ac"
   },
   "outputs": [
    {
     "data": {
      "text/plain": [
       "['location', 'room', 'staff', 'hotel', 'station']"
      ]
     },
     "execution_count": 39,
     "metadata": {},
     "output_type": "execute_result"
    }
   ],
   "source": [
    "getTopFeatures(italy_df['pos_cleaned'])"
   ]
  },
  {
   "cell_type": "markdown",
   "metadata": {
    "id": "_pEjK0wEKY8g"
   },
   "source": [
    "**top five features customers complain in Italy**"
   ]
  },
  {
   "cell_type": "code",
   "execution_count": 40,
   "metadata": {
    "colab": {
     "base_uri": "https://localhost:8080/"
    },
    "id": "3YCiuetMUP6n",
    "outputId": "efae118e-40e7-46ab-8bf6-b16fbe11d81d"
   },
   "outputs": [
    {
     "data": {
      "text/plain": [
       "['room', 'breakfast', 'staff', 'nothing', 'bit']"
      ]
     },
     "execution_count": 40,
     "metadata": {},
     "output_type": "execute_result"
    }
   ],
   "source": [
    "getTopFeatures(italy_df['neg_cleaned'])"
   ]
  },
  {
   "cell_type": "markdown",
   "metadata": {
    "id": "VFfN_qqkKcyf"
   },
   "source": [
    "**top five features customers like most in Spain**"
   ]
  },
  {
   "cell_type": "code",
   "execution_count": 41,
   "metadata": {
    "colab": {
     "base_uri": "https://localhost:8080/"
    },
    "id": "dSUdD50EUP0Q",
    "outputId": "4d6a5a92-e463-4a3f-cdc5-02068c203a2e"
   },
   "outputs": [
    {
     "data": {
      "text/plain": [
       "['location', 'staff', 'room', 'hotel', 'breakfast']"
      ]
     },
     "execution_count": 41,
     "metadata": {},
     "output_type": "execute_result"
    }
   ],
   "source": [
    "getTopFeatures(spain_df['pos_cleaned'])"
   ]
  },
  {
   "cell_type": "markdown",
   "metadata": {
    "id": "XVsFpPYZKeUy"
   },
   "source": [
    "**top five features customers complain in Spain**"
   ]
  },
  {
   "cell_type": "code",
   "execution_count": 42,
   "metadata": {
    "colab": {
     "base_uri": "https://localhost:8080/"
    },
    "id": "65wG3wutUPtu",
    "outputId": "6acb2d9f-c7ad-4159-e6d0-7763e20b943d"
   },
   "outputs": [
    {
     "data": {
      "text/plain": [
       "['room', 'hotel', 'breakfast', 'nothing', 'staff']"
      ]
     },
     "execution_count": 42,
     "metadata": {},
     "output_type": "execute_result"
    }
   ],
   "source": [
    "getTopFeatures(spain_df['neg_cleaned'])"
   ]
  },
  {
   "cell_type": "code",
   "execution_count": 43,
   "metadata": {
    "colab": {
     "base_uri": "https://localhost:8080/",
     "height": 332
    },
    "id": "BSSejLiaUlqZ",
    "outputId": "8fde9e21-292a-40ed-a100-6f514a61fe51"
   },
   "outputs": [
    {
     "data": {
      "text/html": [
       "\n",
       "  <div id=\"df-69a4e3d3-1bb9-466f-854c-cead214c5441\">\n",
       "    <div class=\"colab-df-container\">\n",
       "      <div>\n",
       "<style scoped>\n",
       "    .dataframe tbody tr th:only-of-type {\n",
       "        vertical-align: middle;\n",
       "    }\n",
       "\n",
       "    .dataframe tbody tr th {\n",
       "        vertical-align: top;\n",
       "    }\n",
       "\n",
       "    .dataframe thead th {\n",
       "        text-align: right;\n",
       "    }\n",
       "</style>\n",
       "<table border=\"1\" class=\"dataframe\">\n",
       "  <thead>\n",
       "    <tr style=\"text-align: right;\">\n",
       "      <th></th>\n",
       "      <th>Hotel_Name</th>\n",
       "      <th>Hotel_Address</th>\n",
       "      <th>Review_Count</th>\n",
       "      <th>Non_Review_Scoring_Count</th>\n",
       "      <th>Average_Hotel_Score</th>\n",
       "      <th>Review_Date</th>\n",
       "      <th>Reviewer_Nationality</th>\n",
       "      <th>Positive_Comments</th>\n",
       "      <th>Negative_Comments</th>\n",
       "      <th>Total_Reviewer_Reviews</th>\n",
       "      <th>Reviewer_Score</th>\n",
       "      <th>Tags</th>\n",
       "      <th>pos_cleaned</th>\n",
       "      <th>neg_cleaned</th>\n",
       "    </tr>\n",
       "  </thead>\n",
       "  <tbody>\n",
       "    <tr>\n",
       "      <th>0</th>\n",
       "      <td>Hotel Arena</td>\n",
       "      <td>s gravesandestraat 55 oost 1092 aa amsterdam ...</td>\n",
       "      <td>1403</td>\n",
       "      <td>194</td>\n",
       "      <td>7.7</td>\n",
       "      <td>2017-07-17</td>\n",
       "      <td>United Kingdom</td>\n",
       "      <td>Good location Set in a lovely park friendly s...</td>\n",
       "      <td>Apart from the price for the brekfast Everyth...</td>\n",
       "      <td>1</td>\n",
       "      <td>10.0</td>\n",
       "      <td>[' leisure trip ', ' couple ', ' duplex double...</td>\n",
       "      <td>[good, location, set, lovely, park, friendly, ...</td>\n",
       "      <td>[apart, price, brekfast, everything, good]</td>\n",
       "    </tr>\n",
       "    <tr>\n",
       "      <th>1</th>\n",
       "      <td>Hotel Arena</td>\n",
       "      <td>s gravesandestraat 55 oost 1092 aa amsterdam ...</td>\n",
       "      <td>1403</td>\n",
       "      <td>194</td>\n",
       "      <td>7.7</td>\n",
       "      <td>2017-07-07</td>\n",
       "      <td>United Kingdom</td>\n",
       "      <td>Rooms were stunningly decorated and really sp...</td>\n",
       "      <td>Nothing all great</td>\n",
       "      <td>2</td>\n",
       "      <td>10.0</td>\n",
       "      <td>[' leisure trip ', ' group ', ' duplex double ...</td>\n",
       "      <td>[room, stunningly, decorated, really, spacious...</td>\n",
       "      <td>[nothing, great]</td>\n",
       "    </tr>\n",
       "  </tbody>\n",
       "</table>\n",
       "</div>\n",
       "      <button class=\"colab-df-convert\" onclick=\"convertToInteractive('df-69a4e3d3-1bb9-466f-854c-cead214c5441')\"\n",
       "              title=\"Convert this dataframe to an interactive table.\"\n",
       "              style=\"display:none;\">\n",
       "        \n",
       "  <svg xmlns=\"http://www.w3.org/2000/svg\" height=\"24px\"viewBox=\"0 0 24 24\"\n",
       "       width=\"24px\">\n",
       "    <path d=\"M0 0h24v24H0V0z\" fill=\"none\"/>\n",
       "    <path d=\"M18.56 5.44l.94 2.06.94-2.06 2.06-.94-2.06-.94-.94-2.06-.94 2.06-2.06.94zm-11 1L8.5 8.5l.94-2.06 2.06-.94-2.06-.94L8.5 2.5l-.94 2.06-2.06.94zm10 10l.94 2.06.94-2.06 2.06-.94-2.06-.94-.94-2.06-.94 2.06-2.06.94z\"/><path d=\"M17.41 7.96l-1.37-1.37c-.4-.4-.92-.59-1.43-.59-.52 0-1.04.2-1.43.59L10.3 9.45l-7.72 7.72c-.78.78-.78 2.05 0 2.83L4 21.41c.39.39.9.59 1.41.59.51 0 1.02-.2 1.41-.59l7.78-7.78 2.81-2.81c.8-.78.8-2.07 0-2.86zM5.41 20L4 18.59l7.72-7.72 1.47 1.35L5.41 20z\"/>\n",
       "  </svg>\n",
       "      </button>\n",
       "      \n",
       "  <style>\n",
       "    .colab-df-container {\n",
       "      display:flex;\n",
       "      flex-wrap:wrap;\n",
       "      gap: 12px;\n",
       "    }\n",
       "\n",
       "    .colab-df-convert {\n",
       "      background-color: #E8F0FE;\n",
       "      border: none;\n",
       "      border-radius: 50%;\n",
       "      cursor: pointer;\n",
       "      display: none;\n",
       "      fill: #1967D2;\n",
       "      height: 32px;\n",
       "      padding: 0 0 0 0;\n",
       "      width: 32px;\n",
       "    }\n",
       "\n",
       "    .colab-df-convert:hover {\n",
       "      background-color: #E2EBFA;\n",
       "      box-shadow: 0px 1px 2px rgba(60, 64, 67, 0.3), 0px 1px 3px 1px rgba(60, 64, 67, 0.15);\n",
       "      fill: #174EA6;\n",
       "    }\n",
       "\n",
       "    [theme=dark] .colab-df-convert {\n",
       "      background-color: #3B4455;\n",
       "      fill: #D2E3FC;\n",
       "    }\n",
       "\n",
       "    [theme=dark] .colab-df-convert:hover {\n",
       "      background-color: #434B5C;\n",
       "      box-shadow: 0px 1px 3px 1px rgba(0, 0, 0, 0.15);\n",
       "      filter: drop-shadow(0px 1px 2px rgba(0, 0, 0, 0.3));\n",
       "      fill: #FFFFFF;\n",
       "    }\n",
       "  </style>\n",
       "\n",
       "      <script>\n",
       "        const buttonEl =\n",
       "          document.querySelector('#df-69a4e3d3-1bb9-466f-854c-cead214c5441 button.colab-df-convert');\n",
       "        buttonEl.style.display =\n",
       "          google.colab.kernel.accessAllowed ? 'block' : 'none';\n",
       "\n",
       "        async function convertToInteractive(key) {\n",
       "          const element = document.querySelector('#df-69a4e3d3-1bb9-466f-854c-cead214c5441');\n",
       "          const dataTable =\n",
       "            await google.colab.kernel.invokeFunction('convertToInteractive',\n",
       "                                                     [key], {});\n",
       "          if (!dataTable) return;\n",
       "\n",
       "          const docLinkHtml = 'Like what you see? Visit the ' +\n",
       "            '<a target=\"_blank\" href=https://colab.research.google.com/notebooks/data_table.ipynb>data table notebook</a>'\n",
       "            + ' to learn more about interactive tables.';\n",
       "          element.innerHTML = '';\n",
       "          dataTable['output_type'] = 'display_data';\n",
       "          await google.colab.output.renderOutput(dataTable, element);\n",
       "          const docLink = document.createElement('div');\n",
       "          docLink.innerHTML = docLinkHtml;\n",
       "          element.appendChild(docLink);\n",
       "        }\n",
       "      </script>\n",
       "    </div>\n",
       "  </div>\n",
       "  "
      ],
      "text/plain": [
       "    Hotel_Name                                      Hotel_Address  \\\n",
       "0  Hotel Arena   s gravesandestraat 55 oost 1092 aa amsterdam ...   \n",
       "1  Hotel Arena   s gravesandestraat 55 oost 1092 aa amsterdam ...   \n",
       "\n",
       "   Review_Count  Non_Review_Scoring_Count  Average_Hotel_Score Review_Date  \\\n",
       "0          1403                       194                  7.7  2017-07-17   \n",
       "1          1403                       194                  7.7  2017-07-07   \n",
       "\n",
       "  Reviewer_Nationality                                  Positive_Comments  \\\n",
       "0      United Kingdom    Good location Set in a lovely park friendly s...   \n",
       "1      United Kingdom    Rooms were stunningly decorated and really sp...   \n",
       "\n",
       "                                   Negative_Comments  Total_Reviewer_Reviews  \\\n",
       "0   Apart from the price for the brekfast Everyth...                       1   \n",
       "1                                 Nothing all great                        2   \n",
       "\n",
       "   Reviewer_Score                                               Tags  \\\n",
       "0            10.0  [' leisure trip ', ' couple ', ' duplex double...   \n",
       "1            10.0  [' leisure trip ', ' group ', ' duplex double ...   \n",
       "\n",
       "                                         pos_cleaned  \\\n",
       "0  [good, location, set, lovely, park, friendly, ...   \n",
       "1  [room, stunningly, decorated, really, spacious...   \n",
       "\n",
       "                                  neg_cleaned  \n",
       "0  [apart, price, brekfast, everything, good]  \n",
       "1                            [nothing, great]  "
      ]
     },
     "execution_count": 43,
     "metadata": {},
     "output_type": "execute_result"
    }
   ],
   "source": [
    "booking_df.head(2)"
   ]
  },
  {
   "cell_type": "markdown",
   "metadata": {
    "id": "mC_sqCn5nBRX"
   },
   "source": [
    "## Dashboard with the following plots; (1) \"Top Five Hotels Overall\" with consistently high ratings, (2) Bottom Five Hotels Overall\" with consistently low ratings, (3) Five Most Improved Hotels\" with the highest improvement in average ratings from 2015 to 2017, showing their average ratings for each of the three years. "
   ]
  },
  {
   "cell_type": "code",
   "execution_count": 44,
   "metadata": {
    "id": "wNgXDwgGVW0u"
   },
   "outputs": [],
   "source": [
    "booking_rating_df= pd.DataFrame()"
   ]
  },
  {
   "cell_type": "code",
   "execution_count": 45,
   "metadata": {
    "colab": {
     "base_uri": "https://localhost:8080/"
    },
    "id": "rdUwJQC0VoED",
    "outputId": "8626876e-9e74-4821-8e0d-54993eb4846c"
   },
   "outputs": [
    {
     "data": {
      "text/plain": [
       "(0, 0)"
      ]
     },
     "execution_count": 45,
     "metadata": {},
     "output_type": "execute_result"
    }
   ],
   "source": [
    "booking_rating_df.shape"
   ]
  },
  {
   "cell_type": "code",
   "execution_count": 46,
   "metadata": {
    "id": "H7ylBok7WCgO"
   },
   "outputs": [],
   "source": [
    "booking_rating_df=booking_df.groupby(['Hotel_Name'])['Reviewer_Score'].mean().to_frame()\n",
    "booking_rating_df.rename(columns = {'Reviewer_Score':'avg_score'}, inplace = True)\n"
   ]
  },
  {
   "cell_type": "code",
   "execution_count": 47,
   "metadata": {
    "colab": {
     "base_uri": "https://localhost:8080/"
    },
    "id": "b4QuMezvXhUC",
    "outputId": "bccd0fa6-aee8-472a-e1d5-b19e77d1bf5c"
   },
   "outputs": [
    {
     "data": {
      "text/plain": [
       "(1490, 1)"
      ]
     },
     "execution_count": 47,
     "metadata": {},
     "output_type": "execute_result"
    }
   ],
   "source": [
    "booking_rating_df_2017= booking_df[booking_df['Review_Date'].dt.year==2017].groupby(['Hotel_Name'])['Reviewer_Score'].mean().to_frame()\n",
    "booking_rating_df_2017.shape"
   ]
  },
  {
   "cell_type": "code",
   "execution_count": 48,
   "metadata": {
    "colab": {
     "base_uri": "https://localhost:8080/"
    },
    "id": "-jW_Aqo3Y-N6",
    "outputId": "fdd41055-0fe2-45aa-d1ab-770192e04bec"
   },
   "outputs": [
    {
     "data": {
      "text/plain": [
       "(1356, 1)"
      ]
     },
     "execution_count": 48,
     "metadata": {},
     "output_type": "execute_result"
    }
   ],
   "source": [
    "booking_rating_df_2015= booking_df[booking_df['Review_Date'].dt.year==2015].groupby(['Hotel_Name'])['Reviewer_Score'].mean().to_frame()\n",
    "booking_rating_df_2015.shape"
   ]
  },
  {
   "cell_type": "code",
   "execution_count": 49,
   "metadata": {
    "colab": {
     "base_uri": "https://localhost:8080/"
    },
    "id": "7_aTtu13ZIDl",
    "outputId": "ebec6d91-82cc-4412-f175-357b694865cd"
   },
   "outputs": [
    {
     "data": {
      "text/plain": [
       "(1457, 1)"
      ]
     },
     "execution_count": 49,
     "metadata": {},
     "output_type": "execute_result"
    }
   ],
   "source": [
    "booking_rating_df_2016= booking_df[booking_df['Review_Date'].dt.year==2016].groupby(['Hotel_Name'])['Reviewer_Score'].mean().to_frame()\n",
    "booking_rating_df_2016.shape"
   ]
  },
  {
   "cell_type": "code",
   "execution_count": 50,
   "metadata": {
    "id": "t4C86GhkZkOP"
   },
   "outputs": [],
   "source": [
    "booking_rating_df_2015.rename(columns = {'Reviewer_Score':'score_2015'}, inplace = True)\n",
    "booking_rating_df_2016.rename(columns = {'Reviewer_Score':'score_2016'}, inplace = True)\n",
    "booking_rating_df_2017.rename(columns = {'Reviewer_Score':'score_2017'}, inplace = True)\n"
   ]
  },
  {
   "cell_type": "code",
   "execution_count": 51,
   "metadata": {
    "colab": {
     "base_uri": "https://localhost:8080/",
     "height": 143
    },
    "id": "sTyK0iDkgrK_",
    "outputId": "2e1454e8-618f-4eae-9805-f607ed8adf31"
   },
   "outputs": [
    {
     "data": {
      "text/html": [
       "\n",
       "  <div id=\"df-197f8bba-19f9-4530-8eb4-89dc78d9cd99\">\n",
       "    <div class=\"colab-df-container\">\n",
       "      <div>\n",
       "<style scoped>\n",
       "    .dataframe tbody tr th:only-of-type {\n",
       "        vertical-align: middle;\n",
       "    }\n",
       "\n",
       "    .dataframe tbody tr th {\n",
       "        vertical-align: top;\n",
       "    }\n",
       "\n",
       "    .dataframe thead th {\n",
       "        text-align: right;\n",
       "    }\n",
       "</style>\n",
       "<table border=\"1\" class=\"dataframe\">\n",
       "  <thead>\n",
       "    <tr style=\"text-align: right;\">\n",
       "      <th></th>\n",
       "      <th>avg_score</th>\n",
       "    </tr>\n",
       "    <tr>\n",
       "      <th>Hotel_Name</th>\n",
       "      <th></th>\n",
       "    </tr>\n",
       "  </thead>\n",
       "  <tbody>\n",
       "    <tr>\n",
       "      <th>11 Cadogan Gardens</th>\n",
       "      <td>8.845283</td>\n",
       "    </tr>\n",
       "    <tr>\n",
       "      <th>1K Hotel</th>\n",
       "      <td>7.861486</td>\n",
       "    </tr>\n",
       "  </tbody>\n",
       "</table>\n",
       "</div>\n",
       "      <button class=\"colab-df-convert\" onclick=\"convertToInteractive('df-197f8bba-19f9-4530-8eb4-89dc78d9cd99')\"\n",
       "              title=\"Convert this dataframe to an interactive table.\"\n",
       "              style=\"display:none;\">\n",
       "        \n",
       "  <svg xmlns=\"http://www.w3.org/2000/svg\" height=\"24px\"viewBox=\"0 0 24 24\"\n",
       "       width=\"24px\">\n",
       "    <path d=\"M0 0h24v24H0V0z\" fill=\"none\"/>\n",
       "    <path d=\"M18.56 5.44l.94 2.06.94-2.06 2.06-.94-2.06-.94-.94-2.06-.94 2.06-2.06.94zm-11 1L8.5 8.5l.94-2.06 2.06-.94-2.06-.94L8.5 2.5l-.94 2.06-2.06.94zm10 10l.94 2.06.94-2.06 2.06-.94-2.06-.94-.94-2.06-.94 2.06-2.06.94z\"/><path d=\"M17.41 7.96l-1.37-1.37c-.4-.4-.92-.59-1.43-.59-.52 0-1.04.2-1.43.59L10.3 9.45l-7.72 7.72c-.78.78-.78 2.05 0 2.83L4 21.41c.39.39.9.59 1.41.59.51 0 1.02-.2 1.41-.59l7.78-7.78 2.81-2.81c.8-.78.8-2.07 0-2.86zM5.41 20L4 18.59l7.72-7.72 1.47 1.35L5.41 20z\"/>\n",
       "  </svg>\n",
       "      </button>\n",
       "      \n",
       "  <style>\n",
       "    .colab-df-container {\n",
       "      display:flex;\n",
       "      flex-wrap:wrap;\n",
       "      gap: 12px;\n",
       "    }\n",
       "\n",
       "    .colab-df-convert {\n",
       "      background-color: #E8F0FE;\n",
       "      border: none;\n",
       "      border-radius: 50%;\n",
       "      cursor: pointer;\n",
       "      display: none;\n",
       "      fill: #1967D2;\n",
       "      height: 32px;\n",
       "      padding: 0 0 0 0;\n",
       "      width: 32px;\n",
       "    }\n",
       "\n",
       "    .colab-df-convert:hover {\n",
       "      background-color: #E2EBFA;\n",
       "      box-shadow: 0px 1px 2px rgba(60, 64, 67, 0.3), 0px 1px 3px 1px rgba(60, 64, 67, 0.15);\n",
       "      fill: #174EA6;\n",
       "    }\n",
       "\n",
       "    [theme=dark] .colab-df-convert {\n",
       "      background-color: #3B4455;\n",
       "      fill: #D2E3FC;\n",
       "    }\n",
       "\n",
       "    [theme=dark] .colab-df-convert:hover {\n",
       "      background-color: #434B5C;\n",
       "      box-shadow: 0px 1px 3px 1px rgba(0, 0, 0, 0.15);\n",
       "      filter: drop-shadow(0px 1px 2px rgba(0, 0, 0, 0.3));\n",
       "      fill: #FFFFFF;\n",
       "    }\n",
       "  </style>\n",
       "\n",
       "      <script>\n",
       "        const buttonEl =\n",
       "          document.querySelector('#df-197f8bba-19f9-4530-8eb4-89dc78d9cd99 button.colab-df-convert');\n",
       "        buttonEl.style.display =\n",
       "          google.colab.kernel.accessAllowed ? 'block' : 'none';\n",
       "\n",
       "        async function convertToInteractive(key) {\n",
       "          const element = document.querySelector('#df-197f8bba-19f9-4530-8eb4-89dc78d9cd99');\n",
       "          const dataTable =\n",
       "            await google.colab.kernel.invokeFunction('convertToInteractive',\n",
       "                                                     [key], {});\n",
       "          if (!dataTable) return;\n",
       "\n",
       "          const docLinkHtml = 'Like what you see? Visit the ' +\n",
       "            '<a target=\"_blank\" href=https://colab.research.google.com/notebooks/data_table.ipynb>data table notebook</a>'\n",
       "            + ' to learn more about interactive tables.';\n",
       "          element.innerHTML = '';\n",
       "          dataTable['output_type'] = 'display_data';\n",
       "          await google.colab.output.renderOutput(dataTable, element);\n",
       "          const docLink = document.createElement('div');\n",
       "          docLink.innerHTML = docLinkHtml;\n",
       "          element.appendChild(docLink);\n",
       "        }\n",
       "      </script>\n",
       "    </div>\n",
       "  </div>\n",
       "  "
      ],
      "text/plain": [
       "                    avg_score\n",
       "Hotel_Name                   \n",
       "11 Cadogan Gardens   8.845283\n",
       "1K Hotel             7.861486"
      ]
     },
     "execution_count": 51,
     "metadata": {},
     "output_type": "execute_result"
    }
   ],
   "source": [
    "booking_rating_df.head(2)"
   ]
  },
  {
   "cell_type": "code",
   "execution_count": 52,
   "metadata": {
    "id": "cXRjyI24gB7K"
   },
   "outputs": [],
   "source": [
    "booking_rating_df=pd.merge(booking_rating_df, booking_rating_df_2015, on=\"Hotel_Name\")\n",
    "booking_rating_df=pd.merge(booking_rating_df, booking_rating_df_2016, on=\"Hotel_Name\")\n",
    "booking_rating_df=pd.merge(booking_rating_df, booking_rating_df_2017, on=\"Hotel_Name\")\n"
   ]
  },
  {
   "cell_type": "code",
   "execution_count": 53,
   "metadata": {
    "id": "iPCUoj5VhHXc"
   },
   "outputs": [],
   "source": [
    "booking_rating_df['improvement'] = booking_rating_df['score_2017']-booking_rating_df['score_2015']\n"
   ]
  },
  {
   "cell_type": "code",
   "execution_count": 148,
   "metadata": {
    "colab": {
     "base_uri": "https://localhost:8080/",
     "height": 238
    },
    "id": "95VzS_OIjJmm",
    "outputId": "2c669010-d536-4fa1-e92d-e837d34c3c11"
   },
   "outputs": [
    {
     "data": {
      "text/html": [
       "\n",
       "  <div id=\"df-1e03b121-8282-4247-8840-9455db580564\">\n",
       "    <div class=\"colab-df-container\">\n",
       "      <div>\n",
       "<style scoped>\n",
       "    .dataframe tbody tr th:only-of-type {\n",
       "        vertical-align: middle;\n",
       "    }\n",
       "\n",
       "    .dataframe tbody tr th {\n",
       "        vertical-align: top;\n",
       "    }\n",
       "\n",
       "    .dataframe thead th {\n",
       "        text-align: right;\n",
       "    }\n",
       "</style>\n",
       "<table border=\"1\" class=\"dataframe\">\n",
       "  <thead>\n",
       "    <tr style=\"text-align: right;\">\n",
       "      <th></th>\n",
       "      <th>avg_score</th>\n",
       "      <th>score_2015</th>\n",
       "      <th>score_2016</th>\n",
       "      <th>score_2017</th>\n",
       "      <th>improvement</th>\n",
       "      <th>Hotel_Name</th>\n",
       "    </tr>\n",
       "    <tr>\n",
       "      <th>Hotel_Name</th>\n",
       "      <th></th>\n",
       "      <th></th>\n",
       "      <th></th>\n",
       "      <th></th>\n",
       "      <th></th>\n",
       "      <th></th>\n",
       "    </tr>\n",
       "  </thead>\n",
       "  <tbody>\n",
       "    <tr>\n",
       "      <th>Hotel Casa Camper</th>\n",
       "      <td>9.718937</td>\n",
       "      <td>9.589231</td>\n",
       "      <td>9.752991</td>\n",
       "      <td>9.756303</td>\n",
       "      <td>0.167072</td>\n",
       "      <td>Hotel Casa Camper</td>\n",
       "    </tr>\n",
       "    <tr>\n",
       "      <th>41</th>\n",
       "      <td>9.711650</td>\n",
       "      <td>9.743333</td>\n",
       "      <td>9.652083</td>\n",
       "      <td>9.788000</td>\n",
       "      <td>0.044667</td>\n",
       "      <td>41</td>\n",
       "    </tr>\n",
       "    <tr>\n",
       "      <th>H tel de La Tamise Esprit de France</th>\n",
       "      <td>9.688525</td>\n",
       "      <td>9.822222</td>\n",
       "      <td>9.626316</td>\n",
       "      <td>9.771429</td>\n",
       "      <td>-0.050794</td>\n",
       "      <td>H tel de La Tamise Esprit de France</td>\n",
       "    </tr>\n",
       "    <tr>\n",
       "      <th>Hotel The Serras</th>\n",
       "      <td>9.623474</td>\n",
       "      <td>9.622727</td>\n",
       "      <td>9.641228</td>\n",
       "      <td>9.587273</td>\n",
       "      <td>-0.035455</td>\n",
       "      <td>Hotel The Serras</td>\n",
       "    </tr>\n",
       "    <tr>\n",
       "      <th>45 Park Lane Dorchester Collection</th>\n",
       "      <td>9.603571</td>\n",
       "      <td>9.080000</td>\n",
       "      <td>9.653846</td>\n",
       "      <td>9.800000</td>\n",
       "      <td>0.720000</td>\n",
       "      <td>45 Park Lane Dorchester Collection</td>\n",
       "    </tr>\n",
       "  </tbody>\n",
       "</table>\n",
       "</div>\n",
       "      <button class=\"colab-df-convert\" onclick=\"convertToInteractive('df-1e03b121-8282-4247-8840-9455db580564')\"\n",
       "              title=\"Convert this dataframe to an interactive table.\"\n",
       "              style=\"display:none;\">\n",
       "        \n",
       "  <svg xmlns=\"http://www.w3.org/2000/svg\" height=\"24px\"viewBox=\"0 0 24 24\"\n",
       "       width=\"24px\">\n",
       "    <path d=\"M0 0h24v24H0V0z\" fill=\"none\"/>\n",
       "    <path d=\"M18.56 5.44l.94 2.06.94-2.06 2.06-.94-2.06-.94-.94-2.06-.94 2.06-2.06.94zm-11 1L8.5 8.5l.94-2.06 2.06-.94-2.06-.94L8.5 2.5l-.94 2.06-2.06.94zm10 10l.94 2.06.94-2.06 2.06-.94-2.06-.94-.94-2.06-.94 2.06-2.06.94z\"/><path d=\"M17.41 7.96l-1.37-1.37c-.4-.4-.92-.59-1.43-.59-.52 0-1.04.2-1.43.59L10.3 9.45l-7.72 7.72c-.78.78-.78 2.05 0 2.83L4 21.41c.39.39.9.59 1.41.59.51 0 1.02-.2 1.41-.59l7.78-7.78 2.81-2.81c.8-.78.8-2.07 0-2.86zM5.41 20L4 18.59l7.72-7.72 1.47 1.35L5.41 20z\"/>\n",
       "  </svg>\n",
       "      </button>\n",
       "      \n",
       "  <style>\n",
       "    .colab-df-container {\n",
       "      display:flex;\n",
       "      flex-wrap:wrap;\n",
       "      gap: 12px;\n",
       "    }\n",
       "\n",
       "    .colab-df-convert {\n",
       "      background-color: #E8F0FE;\n",
       "      border: none;\n",
       "      border-radius: 50%;\n",
       "      cursor: pointer;\n",
       "      display: none;\n",
       "      fill: #1967D2;\n",
       "      height: 32px;\n",
       "      padding: 0 0 0 0;\n",
       "      width: 32px;\n",
       "    }\n",
       "\n",
       "    .colab-df-convert:hover {\n",
       "      background-color: #E2EBFA;\n",
       "      box-shadow: 0px 1px 2px rgba(60, 64, 67, 0.3), 0px 1px 3px 1px rgba(60, 64, 67, 0.15);\n",
       "      fill: #174EA6;\n",
       "    }\n",
       "\n",
       "    [theme=dark] .colab-df-convert {\n",
       "      background-color: #3B4455;\n",
       "      fill: #D2E3FC;\n",
       "    }\n",
       "\n",
       "    [theme=dark] .colab-df-convert:hover {\n",
       "      background-color: #434B5C;\n",
       "      box-shadow: 0px 1px 3px 1px rgba(0, 0, 0, 0.15);\n",
       "      filter: drop-shadow(0px 1px 2px rgba(0, 0, 0, 0.3));\n",
       "      fill: #FFFFFF;\n",
       "    }\n",
       "  </style>\n",
       "\n",
       "      <script>\n",
       "        const buttonEl =\n",
       "          document.querySelector('#df-1e03b121-8282-4247-8840-9455db580564 button.colab-df-convert');\n",
       "        buttonEl.style.display =\n",
       "          google.colab.kernel.accessAllowed ? 'block' : 'none';\n",
       "\n",
       "        async function convertToInteractive(key) {\n",
       "          const element = document.querySelector('#df-1e03b121-8282-4247-8840-9455db580564');\n",
       "          const dataTable =\n",
       "            await google.colab.kernel.invokeFunction('convertToInteractive',\n",
       "                                                     [key], {});\n",
       "          if (!dataTable) return;\n",
       "\n",
       "          const docLinkHtml = 'Like what you see? Visit the ' +\n",
       "            '<a target=\"_blank\" href=https://colab.research.google.com/notebooks/data_table.ipynb>data table notebook</a>'\n",
       "            + ' to learn more about interactive tables.';\n",
       "          element.innerHTML = '';\n",
       "          dataTable['output_type'] = 'display_data';\n",
       "          await google.colab.output.renderOutput(dataTable, element);\n",
       "          const docLink = document.createElement('div');\n",
       "          docLink.innerHTML = docLinkHtml;\n",
       "          element.appendChild(docLink);\n",
       "        }\n",
       "      </script>\n",
       "    </div>\n",
       "  </div>\n",
       "  "
      ],
      "text/plain": [
       "                                     avg_score  score_2015  score_2016  \\\n",
       "Hotel_Name                                                               \n",
       "Hotel Casa Camper                     9.718937    9.589231    9.752991   \n",
       "41                                    9.711650    9.743333    9.652083   \n",
       "H tel de La Tamise Esprit de France   9.688525    9.822222    9.626316   \n",
       "Hotel The Serras                      9.623474    9.622727    9.641228   \n",
       "45 Park Lane Dorchester Collection    9.603571    9.080000    9.653846   \n",
       "\n",
       "                                     score_2017  improvement  \\\n",
       "Hotel_Name                                                     \n",
       "Hotel Casa Camper                      9.756303     0.167072   \n",
       "41                                     9.788000     0.044667   \n",
       "H tel de La Tamise Esprit de France    9.771429    -0.050794   \n",
       "Hotel The Serras                       9.587273    -0.035455   \n",
       "45 Park Lane Dorchester Collection     9.800000     0.720000   \n",
       "\n",
       "                                                              Hotel_Name  \n",
       "Hotel_Name                                                                \n",
       "Hotel Casa Camper                                      Hotel Casa Camper  \n",
       "41                                                                    41  \n",
       "H tel de La Tamise Esprit de France  H tel de La Tamise Esprit de France  \n",
       "Hotel The Serras                                        Hotel The Serras  \n",
       "45 Park Lane Dorchester Collection    45 Park Lane Dorchester Collection  "
      ]
     },
     "execution_count": 148,
     "metadata": {},
     "output_type": "execute_result"
    }
   ],
   "source": [
    "booking_rating_top5=booking_rating_df.sort_values(by = ['avg_score', 'score_2017','score_2016','score_2015'], ascending = [False, False,False, False], na_position = 'first')[0:5]\n",
    "booking_rating_top5['Hotel_Name']=booking_rating_top5.index\n",
    "booking_rating_top5"
   ]
  },
  {
   "cell_type": "code",
   "execution_count": 149,
   "metadata": {
    "colab": {
     "base_uri": "https://localhost:8080/",
     "height": 238
    },
    "id": "rJz27--4mJvo",
    "outputId": "5f9ecdda-6d00-4a2f-f0de-e57c3550b85a"
   },
   "outputs": [
    {
     "data": {
      "text/html": [
       "\n",
       "  <div id=\"df-369b2726-6bc8-4f8b-8e13-c8d3603414de\">\n",
       "    <div class=\"colab-df-container\">\n",
       "      <div>\n",
       "<style scoped>\n",
       "    .dataframe tbody tr th:only-of-type {\n",
       "        vertical-align: middle;\n",
       "    }\n",
       "\n",
       "    .dataframe tbody tr th {\n",
       "        vertical-align: top;\n",
       "    }\n",
       "\n",
       "    .dataframe thead th {\n",
       "        text-align: right;\n",
       "    }\n",
       "</style>\n",
       "<table border=\"1\" class=\"dataframe\">\n",
       "  <thead>\n",
       "    <tr style=\"text-align: right;\">\n",
       "      <th></th>\n",
       "      <th>avg_score</th>\n",
       "      <th>score_2015</th>\n",
       "      <th>score_2016</th>\n",
       "      <th>score_2017</th>\n",
       "      <th>improvement</th>\n",
       "      <th>Hotel_Name</th>\n",
       "    </tr>\n",
       "    <tr>\n",
       "      <th>Hotel_Name</th>\n",
       "      <th></th>\n",
       "      <th></th>\n",
       "      <th></th>\n",
       "      <th></th>\n",
       "      <th></th>\n",
       "      <th></th>\n",
       "    </tr>\n",
       "  </thead>\n",
       "  <tbody>\n",
       "    <tr>\n",
       "      <th>Hotel Liberty</th>\n",
       "      <td>5.121538</td>\n",
       "      <td>5.546667</td>\n",
       "      <td>5.336364</td>\n",
       "      <td>4.725000</td>\n",
       "      <td>-0.821667</td>\n",
       "      <td>Hotel Liberty</td>\n",
       "    </tr>\n",
       "    <tr>\n",
       "      <th>Kube Hotel Ice Bar</th>\n",
       "      <td>5.852632</td>\n",
       "      <td>5.580000</td>\n",
       "      <td>5.300000</td>\n",
       "      <td>6.816667</td>\n",
       "      <td>1.236667</td>\n",
       "      <td>Kube Hotel Ice Bar</td>\n",
       "    </tr>\n",
       "    <tr>\n",
       "      <th>Villa Eugenie</th>\n",
       "      <td>5.864516</td>\n",
       "      <td>7.600000</td>\n",
       "      <td>5.815789</td>\n",
       "      <td>4.757143</td>\n",
       "      <td>-2.842857</td>\n",
       "      <td>Villa Eugenie</td>\n",
       "    </tr>\n",
       "    <tr>\n",
       "      <th>Savoy Hotel Amsterdam</th>\n",
       "      <td>6.009465</td>\n",
       "      <td>6.445098</td>\n",
       "      <td>5.983333</td>\n",
       "      <td>5.762821</td>\n",
       "      <td>-0.682278</td>\n",
       "      <td>Savoy Hotel Amsterdam</td>\n",
       "    </tr>\n",
       "    <tr>\n",
       "      <th>Holiday Inn Paris Montparnasse Pasteur</th>\n",
       "      <td>6.329730</td>\n",
       "      <td>7.044444</td>\n",
       "      <td>6.100000</td>\n",
       "      <td>6.100000</td>\n",
       "      <td>-0.944444</td>\n",
       "      <td>Holiday Inn Paris Montparnasse Pasteur</td>\n",
       "    </tr>\n",
       "  </tbody>\n",
       "</table>\n",
       "</div>\n",
       "      <button class=\"colab-df-convert\" onclick=\"convertToInteractive('df-369b2726-6bc8-4f8b-8e13-c8d3603414de')\"\n",
       "              title=\"Convert this dataframe to an interactive table.\"\n",
       "              style=\"display:none;\">\n",
       "        \n",
       "  <svg xmlns=\"http://www.w3.org/2000/svg\" height=\"24px\"viewBox=\"0 0 24 24\"\n",
       "       width=\"24px\">\n",
       "    <path d=\"M0 0h24v24H0V0z\" fill=\"none\"/>\n",
       "    <path d=\"M18.56 5.44l.94 2.06.94-2.06 2.06-.94-2.06-.94-.94-2.06-.94 2.06-2.06.94zm-11 1L8.5 8.5l.94-2.06 2.06-.94-2.06-.94L8.5 2.5l-.94 2.06-2.06.94zm10 10l.94 2.06.94-2.06 2.06-.94-2.06-.94-.94-2.06-.94 2.06-2.06.94z\"/><path d=\"M17.41 7.96l-1.37-1.37c-.4-.4-.92-.59-1.43-.59-.52 0-1.04.2-1.43.59L10.3 9.45l-7.72 7.72c-.78.78-.78 2.05 0 2.83L4 21.41c.39.39.9.59 1.41.59.51 0 1.02-.2 1.41-.59l7.78-7.78 2.81-2.81c.8-.78.8-2.07 0-2.86zM5.41 20L4 18.59l7.72-7.72 1.47 1.35L5.41 20z\"/>\n",
       "  </svg>\n",
       "      </button>\n",
       "      \n",
       "  <style>\n",
       "    .colab-df-container {\n",
       "      display:flex;\n",
       "      flex-wrap:wrap;\n",
       "      gap: 12px;\n",
       "    }\n",
       "\n",
       "    .colab-df-convert {\n",
       "      background-color: #E8F0FE;\n",
       "      border: none;\n",
       "      border-radius: 50%;\n",
       "      cursor: pointer;\n",
       "      display: none;\n",
       "      fill: #1967D2;\n",
       "      height: 32px;\n",
       "      padding: 0 0 0 0;\n",
       "      width: 32px;\n",
       "    }\n",
       "\n",
       "    .colab-df-convert:hover {\n",
       "      background-color: #E2EBFA;\n",
       "      box-shadow: 0px 1px 2px rgba(60, 64, 67, 0.3), 0px 1px 3px 1px rgba(60, 64, 67, 0.15);\n",
       "      fill: #174EA6;\n",
       "    }\n",
       "\n",
       "    [theme=dark] .colab-df-convert {\n",
       "      background-color: #3B4455;\n",
       "      fill: #D2E3FC;\n",
       "    }\n",
       "\n",
       "    [theme=dark] .colab-df-convert:hover {\n",
       "      background-color: #434B5C;\n",
       "      box-shadow: 0px 1px 3px 1px rgba(0, 0, 0, 0.15);\n",
       "      filter: drop-shadow(0px 1px 2px rgba(0, 0, 0, 0.3));\n",
       "      fill: #FFFFFF;\n",
       "    }\n",
       "  </style>\n",
       "\n",
       "      <script>\n",
       "        const buttonEl =\n",
       "          document.querySelector('#df-369b2726-6bc8-4f8b-8e13-c8d3603414de button.colab-df-convert');\n",
       "        buttonEl.style.display =\n",
       "          google.colab.kernel.accessAllowed ? 'block' : 'none';\n",
       "\n",
       "        async function convertToInteractive(key) {\n",
       "          const element = document.querySelector('#df-369b2726-6bc8-4f8b-8e13-c8d3603414de');\n",
       "          const dataTable =\n",
       "            await google.colab.kernel.invokeFunction('convertToInteractive',\n",
       "                                                     [key], {});\n",
       "          if (!dataTable) return;\n",
       "\n",
       "          const docLinkHtml = 'Like what you see? Visit the ' +\n",
       "            '<a target=\"_blank\" href=https://colab.research.google.com/notebooks/data_table.ipynb>data table notebook</a>'\n",
       "            + ' to learn more about interactive tables.';\n",
       "          element.innerHTML = '';\n",
       "          dataTable['output_type'] = 'display_data';\n",
       "          await google.colab.output.renderOutput(dataTable, element);\n",
       "          const docLink = document.createElement('div');\n",
       "          docLink.innerHTML = docLinkHtml;\n",
       "          element.appendChild(docLink);\n",
       "        }\n",
       "      </script>\n",
       "    </div>\n",
       "  </div>\n",
       "  "
      ],
      "text/plain": [
       "                                        avg_score  score_2015  score_2016  \\\n",
       "Hotel_Name                                                                  \n",
       "Hotel Liberty                            5.121538    5.546667    5.336364   \n",
       "Kube Hotel Ice Bar                       5.852632    5.580000    5.300000   \n",
       "Villa Eugenie                            5.864516    7.600000    5.815789   \n",
       "Savoy Hotel Amsterdam                    6.009465    6.445098    5.983333   \n",
       "Holiday Inn Paris Montparnasse Pasteur   6.329730    7.044444    6.100000   \n",
       "\n",
       "                                        score_2017  improvement  \\\n",
       "Hotel_Name                                                        \n",
       "Hotel Liberty                             4.725000    -0.821667   \n",
       "Kube Hotel Ice Bar                        6.816667     1.236667   \n",
       "Villa Eugenie                             4.757143    -2.842857   \n",
       "Savoy Hotel Amsterdam                     5.762821    -0.682278   \n",
       "Holiday Inn Paris Montparnasse Pasteur    6.100000    -0.944444   \n",
       "\n",
       "                                                                    Hotel_Name  \n",
       "Hotel_Name                                                                      \n",
       "Hotel Liberty                                                    Hotel Liberty  \n",
       "Kube Hotel Ice Bar                                          Kube Hotel Ice Bar  \n",
       "Villa Eugenie                                                    Villa Eugenie  \n",
       "Savoy Hotel Amsterdam                                    Savoy Hotel Amsterdam  \n",
       "Holiday Inn Paris Montparnasse Pasteur  Holiday Inn Paris Montparnasse Pasteur  "
      ]
     },
     "execution_count": 149,
     "metadata": {},
     "output_type": "execute_result"
    }
   ],
   "source": [
    "booking_rating_bottom5=booking_rating_df.sort_values(by = ['avg_score', 'score_2017','score_2016','score_2015'], ascending = [True, True,True, True], na_position = 'first')[0:5]\n",
    "booking_rating_bottom5['Hotel_Name']=booking_rating_bottom5.index\n",
    "booking_rating_bottom5"
   ]
  },
  {
   "cell_type": "code",
   "execution_count": 162,
   "metadata": {
    "colab": {
     "base_uri": "https://localhost:8080/",
     "height": 238
    },
    "id": "I_xyJ61DmxCv",
    "outputId": "1ea069ef-60f3-431d-8584-3378d76cf797"
   },
   "outputs": [
    {
     "data": {
      "text/html": [
       "\n",
       "  <div id=\"df-0c3c0403-339b-4974-b2fc-6c686ec6614d\">\n",
       "    <div class=\"colab-df-container\">\n",
       "      <div>\n",
       "<style scoped>\n",
       "    .dataframe tbody tr th:only-of-type {\n",
       "        vertical-align: middle;\n",
       "    }\n",
       "\n",
       "    .dataframe tbody tr th {\n",
       "        vertical-align: top;\n",
       "    }\n",
       "\n",
       "    .dataframe thead th {\n",
       "        text-align: right;\n",
       "    }\n",
       "</style>\n",
       "<table border=\"1\" class=\"dataframe\">\n",
       "  <thead>\n",
       "    <tr style=\"text-align: right;\">\n",
       "      <th></th>\n",
       "      <th>avg_score</th>\n",
       "      <th>score_2015</th>\n",
       "      <th>score_2016</th>\n",
       "      <th>score_2017</th>\n",
       "      <th>improvement</th>\n",
       "      <th>Hotel_Name</th>\n",
       "    </tr>\n",
       "    <tr>\n",
       "      <th>Hotel_Name</th>\n",
       "      <th></th>\n",
       "      <th></th>\n",
       "      <th></th>\n",
       "      <th></th>\n",
       "      <th></th>\n",
       "      <th></th>\n",
       "    </tr>\n",
       "  </thead>\n",
       "  <tbody>\n",
       "    <tr>\n",
       "      <th>Le Lavoisier</th>\n",
       "      <td>7.833333</td>\n",
       "      <td>2.500000</td>\n",
       "      <td>8.150000</td>\n",
       "      <td>10.000000</td>\n",
       "      <td>7.500000</td>\n",
       "      <td>Le Lavoisier</td>\n",
       "    </tr>\n",
       "    <tr>\n",
       "      <th>Mercure Paris Bastille Saint Antoine</th>\n",
       "      <td>7.277273</td>\n",
       "      <td>5.000000</td>\n",
       "      <td>7.478571</td>\n",
       "      <td>7.566667</td>\n",
       "      <td>2.566667</td>\n",
       "      <td>Mercure Paris Bastille Saint Antoine</td>\n",
       "    </tr>\n",
       "    <tr>\n",
       "      <th>L Edmond H tel</th>\n",
       "      <td>8.220000</td>\n",
       "      <td>6.450000</td>\n",
       "      <td>8.171429</td>\n",
       "      <td>8.572727</td>\n",
       "      <td>2.122727</td>\n",
       "      <td>L Edmond H tel</td>\n",
       "    </tr>\n",
       "    <tr>\n",
       "      <th>MiHotel</th>\n",
       "      <td>8.245455</td>\n",
       "      <td>7.125000</td>\n",
       "      <td>8.810000</td>\n",
       "      <td>9.075000</td>\n",
       "      <td>1.950000</td>\n",
       "      <td>MiHotel</td>\n",
       "    </tr>\n",
       "    <tr>\n",
       "      <th>Villa Lut ce Port Royal</th>\n",
       "      <td>6.385106</td>\n",
       "      <td>5.594444</td>\n",
       "      <td>6.741667</td>\n",
       "      <td>7.520000</td>\n",
       "      <td>1.925556</td>\n",
       "      <td>Villa Lut ce Port Royal</td>\n",
       "    </tr>\n",
       "  </tbody>\n",
       "</table>\n",
       "</div>\n",
       "      <button class=\"colab-df-convert\" onclick=\"convertToInteractive('df-0c3c0403-339b-4974-b2fc-6c686ec6614d')\"\n",
       "              title=\"Convert this dataframe to an interactive table.\"\n",
       "              style=\"display:none;\">\n",
       "        \n",
       "  <svg xmlns=\"http://www.w3.org/2000/svg\" height=\"24px\"viewBox=\"0 0 24 24\"\n",
       "       width=\"24px\">\n",
       "    <path d=\"M0 0h24v24H0V0z\" fill=\"none\"/>\n",
       "    <path d=\"M18.56 5.44l.94 2.06.94-2.06 2.06-.94-2.06-.94-.94-2.06-.94 2.06-2.06.94zm-11 1L8.5 8.5l.94-2.06 2.06-.94-2.06-.94L8.5 2.5l-.94 2.06-2.06.94zm10 10l.94 2.06.94-2.06 2.06-.94-2.06-.94-.94-2.06-.94 2.06-2.06.94z\"/><path d=\"M17.41 7.96l-1.37-1.37c-.4-.4-.92-.59-1.43-.59-.52 0-1.04.2-1.43.59L10.3 9.45l-7.72 7.72c-.78.78-.78 2.05 0 2.83L4 21.41c.39.39.9.59 1.41.59.51 0 1.02-.2 1.41-.59l7.78-7.78 2.81-2.81c.8-.78.8-2.07 0-2.86zM5.41 20L4 18.59l7.72-7.72 1.47 1.35L5.41 20z\"/>\n",
       "  </svg>\n",
       "      </button>\n",
       "      \n",
       "  <style>\n",
       "    .colab-df-container {\n",
       "      display:flex;\n",
       "      flex-wrap:wrap;\n",
       "      gap: 12px;\n",
       "    }\n",
       "\n",
       "    .colab-df-convert {\n",
       "      background-color: #E8F0FE;\n",
       "      border: none;\n",
       "      border-radius: 50%;\n",
       "      cursor: pointer;\n",
       "      display: none;\n",
       "      fill: #1967D2;\n",
       "      height: 32px;\n",
       "      padding: 0 0 0 0;\n",
       "      width: 32px;\n",
       "    }\n",
       "\n",
       "    .colab-df-convert:hover {\n",
       "      background-color: #E2EBFA;\n",
       "      box-shadow: 0px 1px 2px rgba(60, 64, 67, 0.3), 0px 1px 3px 1px rgba(60, 64, 67, 0.15);\n",
       "      fill: #174EA6;\n",
       "    }\n",
       "\n",
       "    [theme=dark] .colab-df-convert {\n",
       "      background-color: #3B4455;\n",
       "      fill: #D2E3FC;\n",
       "    }\n",
       "\n",
       "    [theme=dark] .colab-df-convert:hover {\n",
       "      background-color: #434B5C;\n",
       "      box-shadow: 0px 1px 3px 1px rgba(0, 0, 0, 0.15);\n",
       "      filter: drop-shadow(0px 1px 2px rgba(0, 0, 0, 0.3));\n",
       "      fill: #FFFFFF;\n",
       "    }\n",
       "  </style>\n",
       "\n",
       "      <script>\n",
       "        const buttonEl =\n",
       "          document.querySelector('#df-0c3c0403-339b-4974-b2fc-6c686ec6614d button.colab-df-convert');\n",
       "        buttonEl.style.display =\n",
       "          google.colab.kernel.accessAllowed ? 'block' : 'none';\n",
       "\n",
       "        async function convertToInteractive(key) {\n",
       "          const element = document.querySelector('#df-0c3c0403-339b-4974-b2fc-6c686ec6614d');\n",
       "          const dataTable =\n",
       "            await google.colab.kernel.invokeFunction('convertToInteractive',\n",
       "                                                     [key], {});\n",
       "          if (!dataTable) return;\n",
       "\n",
       "          const docLinkHtml = 'Like what you see? Visit the ' +\n",
       "            '<a target=\"_blank\" href=https://colab.research.google.com/notebooks/data_table.ipynb>data table notebook</a>'\n",
       "            + ' to learn more about interactive tables.';\n",
       "          element.innerHTML = '';\n",
       "          dataTable['output_type'] = 'display_data';\n",
       "          await google.colab.output.renderOutput(dataTable, element);\n",
       "          const docLink = document.createElement('div');\n",
       "          docLink.innerHTML = docLinkHtml;\n",
       "          element.appendChild(docLink);\n",
       "        }\n",
       "      </script>\n",
       "    </div>\n",
       "  </div>\n",
       "  "
      ],
      "text/plain": [
       "                                      avg_score  score_2015  score_2016  \\\n",
       "Hotel_Name                                                                \n",
       "Le Lavoisier                           7.833333    2.500000    8.150000   \n",
       "Mercure Paris Bastille Saint Antoine   7.277273    5.000000    7.478571   \n",
       "L Edmond H tel                         8.220000    6.450000    8.171429   \n",
       "MiHotel                                8.245455    7.125000    8.810000   \n",
       "Villa Lut ce Port Royal                6.385106    5.594444    6.741667   \n",
       "\n",
       "                                      score_2017  improvement  \\\n",
       "Hotel_Name                                                      \n",
       "Le Lavoisier                           10.000000     7.500000   \n",
       "Mercure Paris Bastille Saint Antoine    7.566667     2.566667   \n",
       "L Edmond H tel                          8.572727     2.122727   \n",
       "MiHotel                                 9.075000     1.950000   \n",
       "Villa Lut ce Port Royal                 7.520000     1.925556   \n",
       "\n",
       "                                                                Hotel_Name  \n",
       "Hotel_Name                                                                  \n",
       "Le Lavoisier                                                  Le Lavoisier  \n",
       "Mercure Paris Bastille Saint Antoine  Mercure Paris Bastille Saint Antoine  \n",
       "L Edmond H tel                                              L Edmond H tel  \n",
       "MiHotel                                                            MiHotel  \n",
       "Villa Lut ce Port Royal                            Villa Lut ce Port Royal  "
      ]
     },
     "execution_count": 162,
     "metadata": {},
     "output_type": "execute_result"
    }
   ],
   "source": [
    "booking_rating_improvement5=booking_rating_df.sort_values(by = ['improvement', 'score_2017','score_2016','score_2015'], ascending = [False, False,False, False], na_position = 'first')[0:5]\n",
    "booking_rating_improvement5['Hotel_Name']=booking_rating_improvement5.index\n",
    "booking_rating_improvement5"
   ]
  },
  {
   "cell_type": "code",
   "execution_count": 163,
   "metadata": {
    "id": "Q78Uwj5wC0JF"
   },
   "outputs": [],
   "source": [
    "## melt the datframe for plot\n",
    "booking_rating_improvement5 = booking_rating_improvement5.melt(id_vars=['Hotel_Name'], var_name='year', value_name='review_score_year')"
   ]
  },
  {
   "cell_type": "code",
   "execution_count": 164,
   "metadata": {
    "id": "aD9yIjDotuac"
   },
   "outputs": [],
   "source": [
    "\n",
    "import seaborn as sns\n",
    "from matplotlib import pyplot as plt"
   ]
  },
  {
   "cell_type": "code",
   "execution_count": 165,
   "metadata": {
    "colab": {
     "base_uri": "https://localhost:8080/",
     "height": 532
    },
    "id": "uUl0EOarLfxz",
    "outputId": "4e9bdfb6-16ba-44cb-bba6-98efdef9ed2b"
   },
   "outputs": [
    {
     "data": {
      "image/png": "[encoded data removed]",
      "text/plain": [
       "<Figure size 1440x720 with 3 Axes>"
      ]
     },
     "metadata": {},
     "output_type": "display_data"
    }
   ],
   "source": [
    "fig, axs = plt.subplots(nrows=3, ncols=1)\n",
    "sns.set(font_scale=1)\n",
    "sns.set(rc = {'figure.figsize':(20,10)})\n",
    "\n",
    "sns.barplot(y =booking_rating_top5.avg_score, x =booking_rating_top5.Hotel_Name,data = booking_rating_top5,ax=axs[0]) \n",
    "sns.barplot(y =booking_rating_bottom5.avg_score, x =booking_rating_bottom5.Hotel_Name,data = booking_rating_bottom5,ax=axs[1])            \n",
    "sns.barplot(y =booking_rating_improvement5.review_score_year, x =booking_rating_improvement5.Hotel_Name,  hue='year',data = booking_rating_improvement5,ax=axs[2])            \n",
    "\n",
    "axs[0].title.set_text('Top Five Hotels Overall')\n",
    "axs[1].title.set_text('Bottom Five Hotels Overall')\n",
    "axs[2].title.set_text('Five Most Improved Hotels')\n",
    "sns.move_legend(axs[2], \"upper left\", bbox_to_anchor=(1, 1))\n",
    "\n",
    "plt.subplots_adjust(hspace = 0.5)\n"
   ]
  },
  {
   "cell_type": "code",
   "execution_count": null,
   "metadata": {
    "id": "TC_wibDh5N_D"
   },
   "outputs": [],
   "source": []
  }
 ],
 "metadata": {
  "colab": {
   "collapsed_sections": [],
   "provenance": [],
   "toc_visible": true
  },
  "kernelspec": {
   "display_name": "Python 3 (ipykernel)",
   "language": "python",
   "name": "python3"
  },
  "language_info": {
   "codemirror_mode": {
    "name": "ipython",
    "version": 3
   },
   "file_extension": ".py",
   "mimetype": "text/x-python",
   "name": "python",
   "nbconvert_exporter": "python",
   "pygments_lexer": "ipython3",
   "version": "3.9.7"
  }
 },
 "nbformat": 4,
 "nbformat_minor": 4
}
