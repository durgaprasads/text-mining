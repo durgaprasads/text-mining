{
  "cells": [
    {
      "cell_type": "code",
      "execution_count": 51,
      "metadata": {
        "colab": {
          "base_uri": "https://localhost:8080/"
        },
        "id": "DW6MQWFAe8Je",
        "outputId": "315e49e7-5ea2-492c-c151-6ab9c3029e7c"
      },
      "outputs": [
        {
          "name": "stderr",
          "output_type": "stream",
          "text": [
            "[nltk_data] Downloading package stopwords to /root/nltk_data...\n",
            "[nltk_data]   Package stopwords is already up-to-date!\n",
            "[nltk_data] Downloading package punkt to /root/nltk_data...\n",
            "[nltk_data]   Package punkt is already up-to-date!\n",
            "[nltk_data] Downloading package wordnet to /root/nltk_data...\n",
            "[nltk_data]   Package wordnet is already up-to-date!\n",
            "[nltk_data] Downloading package omw-1.4 to /root/nltk_data...\n",
            "[nltk_data]   Package omw-1.4 is already up-to-date!\n",
            "[nltk_data] Downloading package averaged_perceptron_tagger to\n",
            "[nltk_data]     /root/nltk_data...\n",
            "[nltk_data]   Package averaged_perceptron_tagger is already up-to-\n",
            "[nltk_data]       date!\n",
            "[nltk_data] Downloading package universal_tagset to /root/nltk_data...\n",
            "[nltk_data]   Package universal_tagset is already up-to-date!\n"
          ]
        },
        {
          "data": {
            "text/plain": [
              "True"
            ]
          },
          "execution_count": 51,
          "metadata": {},
          "output_type": "execute_result"
        }
      ],
      "source": [
        "## importing required libraries\n",
        "import spacy\n",
        "import pandas as pd\n",
        "import nltk\n",
        "from collections import Counter\n",
        "import numpy as np\n",
        "nltk.download('stopwords')\n",
        "nltk.download('punkt')\n",
        "nltk.download('wordnet')\n",
        "nltk.download('omw-1.4')\n",
        "nltk.download('averaged_perceptron_tagger')\n",
        "nltk.download('universal_tagset')"
      ]
    },
    {
      "cell_type": "code",
      "execution_count": 52,
      "metadata": {
        "id": "V4VIHlHRYUXc"
      },
      "outputs": [],
      "source": [
        "##loading the dataset\n",
        "import pandas as pd\n",
        "from sklearn.feature_extraction.text import TfidfVectorizer\n",
        "df=pd.read_csv(\"BBC-articles.csv\")"
      ]
    },
    {
      "cell_type": "code",
      "execution_count": 53,
      "metadata": {
        "colab": {
          "base_uri": "https://localhost:8080/",
          "height": 206
        },
        "id": "AuNizHFxYUZp",
        "outputId": "892b64fe-57f3-466a-a21a-c74cafe11152"
      },
      "outputs": [
        {
          "data": {
            "text/html": [
              "\n",
              "  <div id=\"df-2264462e-b643-4ffb-bab4-70f042469010\">\n",
              "    <div class=\"colab-df-container\">\n",
              "      <div>\n",
              "<style scoped>\n",
              "    .dataframe tbody tr th:only-of-type {\n",
              "        vertical-align: middle;\n",
              "    }\n",
              "\n",
              "    .dataframe tbody tr th {\n",
              "        vertical-align: top;\n",
              "    }\n",
              "\n",
              "    .dataframe thead th {\n",
              "        text-align: right;\n",
              "    }\n",
              "</style>\n",
              "<table border=\"1\" class=\"dataframe\">\n",
              "  <thead>\n",
              "    <tr style=\"text-align: right;\">\n",
              "      <th></th>\n",
              "      <th>category</th>\n",
              "      <th>text</th>\n",
              "    </tr>\n",
              "  </thead>\n",
              "  <tbody>\n",
              "    <tr>\n",
              "      <th>0</th>\n",
              "      <td>tech</td>\n",
              "      <td>tv future in the hands of viewers with home th...</td>\n",
              "    </tr>\n",
              "    <tr>\n",
              "      <th>1</th>\n",
              "      <td>business</td>\n",
              "      <td>worldcom boss  left books alone  former worldc...</td>\n",
              "    </tr>\n",
              "    <tr>\n",
              "      <th>2</th>\n",
              "      <td>sport</td>\n",
              "      <td>tigers wary of farrell  gamble  leicester say ...</td>\n",
              "    </tr>\n",
              "    <tr>\n",
              "      <th>3</th>\n",
              "      <td>sport</td>\n",
              "      <td>yeading face newcastle in fa cup premiership s...</td>\n",
              "    </tr>\n",
              "    <tr>\n",
              "      <th>4</th>\n",
              "      <td>entertainment</td>\n",
              "      <td>ocean s twelve raids box office ocean s twelve...</td>\n",
              "    </tr>\n",
              "  </tbody>\n",
              "</table>\n",
              "</div>\n",
              "      <button class=\"colab-df-convert\" onclick=\"convertToInteractive('df-2264462e-b643-4ffb-bab4-70f042469010')\"\n",
              "              title=\"Convert this dataframe to an interactive table.\"\n",
              "              style=\"display:none;\">\n",
              "        \n",
              "  <svg xmlns=\"http://www.w3.org/2000/svg\" height=\"24px\"viewBox=\"0 0 24 24\"\n",
              "       width=\"24px\">\n",
              "    <path d=\"M0 0h24v24H0V0z\" fill=\"none\"/>\n",
              "    <path d=\"M18.56 5.44l.94 2.06.94-2.06 2.06-.94-2.06-.94-.94-2.06-.94 2.06-2.06.94zm-11 1L8.5 8.5l.94-2.06 2.06-.94-2.06-.94L8.5 2.5l-.94 2.06-2.06.94zm10 10l.94 2.06.94-2.06 2.06-.94-2.06-.94-.94-2.06-.94 2.06-2.06.94z\"/><path d=\"M17.41 7.96l-1.37-1.37c-.4-.4-.92-.59-1.43-.59-.52 0-1.04.2-1.43.59L10.3 9.45l-7.72 7.72c-.78.78-.78 2.05 0 2.83L4 21.41c.39.39.9.59 1.41.59.51 0 1.02-.2 1.41-.59l7.78-7.78 2.81-2.81c.8-.78.8-2.07 0-2.86zM5.41 20L4 18.59l7.72-7.72 1.47 1.35L5.41 20z\"/>\n",
              "  </svg>\n",
              "      </button>\n",
              "      \n",
              "  <style>\n",
              "    .colab-df-container {\n",
              "      display:flex;\n",
              "      flex-wrap:wrap;\n",
              "      gap: 12px;\n",
              "    }\n",
              "\n",
              "    .colab-df-convert {\n",
              "      background-color: #E8F0FE;\n",
              "      border: none;\n",
              "      border-radius: 50%;\n",
              "      cursor: pointer;\n",
              "      display: none;\n",
              "      fill: #1967D2;\n",
              "      height: 32px;\n",
              "      padding: 0 0 0 0;\n",
              "      width: 32px;\n",
              "    }\n",
              "\n",
              "    .colab-df-convert:hover {\n",
              "      background-color: #E2EBFA;\n",
              "      box-shadow: 0px 1px 2px rgba(60, 64, 67, 0.3), 0px 1px 3px 1px rgba(60, 64, 67, 0.15);\n",
              "      fill: #174EA6;\n",
              "    }\n",
              "\n",
              "    [theme=dark] .colab-df-convert {\n",
              "      background-color: #3B4455;\n",
              "      fill: #D2E3FC;\n",
              "    }\n",
              "\n",
              "    [theme=dark] .colab-df-convert:hover {\n",
              "      background-color: #434B5C;\n",
              "      box-shadow: 0px 1px 3px 1px rgba(0, 0, 0, 0.15);\n",
              "      filter: drop-shadow(0px 1px 2px rgba(0, 0, 0, 0.3));\n",
              "      fill: #FFFFFF;\n",
              "    }\n",
              "  </style>\n",
              "\n",
              "      <script>\n",
              "        const buttonEl =\n",
              "          document.querySelector('#df-2264462e-b643-4ffb-bab4-70f042469010 button.colab-df-convert');\n",
              "        buttonEl.style.display =\n",
              "          google.colab.kernel.accessAllowed ? 'block' : 'none';\n",
              "\n",
              "        async function convertToInteractive(key) {\n",
              "          const element = document.querySelector('#df-2264462e-b643-4ffb-bab4-70f042469010');\n",
              "          const dataTable =\n",
              "            await google.colab.kernel.invokeFunction('convertToInteractive',\n",
              "                                                     [key], {});\n",
              "          if (!dataTable) return;\n",
              "\n",
              "          const docLinkHtml = 'Like what you see? Visit the ' +\n",
              "            '<a target=\"_blank\" href=https://colab.research.google.com/notebooks/data_table.ipynb>data table notebook</a>'\n",
              "            + ' to learn more about interactive tables.';\n",
              "          element.innerHTML = '';\n",
              "          dataTable['output_type'] = 'display_data';\n",
              "          await google.colab.output.renderOutput(dataTable, element);\n",
              "          const docLink = document.createElement('div');\n",
              "          docLink.innerHTML = docLinkHtml;\n",
              "          element.appendChild(docLink);\n",
              "        }\n",
              "      </script>\n",
              "    </div>\n",
              "  </div>\n",
              "  "
            ],
            "text/plain": [
              "        category                                               text\n",
              "0           tech  tv future in the hands of viewers with home th...\n",
              "1       business  worldcom boss  left books alone  former worldc...\n",
              "2          sport  tigers wary of farrell  gamble  leicester say ...\n",
              "3          sport  yeading face newcastle in fa cup premiership s...\n",
              "4  entertainment  ocean s twelve raids box office ocean s twelve..."
            ]
          },
          "execution_count": 53,
          "metadata": {},
          "output_type": "execute_result"
        }
      ],
      "source": [
        "df.head(5)"
      ]
    },
    {
      "cell_type": "markdown",
      "metadata": {
        "id": "xHdFAGsZ8-M1"
      },
      "source": [
        "## Cleaning the text column by using\n",
        "1.   nltk word tokenizer\n",
        "2.   alphanumeric  check\n",
        "3.   stop words removal\n",
        "4.   lower case conversion\n",
        "5.   lemmatization of words\n",
        "\n",
        "\n"
      ]
    },
    {
      "cell_type": "code",
      "execution_count": 54,
      "metadata": {
        "id": "7GFiyMivYUcG"
      },
      "outputs": [],
      "source": [
        "nltkStopwords = nltk.corpus.stopwords.words('english')\n",
        "lemmatizer = nltk.stem.WordNetLemmatizer()\n",
        "def tokenizeCleanLemmatizeWords(data):\n",
        "    nltkWords = nltk.tokenize.word_tokenize(data)\n",
        "    nltkCleanWords = [w for w in nltkWords if w.isalnum() and len(w)>1]\n",
        "    nltkCleanWords = [w.lower() for w in nltkCleanWords if w not in nltkStopwords]    \n",
        "    return [lemmatizer.lemmatize(w) for w in nltkCleanWords]"
      ]
    },
    {
      "cell_type": "code",
      "execution_count": 55,
      "metadata": {
        "id": "aggX5LjFYUen"
      },
      "outputs": [],
      "source": [
        "df['clean_text'] = df['text'].apply(lambda x: tokenizeCleanLemmatizeWords(x))"
      ]
    },
    {
      "cell_type": "code",
      "execution_count": 56,
      "metadata": {
        "colab": {
          "base_uri": "https://localhost:8080/",
          "height": 206
        },
        "id": "xv-1pEUoYUgy",
        "outputId": "bf732289-9088-4dc7-f770-d43de377f257"
      },
      "outputs": [
        {
          "data": {
            "text/html": [
              "\n",
              "  <div id=\"df-16d6d05d-2459-46b5-8dcc-c3ed8e0cc4ff\">\n",
              "    <div class=\"colab-df-container\">\n",
              "      <div>\n",
              "<style scoped>\n",
              "    .dataframe tbody tr th:only-of-type {\n",
              "        vertical-align: middle;\n",
              "    }\n",
              "\n",
              "    .dataframe tbody tr th {\n",
              "        vertical-align: top;\n",
              "    }\n",
              "\n",
              "    .dataframe thead th {\n",
              "        text-align: right;\n",
              "    }\n",
              "</style>\n",
              "<table border=\"1\" class=\"dataframe\">\n",
              "  <thead>\n",
              "    <tr style=\"text-align: right;\">\n",
              "      <th></th>\n",
              "      <th>category</th>\n",
              "      <th>text</th>\n",
              "      <th>clean_text</th>\n",
              "    </tr>\n",
              "  </thead>\n",
              "  <tbody>\n",
              "    <tr>\n",
              "      <th>0</th>\n",
              "      <td>tech</td>\n",
              "      <td>tv future in the hands of viewers with home th...</td>\n",
              "      <td>[tv, future, hand, viewer, home, theatre, syst...</td>\n",
              "    </tr>\n",
              "    <tr>\n",
              "      <th>1</th>\n",
              "      <td>business</td>\n",
              "      <td>worldcom boss  left books alone  former worldc...</td>\n",
              "      <td>[worldcom, bos, left, book, alone, former, wor...</td>\n",
              "    </tr>\n",
              "    <tr>\n",
              "      <th>2</th>\n",
              "      <td>sport</td>\n",
              "      <td>tigers wary of farrell  gamble  leicester say ...</td>\n",
              "      <td>[tiger, wary, farrell, gamble, leicester, say,...</td>\n",
              "    </tr>\n",
              "    <tr>\n",
              "      <th>3</th>\n",
              "      <td>sport</td>\n",
              "      <td>yeading face newcastle in fa cup premiership s...</td>\n",
              "      <td>[yeading, face, newcastle, fa, cup, premiershi...</td>\n",
              "    </tr>\n",
              "    <tr>\n",
              "      <th>4</th>\n",
              "      <td>entertainment</td>\n",
              "      <td>ocean s twelve raids box office ocean s twelve...</td>\n",
              "      <td>[ocean, twelve, raid, box, office, ocean, twel...</td>\n",
              "    </tr>\n",
              "  </tbody>\n",
              "</table>\n",
              "</div>\n",
              "      <button class=\"colab-df-convert\" onclick=\"convertToInteractive('df-16d6d05d-2459-46b5-8dcc-c3ed8e0cc4ff')\"\n",
              "              title=\"Convert this dataframe to an interactive table.\"\n",
              "              style=\"display:none;\">\n",
              "        \n",
              "  <svg xmlns=\"http://www.w3.org/2000/svg\" height=\"24px\"viewBox=\"0 0 24 24\"\n",
              "       width=\"24px\">\n",
              "    <path d=\"M0 0h24v24H0V0z\" fill=\"none\"/>\n",
              "    <path d=\"M18.56 5.44l.94 2.06.94-2.06 2.06-.94-2.06-.94-.94-2.06-.94 2.06-2.06.94zm-11 1L8.5 8.5l.94-2.06 2.06-.94-2.06-.94L8.5 2.5l-.94 2.06-2.06.94zm10 10l.94 2.06.94-2.06 2.06-.94-2.06-.94-.94-2.06-.94 2.06-2.06.94z\"/><path d=\"M17.41 7.96l-1.37-1.37c-.4-.4-.92-.59-1.43-.59-.52 0-1.04.2-1.43.59L10.3 9.45l-7.72 7.72c-.78.78-.78 2.05 0 2.83L4 21.41c.39.39.9.59 1.41.59.51 0 1.02-.2 1.41-.59l7.78-7.78 2.81-2.81c.8-.78.8-2.07 0-2.86zM5.41 20L4 18.59l7.72-7.72 1.47 1.35L5.41 20z\"/>\n",
              "  </svg>\n",
              "      </button>\n",
              "      \n",
              "  <style>\n",
              "    .colab-df-container {\n",
              "      display:flex;\n",
              "      flex-wrap:wrap;\n",
              "      gap: 12px;\n",
              "    }\n",
              "\n",
              "    .colab-df-convert {\n",
              "      background-color: #E8F0FE;\n",
              "      border: none;\n",
              "      border-radius: 50%;\n",
              "      cursor: pointer;\n",
              "      display: none;\n",
              "      fill: #1967D2;\n",
              "      height: 32px;\n",
              "      padding: 0 0 0 0;\n",
              "      width: 32px;\n",
              "    }\n",
              "\n",
              "    .colab-df-convert:hover {\n",
              "      background-color: #E2EBFA;\n",
              "      box-shadow: 0px 1px 2px rgba(60, 64, 67, 0.3), 0px 1px 3px 1px rgba(60, 64, 67, 0.15);\n",
              "      fill: #174EA6;\n",
              "    }\n",
              "\n",
              "    [theme=dark] .colab-df-convert {\n",
              "      background-color: #3B4455;\n",
              "      fill: #D2E3FC;\n",
              "    }\n",
              "\n",
              "    [theme=dark] .colab-df-convert:hover {\n",
              "      background-color: #434B5C;\n",
              "      box-shadow: 0px 1px 3px 1px rgba(0, 0, 0, 0.15);\n",
              "      filter: drop-shadow(0px 1px 2px rgba(0, 0, 0, 0.3));\n",
              "      fill: #FFFFFF;\n",
              "    }\n",
              "  </style>\n",
              "\n",
              "      <script>\n",
              "        const buttonEl =\n",
              "          document.querySelector('#df-16d6d05d-2459-46b5-8dcc-c3ed8e0cc4ff button.colab-df-convert');\n",
              "        buttonEl.style.display =\n",
              "          google.colab.kernel.accessAllowed ? 'block' : 'none';\n",
              "\n",
              "        async function convertToInteractive(key) {\n",
              "          const element = document.querySelector('#df-16d6d05d-2459-46b5-8dcc-c3ed8e0cc4ff');\n",
              "          const dataTable =\n",
              "            await google.colab.kernel.invokeFunction('convertToInteractive',\n",
              "                                                     [key], {});\n",
              "          if (!dataTable) return;\n",
              "\n",
              "          const docLinkHtml = 'Like what you see? Visit the ' +\n",
              "            '<a target=\"_blank\" href=https://colab.research.google.com/notebooks/data_table.ipynb>data table notebook</a>'\n",
              "            + ' to learn more about interactive tables.';\n",
              "          element.innerHTML = '';\n",
              "          dataTable['output_type'] = 'display_data';\n",
              "          await google.colab.output.renderOutput(dataTable, element);\n",
              "          const docLink = document.createElement('div');\n",
              "          docLink.innerHTML = docLinkHtml;\n",
              "          element.appendChild(docLink);\n",
              "        }\n",
              "      </script>\n",
              "    </div>\n",
              "  </div>\n",
              "  "
            ],
            "text/plain": [
              "        category                                               text  \\\n",
              "0           tech  tv future in the hands of viewers with home th...   \n",
              "1       business  worldcom boss  left books alone  former worldc...   \n",
              "2          sport  tigers wary of farrell  gamble  leicester say ...   \n",
              "3          sport  yeading face newcastle in fa cup premiership s...   \n",
              "4  entertainment  ocean s twelve raids box office ocean s twelve...   \n",
              "\n",
              "                                          clean_text  \n",
              "0  [tv, future, hand, viewer, home, theatre, syst...  \n",
              "1  [worldcom, bos, left, book, alone, former, wor...  \n",
              "2  [tiger, wary, farrell, gamble, leicester, say,...  \n",
              "3  [yeading, face, newcastle, fa, cup, premiershi...  \n",
              "4  [ocean, twelve, raid, box, office, ocean, twel...  "
            ]
          },
          "execution_count": 56,
          "metadata": {},
          "output_type": "execute_result"
        }
      ],
      "source": [
        "df.head()"
      ]
    },
    {
      "cell_type": "markdown",
      "metadata": {
        "id": "v_F9_XUl9dDL"
      },
      "source": [
        "## (1)    TF-IDF after normal cleaning of the text corpus (punctuation removal, stopword removal, etc.)\n"
      ]
    },
    {
      "cell_type": "code",
      "execution_count": 57,
      "metadata": {
        "colab": {
          "base_uri": "https://localhost:8080/"
        },
        "id": "DqufOxEGYUi-",
        "outputId": "01a8b1ea-baa6-4a61-f002-a48e0face9fe"
      },
      "outputs": [
        {
          "data": {
            "text/plain": [
              "25468"
            ]
          },
          "execution_count": 57,
          "metadata": {},
          "output_type": "execute_result"
        }
      ],
      "source": [
        "from gensim.corpora import Dictionary\n",
        "dictionary_basic = Dictionary(df['clean_text'])\n",
        "len(dictionary_basic.token2id)"
      ]
    },
    {
      "cell_type": "markdown",
      "metadata": {
        "id": "77MS6XYs9jqQ"
      },
      "source": [
        "## (2)    TF-IDF with term frequency filter, to exclude the top 10% of the most frequent words and words that appear less than 5 times in the documents.\n"
      ]
    },
    {
      "cell_type": "code",
      "execution_count": 58,
      "metadata": {
        "colab": {
          "base_uri": "https://localhost:8080/"
        },
        "id": "b9EwVyyCYUlE",
        "outputId": "49342fee-f4dc-4cdf-9e7d-ef4fdec1ea31"
      },
      "outputs": [
        {
          "data": {
            "text/plain": [
              "8070"
            ]
          },
          "execution_count": 58,
          "metadata": {},
          "output_type": "execute_result"
        }
      ],
      "source": [
        "dictionary_freq_filter=Dictionary(df['clean_text'])\n",
        "dictionary_freq_filter.filter_extremes(no_below=5, no_above=0.90)\n",
        "len(dictionary_freq_filter)"
      ]
    },
    {
      "cell_type": "code",
      "execution_count": 59,
      "metadata": {
        "colab": {
          "base_uri": "https://localhost:8080/",
          "height": 206
        },
        "id": "lMNbYqQmv3e4",
        "outputId": "ff253a6d-9e52-4b0f-fb53-7be1de4a128a"
      },
      "outputs": [
        {
          "data": {
            "text/html": [
              "\n",
              "  <div id=\"df-a0bd02fe-7dff-4418-b8e7-daddaccf6307\">\n",
              "    <div class=\"colab-df-container\">\n",
              "      <div>\n",
              "<style scoped>\n",
              "    .dataframe tbody tr th:only-of-type {\n",
              "        vertical-align: middle;\n",
              "    }\n",
              "\n",
              "    .dataframe tbody tr th {\n",
              "        vertical-align: top;\n",
              "    }\n",
              "\n",
              "    .dataframe thead th {\n",
              "        text-align: right;\n",
              "    }\n",
              "</style>\n",
              "<table border=\"1\" class=\"dataframe\">\n",
              "  <thead>\n",
              "    <tr style=\"text-align: right;\">\n",
              "      <th></th>\n",
              "      <th>category</th>\n",
              "      <th>text</th>\n",
              "      <th>clean_text</th>\n",
              "    </tr>\n",
              "  </thead>\n",
              "  <tbody>\n",
              "    <tr>\n",
              "      <th>0</th>\n",
              "      <td>tech</td>\n",
              "      <td>tv future in the hands of viewers with home th...</td>\n",
              "      <td>[tv, future, hand, viewer, home, theatre, syst...</td>\n",
              "    </tr>\n",
              "    <tr>\n",
              "      <th>1</th>\n",
              "      <td>business</td>\n",
              "      <td>worldcom boss  left books alone  former worldc...</td>\n",
              "      <td>[worldcom, bos, left, book, alone, former, wor...</td>\n",
              "    </tr>\n",
              "    <tr>\n",
              "      <th>2</th>\n",
              "      <td>sport</td>\n",
              "      <td>tigers wary of farrell  gamble  leicester say ...</td>\n",
              "      <td>[tiger, wary, farrell, gamble, leicester, say,...</td>\n",
              "    </tr>\n",
              "    <tr>\n",
              "      <th>3</th>\n",
              "      <td>sport</td>\n",
              "      <td>yeading face newcastle in fa cup premiership s...</td>\n",
              "      <td>[yeading, face, newcastle, fa, cup, premiershi...</td>\n",
              "    </tr>\n",
              "    <tr>\n",
              "      <th>4</th>\n",
              "      <td>entertainment</td>\n",
              "      <td>ocean s twelve raids box office ocean s twelve...</td>\n",
              "      <td>[ocean, twelve, raid, box, office, ocean, twel...</td>\n",
              "    </tr>\n",
              "  </tbody>\n",
              "</table>\n",
              "</div>\n",
              "      <button class=\"colab-df-convert\" onclick=\"convertToInteractive('df-a0bd02fe-7dff-4418-b8e7-daddaccf6307')\"\n",
              "              title=\"Convert this dataframe to an interactive table.\"\n",
              "              style=\"display:none;\">\n",
              "        \n",
              "  <svg xmlns=\"http://www.w3.org/2000/svg\" height=\"24px\"viewBox=\"0 0 24 24\"\n",
              "       width=\"24px\">\n",
              "    <path d=\"M0 0h24v24H0V0z\" fill=\"none\"/>\n",
              "    <path d=\"M18.56 5.44l.94 2.06.94-2.06 2.06-.94-2.06-.94-.94-2.06-.94 2.06-2.06.94zm-11 1L8.5 8.5l.94-2.06 2.06-.94-2.06-.94L8.5 2.5l-.94 2.06-2.06.94zm10 10l.94 2.06.94-2.06 2.06-.94-2.06-.94-.94-2.06-.94 2.06-2.06.94z\"/><path d=\"M17.41 7.96l-1.37-1.37c-.4-.4-.92-.59-1.43-.59-.52 0-1.04.2-1.43.59L10.3 9.45l-7.72 7.72c-.78.78-.78 2.05 0 2.83L4 21.41c.39.39.9.59 1.41.59.51 0 1.02-.2 1.41-.59l7.78-7.78 2.81-2.81c.8-.78.8-2.07 0-2.86zM5.41 20L4 18.59l7.72-7.72 1.47 1.35L5.41 20z\"/>\n",
              "  </svg>\n",
              "      </button>\n",
              "      \n",
              "  <style>\n",
              "    .colab-df-container {\n",
              "      display:flex;\n",
              "      flex-wrap:wrap;\n",
              "      gap: 12px;\n",
              "    }\n",
              "\n",
              "    .colab-df-convert {\n",
              "      background-color: #E8F0FE;\n",
              "      border: none;\n",
              "      border-radius: 50%;\n",
              "      cursor: pointer;\n",
              "      display: none;\n",
              "      fill: #1967D2;\n",
              "      height: 32px;\n",
              "      padding: 0 0 0 0;\n",
              "      width: 32px;\n",
              "    }\n",
              "\n",
              "    .colab-df-convert:hover {\n",
              "      background-color: #E2EBFA;\n",
              "      box-shadow: 0px 1px 2px rgba(60, 64, 67, 0.3), 0px 1px 3px 1px rgba(60, 64, 67, 0.15);\n",
              "      fill: #174EA6;\n",
              "    }\n",
              "\n",
              "    [theme=dark] .colab-df-convert {\n",
              "      background-color: #3B4455;\n",
              "      fill: #D2E3FC;\n",
              "    }\n",
              "\n",
              "    [theme=dark] .colab-df-convert:hover {\n",
              "      background-color: #434B5C;\n",
              "      box-shadow: 0px 1px 3px 1px rgba(0, 0, 0, 0.15);\n",
              "      filter: drop-shadow(0px 1px 2px rgba(0, 0, 0, 0.3));\n",
              "      fill: #FFFFFF;\n",
              "    }\n",
              "  </style>\n",
              "\n",
              "      <script>\n",
              "        const buttonEl =\n",
              "          document.querySelector('#df-a0bd02fe-7dff-4418-b8e7-daddaccf6307 button.colab-df-convert');\n",
              "        buttonEl.style.display =\n",
              "          google.colab.kernel.accessAllowed ? 'block' : 'none';\n",
              "\n",
              "        async function convertToInteractive(key) {\n",
              "          const element = document.querySelector('#df-a0bd02fe-7dff-4418-b8e7-daddaccf6307');\n",
              "          const dataTable =\n",
              "            await google.colab.kernel.invokeFunction('convertToInteractive',\n",
              "                                                     [key], {});\n",
              "          if (!dataTable) return;\n",
              "\n",
              "          const docLinkHtml = 'Like what you see? Visit the ' +\n",
              "            '<a target=\"_blank\" href=https://colab.research.google.com/notebooks/data_table.ipynb>data table notebook</a>'\n",
              "            + ' to learn more about interactive tables.';\n",
              "          element.innerHTML = '';\n",
              "          dataTable['output_type'] = 'display_data';\n",
              "          await google.colab.output.renderOutput(dataTable, element);\n",
              "          const docLink = document.createElement('div');\n",
              "          docLink.innerHTML = docLinkHtml;\n",
              "          element.appendChild(docLink);\n",
              "        }\n",
              "      </script>\n",
              "    </div>\n",
              "  </div>\n",
              "  "
            ],
            "text/plain": [
              "        category                                               text  \\\n",
              "0           tech  tv future in the hands of viewers with home th...   \n",
              "1       business  worldcom boss  left books alone  former worldc...   \n",
              "2          sport  tigers wary of farrell  gamble  leicester say ...   \n",
              "3          sport  yeading face newcastle in fa cup premiership s...   \n",
              "4  entertainment  ocean s twelve raids box office ocean s twelve...   \n",
              "\n",
              "                                          clean_text  \n",
              "0  [tv, future, hand, viewer, home, theatre, syst...  \n",
              "1  [worldcom, bos, left, book, alone, former, wor...  \n",
              "2  [tiger, wary, farrell, gamble, leicester, say,...  \n",
              "3  [yeading, face, newcastle, fa, cup, premiershi...  \n",
              "4  [ocean, twelve, raid, box, office, ocean, twel...  "
            ]
          },
          "execution_count": 59,
          "metadata": {},
          "output_type": "execute_result"
        }
      ],
      "source": [
        "df.head()"
      ]
    },
    {
      "cell_type": "markdown",
      "metadata": {
        "id": "_liCG6cZ9qq-"
      },
      "source": [
        "## Below function extracts topics and calculating the coherence score using LSI model for each record"
      ]
    },
    {
      "cell_type": "code",
      "execution_count": 11,
      "metadata": {
        "id": "xjnum9UXYUnS"
      },
      "outputs": [],
      "source": [
        "from gensim.models import LsiModel, CoherenceModel\n",
        "def getTopicByGenismLsi(dictionary_var,row):\n",
        "  dtm = [dictionary_var.doc2bow(row)]\n",
        "  lsi_model = LsiModel(corpus=dtm, id2word=dictionary_var, num_topics=1)\n",
        "  result = dict(); \n",
        "  result['coherence'] = CoherenceModel(model=lsi_model, texts=df['clean_text'],dictionary=dictionary_var, coherence='c_v').get_coherence()\n",
        "  result['words']   = lsi_model.print_topics(-1)\n",
        "  return result"
      ]
    },
    {
      "cell_type": "markdown",
      "metadata": {
        "id": "RXU_38Bu-pHf"
      },
      "source": [
        "## Below function extracts topics and calculating the coherence score using LDA model for each record"
      ]
    },
    {
      "cell_type": "code",
      "execution_count": 12,
      "metadata": {
        "id": "BxWms2Egx2AL"
      },
      "outputs": [],
      "source": [
        "from gensim.models import LdaModel, LdaMulticore\n",
        "def getTopicByGenismLda(dictionary_var,row):\n",
        "  dtm = [dictionary_var.doc2bow(row)]\n",
        "  goodLdaModel= LdaMulticore(corpus=dtm, id2word=dictionary_var, passes = 5, workers = 8, iterations = 50, num_topics=1)\n",
        "  goodcm = CoherenceModel(model=goodLdaModel, texts=df['clean_text'].tolist(), dictionary=dictionary_basic, coherence='c_v')\n",
        "  print(goodcm)\n",
        "  result = dict(); \n",
        "  result['coherence'] = goodcm.get_coherence()\n",
        "  result['words']   = goodLdaModel.print_topics(-1)\n",
        "  return result"
      ]
    },
    {
      "cell_type": "code",
      "execution_count": 13,
      "metadata": {
        "id": "Pgn6uhscs8Y6"
      },
      "outputs": [],
      "source": [
        "df['spacy_lsi_words']=''\n",
        "df['spacy_lda_words']=''\n",
        "df['basic_lsi_words']=''\n",
        "df['basic_lda_words']=''\n",
        "df['freqfilter_lsi_words']=''\n",
        "df['freqfilter_lda_words']=''\n",
        "df['basic_lsi_coherance']=''\n",
        "df['basic_lda_coherance']=''"
      ]
    },
    {
      "cell_type": "code",
      "execution_count": null,
      "metadata": {
        "id": "ouob9MlAq_Ff"
      },
      "outputs": [],
      "source": [
        "##iterating the dataframe to get the topic and coherance score\n",
        "for i,row in df.iterrows():\n",
        "  print(\"iter for\",i)\n",
        "  result_lsi=getTopicByGenismLsi(dictionary_basic,row['clean_text'])\n",
        "  df['basic_lsi_coherance'][i]=result_lsi.get('coherence')\n",
        "  df['basic_lsi_words'][i]=result_lsi.get('words')  \n",
        "  result_lda=getTopicByGenismLda(dictionary_basic,row['clean_text'])\n",
        "  df['basic_lda_coherance'][i]=result_lda.get('coherence')\n",
        "  df['basic_lda_words'][i]=result_lda.get('words')"
      ]
    },
    {
      "cell_type": "markdown",
      "metadata": {
        "id": "1FjbLxou-30w"
      },
      "source": [
        "## saving the output to csv to avoid reruns on google collab"
      ]
    },
    {
      "cell_type": "code",
      "execution_count": null,
      "metadata": {
        "id": "JoPpTnJrtI-Z"
      },
      "outputs": [],
      "source": [
        "df.to_csv(\"output_basic.csv\")"
      ]
    },
    {
      "cell_type": "code",
      "execution_count": 105,
      "metadata": {
        "colab": {
          "base_uri": "https://localhost:8080/"
        },
        "id": "usmuQERcsyrR",
        "outputId": "aefc3d32-c74b-404a-8417-afb964feb625"
      },
      "outputs": [
        {
          "data": {
            "text/plain": [
              "2225"
            ]
          },
          "execution_count": 105,
          "metadata": {},
          "output_type": "execute_result"
        }
      ],
      "source": [
        "len(df)"
      ]
    },
    {
      "cell_type": "markdown",
      "metadata": {
        "id": "lZ35xMi8-_Rj"
      },
      "source": [
        "##  TF-IDF limited to nouns, noun phrases, and named entity recognition only."
      ]
    },
    {
      "cell_type": "code",
      "execution_count": 60,
      "metadata": {
        "id": "o86SmMtVYTSG"
      },
      "outputs": [],
      "source": [
        "##loading the spacy\n",
        "import pandas as pd\n",
        "sp = spacy.load(\"en_core_web_sm\")\n",
        "def getSpacyExtractFeatures(row):\n",
        "  spCorpus = sp(row)\n",
        "  spCleanWords = [w.text.lower() for w in spCorpus\n",
        "                  if not w.is_stop and not w.is_punct and len(w)>1]\n",
        "  CleanSentence = ' '.join(spCleanWords)\n",
        "  spCorpus = sp(CleanSentence)\n",
        "\n",
        "  nounsNounPhrasesAndNER=[]\n",
        "  for w in spCorpus:\n",
        "    if w.pos_ == 'NOUN':\n",
        "      nounsNounPhrasesAndNER.append(str(w))\n",
        "  for chunk in spCorpus.noun_chunks:\n",
        "    nounsNounPhrasesAndNER.append(str(chunk))\n",
        "  for ent in spCorpus.ents:\n",
        "    nounsNounPhrasesAndNER.append(str(ent))\n",
        "  return  nounsNounPhrasesAndNER"
      ]
    },
    {
      "cell_type": "code",
      "execution_count": 61,
      "metadata": {
        "id": "Vlu1nVi7XZjZ"
      },
      "outputs": [],
      "source": [
        "df['spacy_features']=df['text'].apply(lambda x: getSpacyExtractFeatures(x))\n"
      ]
    },
    {
      "cell_type": "markdown",
      "metadata": {
        "id": "bSn7_lXr_HOs"
      },
      "source": [
        "## (3) Creating a dictionary with the features extracted from spacy. "
      ]
    },
    {
      "cell_type": "code",
      "execution_count": 37,
      "metadata": {
        "colab": {
          "base_uri": "https://localhost:8080/"
        },
        "id": "VAD3sE0_YgIe",
        "outputId": "e71cff41-2104-4897-d293-f88226cfe67f"
      },
      "outputs": [
        {
          "name": "stdout",
          "output_type": "stream",
          "text": [
            "89012\n"
          ]
        }
      ],
      "source": [
        "dictionary_spacy=Dictionary(df['spacy_features'])\n",
        "print(len(dictionary_spacy))\n"
      ]
    },
    {
      "cell_type": "markdown",
      "metadata": {
        "id": "baC259y5_xSR"
      },
      "source": [
        "## Below function generate the topics using LSI and LDA models and returns a dictionary of results\n"
      ]
    },
    {
      "cell_type": "code",
      "execution_count": 18,
      "metadata": {
        "id": "IG-noCt6lLl7"
      },
      "outputs": [],
      "source": [
        "from gensim.models import LsiModel, CoherenceModel\n",
        "from gensim.models import LdaModel, LdaMulticore\n",
        "\n",
        "def getTopicByGenismLsiLDa(dictionary_var,row):\n",
        "    dtm = [dictionary_var.doc2bow(row)]\n",
        "    lsi_model = LsiModel(corpus=dtm, id2word=dictionary_var, num_topics=1)\n",
        "   # goodLdaModel = LdaModel(corpus=dtm, id2word=dictionary_var, iterations=50, num_topics=1)\n",
        "    goodLdaModel= LdaMulticore(corpus=dtm, id2word=dictionary_var, passes = 5, workers = 8, iterations = 50, num_topics=1)\n",
        "    result = dict(); \n",
        "    result['lsi_words'] = lsi_model.print_topics(-1)\n",
        "    result['lda_words']   = goodLdaModel.print_topics(-1)\n",
        "    return result"
      ]
    },
    {
      "cell_type": "code",
      "execution_count": null,
      "metadata": {
        "id": "yW66acxrYUxt"
      },
      "outputs": [],
      "source": [
        "for i,row in df.iterrows():\n",
        "  print(\"iter for\",i)\n",
        "  result=getTopicByGenismLsiLDa(dictionary_spacy,row['spacy_features'])\n",
        "  df['spacy_lsi_words'][i]=result.get('lsi_words')\n",
        "  df['spacy_lda_words'][i]=result.get('lda_words')"
      ]
    },
    {
      "cell_type": "markdown",
      "metadata": {
        "id": "ow5TdJjvBOOw"
      },
      "source": [
        "## creating a result dataframe "
      ]
    },
    {
      "cell_type": "code",
      "execution_count": 116,
      "metadata": {
        "colab": {
          "base_uri": "https://localhost:8080/"
        },
        "id": "dJBAhkHGt3zg",
        "outputId": "d4141b23-3bcf-48e0-eb67-028ee9ebcc7c"
      },
      "outputs": [
        {
          "name": "stdout",
          "output_type": "stream",
          "text": [
            "iter for 2214\n"
          ]
        },
        {
          "name": "stderr",
          "output_type": "stream",
          "text": [
            "WARNING:gensim.models.ldamulticore:too few updates, training might not converge; consider increasing the number of passes or iterations to improve accuracy\n"
          ]
        },
        {
          "name": "stdout",
          "output_type": "stream",
          "text": [
            "iter for 2215\n"
          ]
        },
        {
          "name": "stderr",
          "output_type": "stream",
          "text": [
            "WARNING:gensim.models.ldamulticore:too few updates, training might not converge; consider increasing the number of passes or iterations to improve accuracy\n"
          ]
        },
        {
          "name": "stdout",
          "output_type": "stream",
          "text": [
            "iter for 2216\n"
          ]
        },
        {
          "name": "stderr",
          "output_type": "stream",
          "text": [
            "WARNING:gensim.models.ldamulticore:too few updates, training might not converge; consider increasing the number of passes or iterations to improve accuracy\n"
          ]
        },
        {
          "name": "stdout",
          "output_type": "stream",
          "text": [
            "iter for 2217\n"
          ]
        },
        {
          "name": "stderr",
          "output_type": "stream",
          "text": [
            "WARNING:gensim.models.ldamulticore:too few updates, training might not converge; consider increasing the number of passes or iterations to improve accuracy\n"
          ]
        },
        {
          "name": "stdout",
          "output_type": "stream",
          "text": [
            "iter for 2218\n"
          ]
        },
        {
          "name": "stderr",
          "output_type": "stream",
          "text": [
            "WARNING:gensim.models.ldamulticore:too few updates, training might not converge; consider increasing the number of passes or iterations to improve accuracy\n"
          ]
        },
        {
          "name": "stdout",
          "output_type": "stream",
          "text": [
            "iter for 2219\n"
          ]
        },
        {
          "name": "stderr",
          "output_type": "stream",
          "text": [
            "WARNING:gensim.models.ldamulticore:too few updates, training might not converge; consider increasing the number of passes or iterations to improve accuracy\n"
          ]
        },
        {
          "name": "stdout",
          "output_type": "stream",
          "text": [
            "iter for 2220\n"
          ]
        },
        {
          "name": "stderr",
          "output_type": "stream",
          "text": [
            "WARNING:gensim.models.ldamulticore:too few updates, training might not converge; consider increasing the number of passes or iterations to improve accuracy\n"
          ]
        },
        {
          "name": "stdout",
          "output_type": "stream",
          "text": [
            "iter for 2221\n"
          ]
        },
        {
          "name": "stderr",
          "output_type": "stream",
          "text": [
            "WARNING:gensim.models.ldamulticore:too few updates, training might not converge; consider increasing the number of passes or iterations to improve accuracy\n"
          ]
        },
        {
          "name": "stdout",
          "output_type": "stream",
          "text": [
            "iter for 2222\n"
          ]
        },
        {
          "name": "stderr",
          "output_type": "stream",
          "text": [
            "WARNING:gensim.models.ldamulticore:too few updates, training might not converge; consider increasing the number of passes or iterations to improve accuracy\n"
          ]
        },
        {
          "name": "stdout",
          "output_type": "stream",
          "text": [
            "iter for 2223\n"
          ]
        },
        {
          "name": "stderr",
          "output_type": "stream",
          "text": [
            "WARNING:gensim.models.ldamulticore:too few updates, training might not converge; consider increasing the number of passes or iterations to improve accuracy\n"
          ]
        },
        {
          "name": "stdout",
          "output_type": "stream",
          "text": [
            "iter for 2224\n"
          ]
        },
        {
          "name": "stderr",
          "output_type": "stream",
          "text": [
            "WARNING:gensim.models.ldamulticore:too few updates, training might not converge; consider increasing the number of passes or iterations to improve accuracy\n"
          ]
        }
      ],
      "source": [
        "for i,row in df.iterrows():\n",
        "  print(\"iter for\",i)\n",
        "  result=getTopicByGenismLsiLDa(dictionary_freq_filter,row['clean_text'])\n",
        "  df['freqfilter_lsi_words'][i]=result.get('lsi_words')\n",
        "  df['freqfilter_lda_words'][i]=result.get('lda_words')\n"
      ]
    },
    {
      "cell_type": "code",
      "execution_count": 117,
      "metadata": {
        "colab": {
          "base_uri": "https://localhost:8080/",
          "height": 485
        },
        "id": "LxvKklaizV0V",
        "outputId": "d791dc7e-e02c-4966-83b7-8aaaf3494201"
      },
      "outputs": [
        {
          "data": {
            "text/html": [
              "\n",
              "  <div id=\"df-1d9a6988-4a66-46bd-9f51-20f365880d0e\">\n",
              "    <div class=\"colab-df-container\">\n",
              "      <div>\n",
              "<style scoped>\n",
              "    .dataframe tbody tr th:only-of-type {\n",
              "        vertical-align: middle;\n",
              "    }\n",
              "\n",
              "    .dataframe tbody tr th {\n",
              "        vertical-align: top;\n",
              "    }\n",
              "\n",
              "    .dataframe thead th {\n",
              "        text-align: right;\n",
              "    }\n",
              "</style>\n",
              "<table border=\"1\" class=\"dataframe\">\n",
              "  <thead>\n",
              "    <tr style=\"text-align: right;\">\n",
              "      <th></th>\n",
              "      <th>category</th>\n",
              "      <th>text</th>\n",
              "      <th>clean_text</th>\n",
              "      <th>spacy_features</th>\n",
              "      <th>spacy_lsi_words</th>\n",
              "      <th>spacy_lda_words</th>\n",
              "      <th>basic_lsi_words</th>\n",
              "      <th>basic_lda_words</th>\n",
              "      <th>freqfilter_lsi_words</th>\n",
              "      <th>freqfilter_lda_words</th>\n",
              "    </tr>\n",
              "  </thead>\n",
              "  <tbody>\n",
              "    <tr>\n",
              "      <th>0</th>\n",
              "      <td>tech</td>\n",
              "      <td>tv future in the hands of viewers with home th...</td>\n",
              "      <td>[tv, future, hand, viewer, home, theatre, syst...</td>\n",
              "      <td>[tv, future, hands, viewers, home, theatre, sy...</td>\n",
              "      <td>[(0, 0.398*\"people\" + 0.369*\"tv\" + 0.341*\"they...</td>\n",
              "      <td>[(0, 0.002*\"people\" + 0.002*\"tv\" + 0.002*\"they...</td>\n",
              "      <td></td>\n",
              "      <td></td>\n",
              "      <td>[(0, 0.438*\"tv\" + 0.219*\"want\" + 0.219*\"people...</td>\n",
              "      <td>[(0, 0.002*\"tv\" + 0.001*\"u\" + 0.001*\"want\" + 0...</td>\n",
              "    </tr>\n",
              "    <tr>\n",
              "      <th>1</th>\n",
              "      <td>business</td>\n",
              "      <td>worldcom boss  left books alone  former worldc...</td>\n",
              "      <td>[worldcom, bos, left, book, alone, former, wor...</td>\n",
              "      <td>[books, ebbers, fraud, accounting, decisions, ...</td>\n",
              "      <td>[(0, 0.349*\"ebbers\" + 0.291*\"accounting\" + 0.2...</td>\n",
              "      <td>[(0, 0.001*\"ebbers\" + 0.001*\"fraud\" + 0.001*\"a...</td>\n",
              "      <td></td>\n",
              "      <td></td>\n",
              "      <td>[(0, 0.528*\"mr\" + 0.352*\"worldcom\" + 0.308*\"eb...</td>\n",
              "      <td>[(0, 0.002*\"mr\" + 0.001*\"worldcom\" + 0.001*\"eb...</td>\n",
              "    </tr>\n",
              "    <tr>\n",
              "      <th>2</th>\n",
              "      <td>sport</td>\n",
              "      <td>tigers wary of farrell  gamble  leicester say ...</td>\n",
              "      <td>[tiger, wary, farrell, gamble, leicester, say,...</td>\n",
              "      <td>[tigers, leicester, bid, codes, process, way, ...</td>\n",
              "      <td>[(0, 0.390*\"he\" + 0.312*\"leicester\" + 0.234*\"u...</td>\n",
              "      <td>[(0, 0.001*\"he\" + 0.001*\"leicester\" + 0.000*\"l...</td>\n",
              "      <td></td>\n",
              "      <td></td>\n",
              "      <td>[(0, 0.343*\"farrell\" + 0.206*\"union\" + 0.206*\"...</td>\n",
              "      <td>[(0, 0.001*\"farrell\" + 0.000*\"rugby\" + 0.000*\"...</td>\n",
              "    </tr>\n",
              "  </tbody>\n",
              "</table>\n",
              "</div>\n",
              "      <button class=\"colab-df-convert\" onclick=\"convertToInteractive('df-1d9a6988-4a66-46bd-9f51-20f365880d0e')\"\n",
              "              title=\"Convert this dataframe to an interactive table.\"\n",
              "              style=\"display:none;\">\n",
              "        \n",
              "  <svg xmlns=\"http://www.w3.org/2000/svg\" height=\"24px\"viewBox=\"0 0 24 24\"\n",
              "       width=\"24px\">\n",
              "    <path d=\"M0 0h24v24H0V0z\" fill=\"none\"/>\n",
              "    <path d=\"M18.56 5.44l.94 2.06.94-2.06 2.06-.94-2.06-.94-.94-2.06-.94 2.06-2.06.94zm-11 1L8.5 8.5l.94-2.06 2.06-.94-2.06-.94L8.5 2.5l-.94 2.06-2.06.94zm10 10l.94 2.06.94-2.06 2.06-.94-2.06-.94-.94-2.06-.94 2.06-2.06.94z\"/><path d=\"M17.41 7.96l-1.37-1.37c-.4-.4-.92-.59-1.43-.59-.52 0-1.04.2-1.43.59L10.3 9.45l-7.72 7.72c-.78.78-.78 2.05 0 2.83L4 21.41c.39.39.9.59 1.41.59.51 0 1.02-.2 1.41-.59l7.78-7.78 2.81-2.81c.8-.78.8-2.07 0-2.86zM5.41 20L4 18.59l7.72-7.72 1.47 1.35L5.41 20z\"/>\n",
              "  </svg>\n",
              "      </button>\n",
              "      \n",
              "  <style>\n",
              "    .colab-df-container {\n",
              "      display:flex;\n",
              "      flex-wrap:wrap;\n",
              "      gap: 12px;\n",
              "    }\n",
              "\n",
              "    .colab-df-convert {\n",
              "      background-color: #E8F0FE;\n",
              "      border: none;\n",
              "      border-radius: 50%;\n",
              "      cursor: pointer;\n",
              "      display: none;\n",
              "      fill: #1967D2;\n",
              "      height: 32px;\n",
              "      padding: 0 0 0 0;\n",
              "      width: 32px;\n",
              "    }\n",
              "\n",
              "    .colab-df-convert:hover {\n",
              "      background-color: #E2EBFA;\n",
              "      box-shadow: 0px 1px 2px rgba(60, 64, 67, 0.3), 0px 1px 3px 1px rgba(60, 64, 67, 0.15);\n",
              "      fill: #174EA6;\n",
              "    }\n",
              "\n",
              "    [theme=dark] .colab-df-convert {\n",
              "      background-color: #3B4455;\n",
              "      fill: #D2E3FC;\n",
              "    }\n",
              "\n",
              "    [theme=dark] .colab-df-convert:hover {\n",
              "      background-color: #434B5C;\n",
              "      box-shadow: 0px 1px 3px 1px rgba(0, 0, 0, 0.15);\n",
              "      filter: drop-shadow(0px 1px 2px rgba(0, 0, 0, 0.3));\n",
              "      fill: #FFFFFF;\n",
              "    }\n",
              "  </style>\n",
              "\n",
              "      <script>\n",
              "        const buttonEl =\n",
              "          document.querySelector('#df-1d9a6988-4a66-46bd-9f51-20f365880d0e button.colab-df-convert');\n",
              "        buttonEl.style.display =\n",
              "          google.colab.kernel.accessAllowed ? 'block' : 'none';\n",
              "\n",
              "        async function convertToInteractive(key) {\n",
              "          const element = document.querySelector('#df-1d9a6988-4a66-46bd-9f51-20f365880d0e');\n",
              "          const dataTable =\n",
              "            await google.colab.kernel.invokeFunction('convertToInteractive',\n",
              "                                                     [key], {});\n",
              "          if (!dataTable) return;\n",
              "\n",
              "          const docLinkHtml = 'Like what you see? Visit the ' +\n",
              "            '<a target=\"_blank\" href=https://colab.research.google.com/notebooks/data_table.ipynb>data table notebook</a>'\n",
              "            + ' to learn more about interactive tables.';\n",
              "          element.innerHTML = '';\n",
              "          dataTable['output_type'] = 'display_data';\n",
              "          await google.colab.output.renderOutput(dataTable, element);\n",
              "          const docLink = document.createElement('div');\n",
              "          docLink.innerHTML = docLinkHtml;\n",
              "          element.appendChild(docLink);\n",
              "        }\n",
              "      </script>\n",
              "    </div>\n",
              "  </div>\n",
              "  "
            ],
            "text/plain": [
              "   category                                               text  \\\n",
              "0      tech  tv future in the hands of viewers with home th...   \n",
              "1  business  worldcom boss  left books alone  former worldc...   \n",
              "2     sport  tigers wary of farrell  gamble  leicester say ...   \n",
              "\n",
              "                                          clean_text  \\\n",
              "0  [tv, future, hand, viewer, home, theatre, syst...   \n",
              "1  [worldcom, bos, left, book, alone, former, wor...   \n",
              "2  [tiger, wary, farrell, gamble, leicester, say,...   \n",
              "\n",
              "                                      spacy_features  \\\n",
              "0  [tv, future, hands, viewers, home, theatre, sy...   \n",
              "1  [books, ebbers, fraud, accounting, decisions, ...   \n",
              "2  [tigers, leicester, bid, codes, process, way, ...   \n",
              "\n",
              "                                     spacy_lsi_words  \\\n",
              "0  [(0, 0.398*\"people\" + 0.369*\"tv\" + 0.341*\"they...   \n",
              "1  [(0, 0.349*\"ebbers\" + 0.291*\"accounting\" + 0.2...   \n",
              "2  [(0, 0.390*\"he\" + 0.312*\"leicester\" + 0.234*\"u...   \n",
              "\n",
              "                                     spacy_lda_words basic_lsi_words  \\\n",
              "0  [(0, 0.002*\"people\" + 0.002*\"tv\" + 0.002*\"they...                   \n",
              "1  [(0, 0.001*\"ebbers\" + 0.001*\"fraud\" + 0.001*\"a...                   \n",
              "2  [(0, 0.001*\"he\" + 0.001*\"leicester\" + 0.000*\"l...                   \n",
              "\n",
              "  basic_lda_words                               freqfilter_lsi_words  \\\n",
              "0                  [(0, 0.438*\"tv\" + 0.219*\"want\" + 0.219*\"people...   \n",
              "1                  [(0, 0.528*\"mr\" + 0.352*\"worldcom\" + 0.308*\"eb...   \n",
              "2                  [(0, 0.343*\"farrell\" + 0.206*\"union\" + 0.206*\"...   \n",
              "\n",
              "                                freqfilter_lda_words  \n",
              "0  [(0, 0.002*\"tv\" + 0.001*\"u\" + 0.001*\"want\" + 0...  \n",
              "1  [(0, 0.002*\"mr\" + 0.001*\"worldcom\" + 0.001*\"eb...  \n",
              "2  [(0, 0.001*\"farrell\" + 0.000*\"rugby\" + 0.000*\"...  "
            ]
          },
          "execution_count": 117,
          "metadata": {},
          "output_type": "execute_result"
        }
      ],
      "source": [
        "df.head(3)"
      ]
    },
    {
      "cell_type": "markdown",
      "metadata": {
        "id": "oMa-31-Qzcgr"
      },
      "source": [
        "\n",
        "Basic lsi and Lda model were executed separately and saved to csv as the execution time is longer in google collab resulting in timeout"
      ]
    },
    {
      "cell_type": "code",
      "execution_count": 121,
      "metadata": {
        "colab": {
          "base_uri": "https://localhost:8080/",
          "height": 483
        },
        "id": "gTcRooMmzZ6c",
        "outputId": "8afd7a54-80d7-4c44-96fb-c0e520ff53ec"
      },
      "outputs": [
        {
          "data": {
            "text/html": [
              "\n",
              "  <div id=\"df-9eea9589-63e8-4003-b8e4-412039a07246\">\n",
              "    <div class=\"colab-df-container\">\n",
              "      <div>\n",
              "<style scoped>\n",
              "    .dataframe tbody tr th:only-of-type {\n",
              "        vertical-align: middle;\n",
              "    }\n",
              "\n",
              "    .dataframe tbody tr th {\n",
              "        vertical-align: top;\n",
              "    }\n",
              "\n",
              "    .dataframe thead th {\n",
              "        text-align: right;\n",
              "    }\n",
              "</style>\n",
              "<table border=\"1\" class=\"dataframe\">\n",
              "  <thead>\n",
              "    <tr style=\"text-align: right;\">\n",
              "      <th></th>\n",
              "      <th>Unnamed: 0</th>\n",
              "      <th>category</th>\n",
              "      <th>text</th>\n",
              "      <th>clean_text</th>\n",
              "      <th>tfidf_basic_lsi</th>\n",
              "      <th>tfidf_basic_lsi_coherance</th>\n",
              "      <th>tfidf_basic_lda</th>\n",
              "      <th>tfidf_basic_lda_coherance</th>\n",
              "    </tr>\n",
              "  </thead>\n",
              "  <tbody>\n",
              "    <tr>\n",
              "      <th>0</th>\n",
              "      <td>0</td>\n",
              "      <td>tech</td>\n",
              "      <td>tv future in the hands of viewers with home th...</td>\n",
              "      <td>['tv', 'future', 'hand', 'viewer', 'home', 'th...</td>\n",
              "      <td>[(0, '0.430*\"tv\" + 0.215*\"people\" + 0.215*\"u\" ...</td>\n",
              "      <td>0.497097</td>\n",
              "      <td>[(0, '0.001*\"tv\" + 0.000*\"want\" + 0.000*\"peopl...</td>\n",
              "      <td>0.543320</td>\n",
              "    </tr>\n",
              "    <tr>\n",
              "      <th>1</th>\n",
              "      <td>1</td>\n",
              "      <td>business</td>\n",
              "      <td>worldcom boss  left books alone  former worldc...</td>\n",
              "      <td>['worldcom', 'bos', 'left', 'book', 'alone', '...</td>\n",
              "      <td>[(0, '0.523*\"mr\" + 0.348*\"worldcom\" + 0.305*\"e...</td>\n",
              "      <td>0.522474</td>\n",
              "      <td>[(0, '0.001*\"mr\" + 0.001*\"worldcom\" + 0.000*\"e...</td>\n",
              "      <td>0.600885</td>\n",
              "    </tr>\n",
              "    <tr>\n",
              "      <th>2</th>\n",
              "      <td>2</td>\n",
              "      <td>sport</td>\n",
              "      <td>tigers wary of farrell  gamble  leicester say ...</td>\n",
              "      <td>['tiger', 'wary', 'farrell', 'gamble', 'leices...</td>\n",
              "      <td>[(0, '0.343*\"farrell\" + 0.206*\"leicester\" + 0....</td>\n",
              "      <td>0.330982</td>\n",
              "      <td>[(0, '0.000*\"farrell\" + 0.000*\"gamble\" + 0.000...</td>\n",
              "      <td>0.286034</td>\n",
              "    </tr>\n",
              "  </tbody>\n",
              "</table>\n",
              "</div>\n",
              "      <button class=\"colab-df-convert\" onclick=\"convertToInteractive('df-9eea9589-63e8-4003-b8e4-412039a07246')\"\n",
              "              title=\"Convert this dataframe to an interactive table.\"\n",
              "              style=\"display:none;\">\n",
              "        \n",
              "  <svg xmlns=\"http://www.w3.org/2000/svg\" height=\"24px\"viewBox=\"0 0 24 24\"\n",
              "       width=\"24px\">\n",
              "    <path d=\"M0 0h24v24H0V0z\" fill=\"none\"/>\n",
              "    <path d=\"M18.56 5.44l.94 2.06.94-2.06 2.06-.94-2.06-.94-.94-2.06-.94 2.06-2.06.94zm-11 1L8.5 8.5l.94-2.06 2.06-.94-2.06-.94L8.5 2.5l-.94 2.06-2.06.94zm10 10l.94 2.06.94-2.06 2.06-.94-2.06-.94-.94-2.06-.94 2.06-2.06.94z\"/><path d=\"M17.41 7.96l-1.37-1.37c-.4-.4-.92-.59-1.43-.59-.52 0-1.04.2-1.43.59L10.3 9.45l-7.72 7.72c-.78.78-.78 2.05 0 2.83L4 21.41c.39.39.9.59 1.41.59.51 0 1.02-.2 1.41-.59l7.78-7.78 2.81-2.81c.8-.78.8-2.07 0-2.86zM5.41 20L4 18.59l7.72-7.72 1.47 1.35L5.41 20z\"/>\n",
              "  </svg>\n",
              "      </button>\n",
              "      \n",
              "  <style>\n",
              "    .colab-df-container {\n",
              "      display:flex;\n",
              "      flex-wrap:wrap;\n",
              "      gap: 12px;\n",
              "    }\n",
              "\n",
              "    .colab-df-convert {\n",
              "      background-color: #E8F0FE;\n",
              "      border: none;\n",
              "      border-radius: 50%;\n",
              "      cursor: pointer;\n",
              "      display: none;\n",
              "      fill: #1967D2;\n",
              "      height: 32px;\n",
              "      padding: 0 0 0 0;\n",
              "      width: 32px;\n",
              "    }\n",
              "\n",
              "    .colab-df-convert:hover {\n",
              "      background-color: #E2EBFA;\n",
              "      box-shadow: 0px 1px 2px rgba(60, 64, 67, 0.3), 0px 1px 3px 1px rgba(60, 64, 67, 0.15);\n",
              "      fill: #174EA6;\n",
              "    }\n",
              "\n",
              "    [theme=dark] .colab-df-convert {\n",
              "      background-color: #3B4455;\n",
              "      fill: #D2E3FC;\n",
              "    }\n",
              "\n",
              "    [theme=dark] .colab-df-convert:hover {\n",
              "      background-color: #434B5C;\n",
              "      box-shadow: 0px 1px 3px 1px rgba(0, 0, 0, 0.15);\n",
              "      filter: drop-shadow(0px 1px 2px rgba(0, 0, 0, 0.3));\n",
              "      fill: #FFFFFF;\n",
              "    }\n",
              "  </style>\n",
              "\n",
              "      <script>\n",
              "        const buttonEl =\n",
              "          document.querySelector('#df-9eea9589-63e8-4003-b8e4-412039a07246 button.colab-df-convert');\n",
              "        buttonEl.style.display =\n",
              "          google.colab.kernel.accessAllowed ? 'block' : 'none';\n",
              "\n",
              "        async function convertToInteractive(key) {\n",
              "          const element = document.querySelector('#df-9eea9589-63e8-4003-b8e4-412039a07246');\n",
              "          const dataTable =\n",
              "            await google.colab.kernel.invokeFunction('convertToInteractive',\n",
              "                                                     [key], {});\n",
              "          if (!dataTable) return;\n",
              "\n",
              "          const docLinkHtml = 'Like what you see? Visit the ' +\n",
              "            '<a target=\"_blank\" href=https://colab.research.google.com/notebooks/data_table.ipynb>data table notebook</a>'\n",
              "            + ' to learn more about interactive tables.';\n",
              "          element.innerHTML = '';\n",
              "          dataTable['output_type'] = 'display_data';\n",
              "          await google.colab.output.renderOutput(dataTable, element);\n",
              "          const docLink = document.createElement('div');\n",
              "          docLink.innerHTML = docLinkHtml;\n",
              "          element.appendChild(docLink);\n",
              "        }\n",
              "      </script>\n",
              "    </div>\n",
              "  </div>\n",
              "  "
            ],
            "text/plain": [
              "   Unnamed: 0  category                                               text  \\\n",
              "0           0      tech  tv future in the hands of viewers with home th...   \n",
              "1           1  business  worldcom boss  left books alone  former worldc...   \n",
              "2           2     sport  tigers wary of farrell  gamble  leicester say ...   \n",
              "\n",
              "                                          clean_text  \\\n",
              "0  ['tv', 'future', 'hand', 'viewer', 'home', 'th...   \n",
              "1  ['worldcom', 'bos', 'left', 'book', 'alone', '...   \n",
              "2  ['tiger', 'wary', 'farrell', 'gamble', 'leices...   \n",
              "\n",
              "                                     tfidf_basic_lsi  \\\n",
              "0  [(0, '0.430*\"tv\" + 0.215*\"people\" + 0.215*\"u\" ...   \n",
              "1  [(0, '0.523*\"mr\" + 0.348*\"worldcom\" + 0.305*\"e...   \n",
              "2  [(0, '0.343*\"farrell\" + 0.206*\"leicester\" + 0....   \n",
              "\n",
              "   tfidf_basic_lsi_coherance  \\\n",
              "0                   0.497097   \n",
              "1                   0.522474   \n",
              "2                   0.330982   \n",
              "\n",
              "                                     tfidf_basic_lda  \\\n",
              "0  [(0, '0.001*\"tv\" + 0.000*\"want\" + 0.000*\"peopl...   \n",
              "1  [(0, '0.001*\"mr\" + 0.001*\"worldcom\" + 0.000*\"e...   \n",
              "2  [(0, '0.000*\"farrell\" + 0.000*\"gamble\" + 0.000...   \n",
              "\n",
              "   tfidf_basic_lda_coherance  \n",
              "0                   0.543320  \n",
              "1                   0.600885  \n",
              "2                   0.286034  "
            ]
          },
          "execution_count": 121,
          "metadata": {},
          "output_type": "execute_result"
        }
      ],
      "source": [
        "df_basic=pd.read_csv('output_basic.csv')\n",
        "df_basic.head(3)"
      ]
    },
    {
      "cell_type": "code",
      "execution_count": 144,
      "metadata": {
        "colab": {
          "base_uri": "https://localhost:8080/",
          "height": 367
        },
        "id": "vK-z4qak4z0l",
        "outputId": "68d2b0fb-de9c-4966-c3dd-8244c9afe81b"
      },
      "outputs": [
        {
          "data": {
            "text/html": [
              "\n",
              "  <div id=\"df-27801086-402e-4e7a-adde-dd69d4377c99\">\n",
              "    <div class=\"colab-df-container\">\n",
              "      <div>\n",
              "<style scoped>\n",
              "    .dataframe tbody tr th:only-of-type {\n",
              "        vertical-align: middle;\n",
              "    }\n",
              "\n",
              "    .dataframe tbody tr th {\n",
              "        vertical-align: top;\n",
              "    }\n",
              "\n",
              "    .dataframe thead th {\n",
              "        text-align: right;\n",
              "    }\n",
              "</style>\n",
              "<table border=\"1\" class=\"dataframe\">\n",
              "  <thead>\n",
              "    <tr style=\"text-align: right;\">\n",
              "      <th></th>\n",
              "      <th>category</th>\n",
              "      <th>text</th>\n",
              "      <th>clean_text</th>\n",
              "      <th>spacy_features</th>\n",
              "      <th>spacy_lsi_words</th>\n",
              "      <th>spacy_lda_words</th>\n",
              "      <th>basic_lsi_words</th>\n",
              "      <th>basic_lda_words</th>\n",
              "      <th>freqfilter_lsi_words</th>\n",
              "      <th>freqfilter_lda_words</th>\n",
              "    </tr>\n",
              "  </thead>\n",
              "  <tbody>\n",
              "    <tr>\n",
              "      <th>0</th>\n",
              "      <td>tech</td>\n",
              "      <td>tv future in the hands of viewers with home th...</td>\n",
              "      <td>[tv, future, hand, viewer, home, theatre, syst...</td>\n",
              "      <td>[tv, future, hands, viewers, home, theatre, sy...</td>\n",
              "      <td>[(0, 0.398*\"people\" + 0.369*\"tv\" + 0.341*\"they...</td>\n",
              "      <td>[(0, 0.002*\"people\" + 0.002*\"tv\" + 0.002*\"they...</td>\n",
              "      <td></td>\n",
              "      <td></td>\n",
              "      <td>[(0, 0.438*\"tv\" + 0.219*\"want\" + 0.219*\"people...</td>\n",
              "      <td>[(0, 0.002*\"tv\" + 0.001*\"u\" + 0.001*\"want\" + 0...</td>\n",
              "    </tr>\n",
              "    <tr>\n",
              "      <th>1</th>\n",
              "      <td>business</td>\n",
              "      <td>worldcom boss  left books alone  former worldc...</td>\n",
              "      <td>[worldcom, bos, left, book, alone, former, wor...</td>\n",
              "      <td>[books, ebbers, fraud, accounting, decisions, ...</td>\n",
              "      <td>[(0, 0.349*\"ebbers\" + 0.291*\"accounting\" + 0.2...</td>\n",
              "      <td>[(0, 0.001*\"ebbers\" + 0.001*\"fraud\" + 0.001*\"a...</td>\n",
              "      <td></td>\n",
              "      <td></td>\n",
              "      <td>[(0, 0.528*\"mr\" + 0.352*\"worldcom\" + 0.308*\"eb...</td>\n",
              "      <td>[(0, 0.002*\"mr\" + 0.001*\"worldcom\" + 0.001*\"eb...</td>\n",
              "    </tr>\n",
              "  </tbody>\n",
              "</table>\n",
              "</div>\n",
              "      <button class=\"colab-df-convert\" onclick=\"convertToInteractive('df-27801086-402e-4e7a-adde-dd69d4377c99')\"\n",
              "              title=\"Convert this dataframe to an interactive table.\"\n",
              "              style=\"display:none;\">\n",
              "        \n",
              "  <svg xmlns=\"http://www.w3.org/2000/svg\" height=\"24px\"viewBox=\"0 0 24 24\"\n",
              "       width=\"24px\">\n",
              "    <path d=\"M0 0h24v24H0V0z\" fill=\"none\"/>\n",
              "    <path d=\"M18.56 5.44l.94 2.06.94-2.06 2.06-.94-2.06-.94-.94-2.06-.94 2.06-2.06.94zm-11 1L8.5 8.5l.94-2.06 2.06-.94-2.06-.94L8.5 2.5l-.94 2.06-2.06.94zm10 10l.94 2.06.94-2.06 2.06-.94-2.06-.94-.94-2.06-.94 2.06-2.06.94z\"/><path d=\"M17.41 7.96l-1.37-1.37c-.4-.4-.92-.59-1.43-.59-.52 0-1.04.2-1.43.59L10.3 9.45l-7.72 7.72c-.78.78-.78 2.05 0 2.83L4 21.41c.39.39.9.59 1.41.59.51 0 1.02-.2 1.41-.59l7.78-7.78 2.81-2.81c.8-.78.8-2.07 0-2.86zM5.41 20L4 18.59l7.72-7.72 1.47 1.35L5.41 20z\"/>\n",
              "  </svg>\n",
              "      </button>\n",
              "      \n",
              "  <style>\n",
              "    .colab-df-container {\n",
              "      display:flex;\n",
              "      flex-wrap:wrap;\n",
              "      gap: 12px;\n",
              "    }\n",
              "\n",
              "    .colab-df-convert {\n",
              "      background-color: #E8F0FE;\n",
              "      border: none;\n",
              "      border-radius: 50%;\n",
              "      cursor: pointer;\n",
              "      display: none;\n",
              "      fill: #1967D2;\n",
              "      height: 32px;\n",
              "      padding: 0 0 0 0;\n",
              "      width: 32px;\n",
              "    }\n",
              "\n",
              "    .colab-df-convert:hover {\n",
              "      background-color: #E2EBFA;\n",
              "      box-shadow: 0px 1px 2px rgba(60, 64, 67, 0.3), 0px 1px 3px 1px rgba(60, 64, 67, 0.15);\n",
              "      fill: #174EA6;\n",
              "    }\n",
              "\n",
              "    [theme=dark] .colab-df-convert {\n",
              "      background-color: #3B4455;\n",
              "      fill: #D2E3FC;\n",
              "    }\n",
              "\n",
              "    [theme=dark] .colab-df-convert:hover {\n",
              "      background-color: #434B5C;\n",
              "      box-shadow: 0px 1px 3px 1px rgba(0, 0, 0, 0.15);\n",
              "      filter: drop-shadow(0px 1px 2px rgba(0, 0, 0, 0.3));\n",
              "      fill: #FFFFFF;\n",
              "    }\n",
              "  </style>\n",
              "\n",
              "      <script>\n",
              "        const buttonEl =\n",
              "          document.querySelector('#df-27801086-402e-4e7a-adde-dd69d4377c99 button.colab-df-convert');\n",
              "        buttonEl.style.display =\n",
              "          google.colab.kernel.accessAllowed ? 'block' : 'none';\n",
              "\n",
              "        async function convertToInteractive(key) {\n",
              "          const element = document.querySelector('#df-27801086-402e-4e7a-adde-dd69d4377c99');\n",
              "          const dataTable =\n",
              "            await google.colab.kernel.invokeFunction('convertToInteractive',\n",
              "                                                     [key], {});\n",
              "          if (!dataTable) return;\n",
              "\n",
              "          const docLinkHtml = 'Like what you see? Visit the ' +\n",
              "            '<a target=\"_blank\" href=https://colab.research.google.com/notebooks/data_table.ipynb>data table notebook</a>'\n",
              "            + ' to learn more about interactive tables.';\n",
              "          element.innerHTML = '';\n",
              "          dataTable['output_type'] = 'display_data';\n",
              "          await google.colab.output.renderOutput(dataTable, element);\n",
              "          const docLink = document.createElement('div');\n",
              "          docLink.innerHTML = docLinkHtml;\n",
              "          element.appendChild(docLink);\n",
              "        }\n",
              "      </script>\n",
              "    </div>\n",
              "  </div>\n",
              "  "
            ],
            "text/plain": [
              "   category                                               text  \\\n",
              "0      tech  tv future in the hands of viewers with home th...   \n",
              "1  business  worldcom boss  left books alone  former worldc...   \n",
              "\n",
              "                                          clean_text  \\\n",
              "0  [tv, future, hand, viewer, home, theatre, syst...   \n",
              "1  [worldcom, bos, left, book, alone, former, wor...   \n",
              "\n",
              "                                      spacy_features  \\\n",
              "0  [tv, future, hands, viewers, home, theatre, sy...   \n",
              "1  [books, ebbers, fraud, accounting, decisions, ...   \n",
              "\n",
              "                                     spacy_lsi_words  \\\n",
              "0  [(0, 0.398*\"people\" + 0.369*\"tv\" + 0.341*\"they...   \n",
              "1  [(0, 0.349*\"ebbers\" + 0.291*\"accounting\" + 0.2...   \n",
              "\n",
              "                                     spacy_lda_words basic_lsi_words  \\\n",
              "0  [(0, 0.002*\"people\" + 0.002*\"tv\" + 0.002*\"they...                   \n",
              "1  [(0, 0.001*\"ebbers\" + 0.001*\"fraud\" + 0.001*\"a...                   \n",
              "\n",
              "  basic_lda_words                               freqfilter_lsi_words  \\\n",
              "0                  [(0, 0.438*\"tv\" + 0.219*\"want\" + 0.219*\"people...   \n",
              "1                  [(0, 0.528*\"mr\" + 0.352*\"worldcom\" + 0.308*\"eb...   \n",
              "\n",
              "                                freqfilter_lda_words  \n",
              "0  [(0, 0.002*\"tv\" + 0.001*\"u\" + 0.001*\"want\" + 0...  \n",
              "1  [(0, 0.002*\"mr\" + 0.001*\"worldcom\" + 0.001*\"eb...  "
            ]
          },
          "execution_count": 144,
          "metadata": {},
          "output_type": "execute_result"
        }
      ],
      "source": [
        "df.head(2)"
      ]
    },
    {
      "cell_type": "code",
      "execution_count": 141,
      "metadata": {
        "colab": {
          "base_uri": "https://localhost:8080/"
        },
        "id": "OPGL3Ucr4L6n",
        "outputId": "151cee91-d8f9-4717-9612-00e1971ab9d5"
      },
      "outputs": [
        {
          "data": {
            "text/plain": [
              "Index(['Unnamed: 0', 'category', 'text', 'clean_text', 'tfidf_basic_lsi',\n",
              "       'tfidf_basic_lsi_coherance', 'tfidf_basic_lda',\n",
              "       'tfidf_basic_lda_coherance'],\n",
              "      dtype='object')"
            ]
          },
          "execution_count": 141,
          "metadata": {},
          "output_type": "execute_result"
        }
      ],
      "source": [
        "df_basic.columns"
      ]
    },
    {
      "cell_type": "code",
      "execution_count": 145,
      "metadata": {
        "id": "77VFhdq24bFe"
      },
      "outputs": [],
      "source": [
        "df['basic_lsi_words']=df_basic['tfidf_basic_lsi']\n",
        "df['basic_lda_words']=df_basic['tfidf_basic_lda']"
      ]
    },
    {
      "cell_type": "code",
      "execution_count": 147,
      "metadata": {
        "colab": {
          "base_uri": "https://localhost:8080/",
          "height": 669
        },
        "id": "kqWz7SNm49_-",
        "outputId": "b7795089-e19e-491a-fc45-bee533e676f1"
      },
      "outputs": [
        {
          "data": {
            "text/html": [
              "\n",
              "  <div id=\"df-cedd336c-dca3-4929-95b8-f4257d889288\">\n",
              "    <div class=\"colab-df-container\">\n",
              "      <div>\n",
              "<style scoped>\n",
              "    .dataframe tbody tr th:only-of-type {\n",
              "        vertical-align: middle;\n",
              "    }\n",
              "\n",
              "    .dataframe tbody tr th {\n",
              "        vertical-align: top;\n",
              "    }\n",
              "\n",
              "    .dataframe thead th {\n",
              "        text-align: right;\n",
              "    }\n",
              "</style>\n",
              "<table border=\"1\" class=\"dataframe\">\n",
              "  <thead>\n",
              "    <tr style=\"text-align: right;\">\n",
              "      <th></th>\n",
              "      <th>category</th>\n",
              "      <th>text</th>\n",
              "      <th>clean_text</th>\n",
              "      <th>spacy_features</th>\n",
              "      <th>spacy_lsi_words</th>\n",
              "      <th>spacy_lda_words</th>\n",
              "      <th>basic_lsi_words</th>\n",
              "      <th>basic_lda_words</th>\n",
              "      <th>freqfilter_lsi_words</th>\n",
              "      <th>freqfilter_lda_words</th>\n",
              "    </tr>\n",
              "  </thead>\n",
              "  <tbody>\n",
              "    <tr>\n",
              "      <th>0</th>\n",
              "      <td>tech</td>\n",
              "      <td>tv future in the hands of viewers with home th...</td>\n",
              "      <td>[tv, future, hand, viewer, home, theatre, syst...</td>\n",
              "      <td>[tv, future, hands, viewers, home, theatre, sy...</td>\n",
              "      <td>[(0, 0.398*\"people\" + 0.369*\"tv\" + 0.341*\"they...</td>\n",
              "      <td>[(0, 0.002*\"people\" + 0.002*\"tv\" + 0.002*\"they...</td>\n",
              "      <td>[(0, '0.430*\"tv\" + 0.215*\"people\" + 0.215*\"u\" ...</td>\n",
              "      <td>[(0, '0.001*\"tv\" + 0.000*\"want\" + 0.000*\"peopl...</td>\n",
              "      <td>[(0, 0.438*\"tv\" + 0.219*\"want\" + 0.219*\"people...</td>\n",
              "      <td>[(0, 0.002*\"tv\" + 0.001*\"u\" + 0.001*\"want\" + 0...</td>\n",
              "    </tr>\n",
              "    <tr>\n",
              "      <th>1</th>\n",
              "      <td>business</td>\n",
              "      <td>worldcom boss  left books alone  former worldc...</td>\n",
              "      <td>[worldcom, bos, left, book, alone, former, wor...</td>\n",
              "      <td>[books, ebbers, fraud, accounting, decisions, ...</td>\n",
              "      <td>[(0, 0.349*\"ebbers\" + 0.291*\"accounting\" + 0.2...</td>\n",
              "      <td>[(0, 0.001*\"ebbers\" + 0.001*\"fraud\" + 0.001*\"a...</td>\n",
              "      <td>[(0, '0.523*\"mr\" + 0.348*\"worldcom\" + 0.305*\"e...</td>\n",
              "      <td>[(0, '0.001*\"mr\" + 0.001*\"worldcom\" + 0.000*\"e...</td>\n",
              "      <td>[(0, 0.528*\"mr\" + 0.352*\"worldcom\" + 0.308*\"eb...</td>\n",
              "      <td>[(0, 0.002*\"mr\" + 0.001*\"worldcom\" + 0.001*\"eb...</td>\n",
              "    </tr>\n",
              "    <tr>\n",
              "      <th>2</th>\n",
              "      <td>sport</td>\n",
              "      <td>tigers wary of farrell  gamble  leicester say ...</td>\n",
              "      <td>[tiger, wary, farrell, gamble, leicester, say,...</td>\n",
              "      <td>[tigers, leicester, bid, codes, process, way, ...</td>\n",
              "      <td>[(0, 0.390*\"he\" + 0.312*\"leicester\" + 0.234*\"u...</td>\n",
              "      <td>[(0, 0.001*\"he\" + 0.001*\"leicester\" + 0.000*\"l...</td>\n",
              "      <td>[(0, '0.343*\"farrell\" + 0.206*\"leicester\" + 0....</td>\n",
              "      <td>[(0, '0.000*\"farrell\" + 0.000*\"gamble\" + 0.000...</td>\n",
              "      <td>[(0, 0.343*\"farrell\" + 0.206*\"union\" + 0.206*\"...</td>\n",
              "      <td>[(0, 0.001*\"farrell\" + 0.000*\"rugby\" + 0.000*\"...</td>\n",
              "    </tr>\n",
              "    <tr>\n",
              "      <th>3</th>\n",
              "      <td>sport</td>\n",
              "      <td>yeading face newcastle in fa cup premiership s...</td>\n",
              "      <td>[yeading, face, newcastle, fa, cup, premiershi...</td>\n",
              "      <td>[face, newcastle, premiership, side, trip, lea...</td>\n",
              "      <td>[(0, 0.366*\"january\" + 0.305*\"v\" + 0.244*\"side...</td>\n",
              "      <td>[(0, 0.001*\"january\" + 0.001*\"v\" + 0.001*\"side...</td>\n",
              "      <td>[(0, '0.240*\"side\" + 0.192*\"face\" + 0.192*\"cup...</td>\n",
              "      <td>[(0, '0.000*\"side\" + 0.000*\"cup\" + 0.000*\"yead...</td>\n",
              "      <td>[(0, 0.258*\"side\" + 0.207*\"cup\" + 0.207*\"face\"...</td>\n",
              "      <td>[(0, 0.001*\"side\" + 0.001*\"united\" + 0.001*\"cu...</td>\n",
              "    </tr>\n",
              "    <tr>\n",
              "      <th>4</th>\n",
              "      <td>entertainment</td>\n",
              "      <td>ocean s twelve raids box office ocean s twelve...</td>\n",
              "      <td>[ocean, twelve, raid, box, office, ocean, twel...</td>\n",
              "      <td>[raids, ocean, crime, caper, sequel, clooney, ...</td>\n",
              "      <td>[(0, 0.350*\"sequel\" + 0.280*\"weekend\" + 0.280*...</td>\n",
              "      <td>[(0, 0.001*\"sequel\" + 0.001*\"it\" + 0.001*\"week...</td>\n",
              "      <td>[(0, '0.309*\"ocean\" + 0.309*\"sequel\" + 0.185*\"...</td>\n",
              "      <td>[(0, '0.000*\"sequel\" + 0.000*\"ocean\" + 0.000*\"...</td>\n",
              "      <td>[(0, 0.327*\"sequel\" + 0.327*\"ocean\" + 0.196*\"s...</td>\n",
              "      <td>[(0, 0.001*\"sequel\" + 0.001*\"ocean\" + 0.000*\"o...</td>\n",
              "    </tr>\n",
              "  </tbody>\n",
              "</table>\n",
              "</div>\n",
              "      <button class=\"colab-df-convert\" onclick=\"convertToInteractive('df-cedd336c-dca3-4929-95b8-f4257d889288')\"\n",
              "              title=\"Convert this dataframe to an interactive table.\"\n",
              "              style=\"display:none;\">\n",
              "        \n",
              "  <svg xmlns=\"http://www.w3.org/2000/svg\" height=\"24px\"viewBox=\"0 0 24 24\"\n",
              "       width=\"24px\">\n",
              "    <path d=\"M0 0h24v24H0V0z\" fill=\"none\"/>\n",
              "    <path d=\"M18.56 5.44l.94 2.06.94-2.06 2.06-.94-2.06-.94-.94-2.06-.94 2.06-2.06.94zm-11 1L8.5 8.5l.94-2.06 2.06-.94-2.06-.94L8.5 2.5l-.94 2.06-2.06.94zm10 10l.94 2.06.94-2.06 2.06-.94-2.06-.94-.94-2.06-.94 2.06-2.06.94z\"/><path d=\"M17.41 7.96l-1.37-1.37c-.4-.4-.92-.59-1.43-.59-.52 0-1.04.2-1.43.59L10.3 9.45l-7.72 7.72c-.78.78-.78 2.05 0 2.83L4 21.41c.39.39.9.59 1.41.59.51 0 1.02-.2 1.41-.59l7.78-7.78 2.81-2.81c.8-.78.8-2.07 0-2.86zM5.41 20L4 18.59l7.72-7.72 1.47 1.35L5.41 20z\"/>\n",
              "  </svg>\n",
              "      </button>\n",
              "      \n",
              "  <style>\n",
              "    .colab-df-container {\n",
              "      display:flex;\n",
              "      flex-wrap:wrap;\n",
              "      gap: 12px;\n",
              "    }\n",
              "\n",
              "    .colab-df-convert {\n",
              "      background-color: #E8F0FE;\n",
              "      border: none;\n",
              "      border-radius: 50%;\n",
              "      cursor: pointer;\n",
              "      display: none;\n",
              "      fill: #1967D2;\n",
              "      height: 32px;\n",
              "      padding: 0 0 0 0;\n",
              "      width: 32px;\n",
              "    }\n",
              "\n",
              "    .colab-df-convert:hover {\n",
              "      background-color: #E2EBFA;\n",
              "      box-shadow: 0px 1px 2px rgba(60, 64, 67, 0.3), 0px 1px 3px 1px rgba(60, 64, 67, 0.15);\n",
              "      fill: #174EA6;\n",
              "    }\n",
              "\n",
              "    [theme=dark] .colab-df-convert {\n",
              "      background-color: #3B4455;\n",
              "      fill: #D2E3FC;\n",
              "    }\n",
              "\n",
              "    [theme=dark] .colab-df-convert:hover {\n",
              "      background-color: #434B5C;\n",
              "      box-shadow: 0px 1px 3px 1px rgba(0, 0, 0, 0.15);\n",
              "      filter: drop-shadow(0px 1px 2px rgba(0, 0, 0, 0.3));\n",
              "      fill: #FFFFFF;\n",
              "    }\n",
              "  </style>\n",
              "\n",
              "      <script>\n",
              "        const buttonEl =\n",
              "          document.querySelector('#df-cedd336c-dca3-4929-95b8-f4257d889288 button.colab-df-convert');\n",
              "        buttonEl.style.display =\n",
              "          google.colab.kernel.accessAllowed ? 'block' : 'none';\n",
              "\n",
              "        async function convertToInteractive(key) {\n",
              "          const element = document.querySelector('#df-cedd336c-dca3-4929-95b8-f4257d889288');\n",
              "          const dataTable =\n",
              "            await google.colab.kernel.invokeFunction('convertToInteractive',\n",
              "                                                     [key], {});\n",
              "          if (!dataTable) return;\n",
              "\n",
              "          const docLinkHtml = 'Like what you see? Visit the ' +\n",
              "            '<a target=\"_blank\" href=https://colab.research.google.com/notebooks/data_table.ipynb>data table notebook</a>'\n",
              "            + ' to learn more about interactive tables.';\n",
              "          element.innerHTML = '';\n",
              "          dataTable['output_type'] = 'display_data';\n",
              "          await google.colab.output.renderOutput(dataTable, element);\n",
              "          const docLink = document.createElement('div');\n",
              "          docLink.innerHTML = docLinkHtml;\n",
              "          element.appendChild(docLink);\n",
              "        }\n",
              "      </script>\n",
              "    </div>\n",
              "  </div>\n",
              "  "
            ],
            "text/plain": [
              "        category                                               text  \\\n",
              "0           tech  tv future in the hands of viewers with home th...   \n",
              "1       business  worldcom boss  left books alone  former worldc...   \n",
              "2          sport  tigers wary of farrell  gamble  leicester say ...   \n",
              "3          sport  yeading face newcastle in fa cup premiership s...   \n",
              "4  entertainment  ocean s twelve raids box office ocean s twelve...   \n",
              "\n",
              "                                          clean_text  \\\n",
              "0  [tv, future, hand, viewer, home, theatre, syst...   \n",
              "1  [worldcom, bos, left, book, alone, former, wor...   \n",
              "2  [tiger, wary, farrell, gamble, leicester, say,...   \n",
              "3  [yeading, face, newcastle, fa, cup, premiershi...   \n",
              "4  [ocean, twelve, raid, box, office, ocean, twel...   \n",
              "\n",
              "                                      spacy_features  \\\n",
              "0  [tv, future, hands, viewers, home, theatre, sy...   \n",
              "1  [books, ebbers, fraud, accounting, decisions, ...   \n",
              "2  [tigers, leicester, bid, codes, process, way, ...   \n",
              "3  [face, newcastle, premiership, side, trip, lea...   \n",
              "4  [raids, ocean, crime, caper, sequel, clooney, ...   \n",
              "\n",
              "                                     spacy_lsi_words  \\\n",
              "0  [(0, 0.398*\"people\" + 0.369*\"tv\" + 0.341*\"they...   \n",
              "1  [(0, 0.349*\"ebbers\" + 0.291*\"accounting\" + 0.2...   \n",
              "2  [(0, 0.390*\"he\" + 0.312*\"leicester\" + 0.234*\"u...   \n",
              "3  [(0, 0.366*\"january\" + 0.305*\"v\" + 0.244*\"side...   \n",
              "4  [(0, 0.350*\"sequel\" + 0.280*\"weekend\" + 0.280*...   \n",
              "\n",
              "                                     spacy_lda_words  \\\n",
              "0  [(0, 0.002*\"people\" + 0.002*\"tv\" + 0.002*\"they...   \n",
              "1  [(0, 0.001*\"ebbers\" + 0.001*\"fraud\" + 0.001*\"a...   \n",
              "2  [(0, 0.001*\"he\" + 0.001*\"leicester\" + 0.000*\"l...   \n",
              "3  [(0, 0.001*\"january\" + 0.001*\"v\" + 0.001*\"side...   \n",
              "4  [(0, 0.001*\"sequel\" + 0.001*\"it\" + 0.001*\"week...   \n",
              "\n",
              "                                     basic_lsi_words  \\\n",
              "0  [(0, '0.430*\"tv\" + 0.215*\"people\" + 0.215*\"u\" ...   \n",
              "1  [(0, '0.523*\"mr\" + 0.348*\"worldcom\" + 0.305*\"e...   \n",
              "2  [(0, '0.343*\"farrell\" + 0.206*\"leicester\" + 0....   \n",
              "3  [(0, '0.240*\"side\" + 0.192*\"face\" + 0.192*\"cup...   \n",
              "4  [(0, '0.309*\"ocean\" + 0.309*\"sequel\" + 0.185*\"...   \n",
              "\n",
              "                                     basic_lda_words  \\\n",
              "0  [(0, '0.001*\"tv\" + 0.000*\"want\" + 0.000*\"peopl...   \n",
              "1  [(0, '0.001*\"mr\" + 0.001*\"worldcom\" + 0.000*\"e...   \n",
              "2  [(0, '0.000*\"farrell\" + 0.000*\"gamble\" + 0.000...   \n",
              "3  [(0, '0.000*\"side\" + 0.000*\"cup\" + 0.000*\"yead...   \n",
              "4  [(0, '0.000*\"sequel\" + 0.000*\"ocean\" + 0.000*\"...   \n",
              "\n",
              "                                freqfilter_lsi_words  \\\n",
              "0  [(0, 0.438*\"tv\" + 0.219*\"want\" + 0.219*\"people...   \n",
              "1  [(0, 0.528*\"mr\" + 0.352*\"worldcom\" + 0.308*\"eb...   \n",
              "2  [(0, 0.343*\"farrell\" + 0.206*\"union\" + 0.206*\"...   \n",
              "3  [(0, 0.258*\"side\" + 0.207*\"cup\" + 0.207*\"face\"...   \n",
              "4  [(0, 0.327*\"sequel\" + 0.327*\"ocean\" + 0.196*\"s...   \n",
              "\n",
              "                                freqfilter_lda_words  \n",
              "0  [(0, 0.002*\"tv\" + 0.001*\"u\" + 0.001*\"want\" + 0...  \n",
              "1  [(0, 0.002*\"mr\" + 0.001*\"worldcom\" + 0.001*\"eb...  \n",
              "2  [(0, 0.001*\"farrell\" + 0.000*\"rugby\" + 0.000*\"...  \n",
              "3  [(0, 0.001*\"side\" + 0.001*\"united\" + 0.001*\"cu...  \n",
              "4  [(0, 0.001*\"sequel\" + 0.001*\"ocean\" + 0.000*\"o...  "
            ]
          },
          "execution_count": 147,
          "metadata": {},
          "output_type": "execute_result"
        }
      ],
      "source": [
        "df.head(5)"
      ]
    },
    {
      "cell_type": "code",
      "execution_count": 149,
      "metadata": {
        "colab": {
          "base_uri": "https://localhost:8080/",
          "height": 112
        },
        "id": "eXdIqSV55UgV",
        "outputId": "5acd5964-5e7c-4b2e-84a0-7cd018b657b3"
      },
      "outputs": [
        {
          "data": {
            "text/html": [
              "\n",
              "  <div id=\"df-47318ddb-b5fe-4fb7-a0b7-62e2cb96492d\">\n",
              "    <div class=\"colab-df-container\">\n",
              "      <div>\n",
              "<style scoped>\n",
              "    .dataframe tbody tr th:only-of-type {\n",
              "        vertical-align: middle;\n",
              "    }\n",
              "\n",
              "    .dataframe tbody tr th {\n",
              "        vertical-align: top;\n",
              "    }\n",
              "\n",
              "    .dataframe thead th {\n",
              "        text-align: right;\n",
              "    }\n",
              "</style>\n",
              "<table border=\"1\" class=\"dataframe\">\n",
              "  <thead>\n",
              "    <tr style=\"text-align: right;\">\n",
              "      <th></th>\n",
              "      <th>category</th>\n",
              "      <th>text</th>\n",
              "    </tr>\n",
              "  </thead>\n",
              "  <tbody>\n",
              "    <tr>\n",
              "      <th>0</th>\n",
              "      <td>tech</td>\n",
              "      <td>tv future in the hands of viewers with home th...</td>\n",
              "    </tr>\n",
              "    <tr>\n",
              "      <th>1</th>\n",
              "      <td>business</td>\n",
              "      <td>worldcom boss  left books alone  former worldc...</td>\n",
              "    </tr>\n",
              "  </tbody>\n",
              "</table>\n",
              "</div>\n",
              "      <button class=\"colab-df-convert\" onclick=\"convertToInteractive('df-47318ddb-b5fe-4fb7-a0b7-62e2cb96492d')\"\n",
              "              title=\"Convert this dataframe to an interactive table.\"\n",
              "              style=\"display:none;\">\n",
              "        \n",
              "  <svg xmlns=\"http://www.w3.org/2000/svg\" height=\"24px\"viewBox=\"0 0 24 24\"\n",
              "       width=\"24px\">\n",
              "    <path d=\"M0 0h24v24H0V0z\" fill=\"none\"/>\n",
              "    <path d=\"M18.56 5.44l.94 2.06.94-2.06 2.06-.94-2.06-.94-.94-2.06-.94 2.06-2.06.94zm-11 1L8.5 8.5l.94-2.06 2.06-.94-2.06-.94L8.5 2.5l-.94 2.06-2.06.94zm10 10l.94 2.06.94-2.06 2.06-.94-2.06-.94-.94-2.06-.94 2.06-2.06.94z\"/><path d=\"M17.41 7.96l-1.37-1.37c-.4-.4-.92-.59-1.43-.59-.52 0-1.04.2-1.43.59L10.3 9.45l-7.72 7.72c-.78.78-.78 2.05 0 2.83L4 21.41c.39.39.9.59 1.41.59.51 0 1.02-.2 1.41-.59l7.78-7.78 2.81-2.81c.8-.78.8-2.07 0-2.86zM5.41 20L4 18.59l7.72-7.72 1.47 1.35L5.41 20z\"/>\n",
              "  </svg>\n",
              "      </button>\n",
              "      \n",
              "  <style>\n",
              "    .colab-df-container {\n",
              "      display:flex;\n",
              "      flex-wrap:wrap;\n",
              "      gap: 12px;\n",
              "    }\n",
              "\n",
              "    .colab-df-convert {\n",
              "      background-color: #E8F0FE;\n",
              "      border: none;\n",
              "      border-radius: 50%;\n",
              "      cursor: pointer;\n",
              "      display: none;\n",
              "      fill: #1967D2;\n",
              "      height: 32px;\n",
              "      padding: 0 0 0 0;\n",
              "      width: 32px;\n",
              "    }\n",
              "\n",
              "    .colab-df-convert:hover {\n",
              "      background-color: #E2EBFA;\n",
              "      box-shadow: 0px 1px 2px rgba(60, 64, 67, 0.3), 0px 1px 3px 1px rgba(60, 64, 67, 0.15);\n",
              "      fill: #174EA6;\n",
              "    }\n",
              "\n",
              "    [theme=dark] .colab-df-convert {\n",
              "      background-color: #3B4455;\n",
              "      fill: #D2E3FC;\n",
              "    }\n",
              "\n",
              "    [theme=dark] .colab-df-convert:hover {\n",
              "      background-color: #434B5C;\n",
              "      box-shadow: 0px 1px 3px 1px rgba(0, 0, 0, 0.15);\n",
              "      filter: drop-shadow(0px 1px 2px rgba(0, 0, 0, 0.3));\n",
              "      fill: #FFFFFF;\n",
              "    }\n",
              "  </style>\n",
              "\n",
              "      <script>\n",
              "        const buttonEl =\n",
              "          document.querySelector('#df-47318ddb-b5fe-4fb7-a0b7-62e2cb96492d button.colab-df-convert');\n",
              "        buttonEl.style.display =\n",
              "          google.colab.kernel.accessAllowed ? 'block' : 'none';\n",
              "\n",
              "        async function convertToInteractive(key) {\n",
              "          const element = document.querySelector('#df-47318ddb-b5fe-4fb7-a0b7-62e2cb96492d');\n",
              "          const dataTable =\n",
              "            await google.colab.kernel.invokeFunction('convertToInteractive',\n",
              "                                                     [key], {});\n",
              "          if (!dataTable) return;\n",
              "\n",
              "          const docLinkHtml = 'Like what you see? Visit the ' +\n",
              "            '<a target=\"_blank\" href=https://colab.research.google.com/notebooks/data_table.ipynb>data table notebook</a>'\n",
              "            + ' to learn more about interactive tables.';\n",
              "          element.innerHTML = '';\n",
              "          dataTable['output_type'] = 'display_data';\n",
              "          await google.colab.output.renderOutput(dataTable, element);\n",
              "          const docLink = document.createElement('div');\n",
              "          docLink.innerHTML = docLinkHtml;\n",
              "          element.appendChild(docLink);\n",
              "        }\n",
              "      </script>\n",
              "    </div>\n",
              "  </div>\n",
              "  "
            ],
            "text/plain": [
              "   category                                               text\n",
              "0      tech  tv future in the hands of viewers with home th...\n",
              "1  business  worldcom boss  left books alone  former worldc..."
            ]
          },
          "execution_count": 149,
          "metadata": {},
          "output_type": "execute_result"
        }
      ],
      "source": [
        "result_df=df[['category','text']]\n",
        "result_df.head(2)"
      ]
    },
    {
      "cell_type": "code",
      "execution_count": 150,
      "metadata": {
        "colab": {
          "base_uri": "https://localhost:8080/"
        },
        "id": "s5lyWtvK5rvo",
        "outputId": "a71238db-5cdf-4955-9a14-6a40357ef4e9"
      },
      "outputs": [
        {
          "data": {
            "text/plain": [
              "Index(['category', 'text', 'clean_text', 'spacy_features', 'spacy_lsi_words',\n",
              "       'spacy_lda_words', 'basic_lsi_words', 'basic_lda_words',\n",
              "       'freqfilter_lsi_words', 'freqfilter_lda_words'],\n",
              "      dtype='object')"
            ]
          },
          "execution_count": 150,
          "metadata": {},
          "output_type": "execute_result"
        }
      ],
      "source": [
        "df.columns"
      ]
    },
    {
      "cell_type": "code",
      "execution_count": 131,
      "metadata": {
        "id": "SK4xB9QopCEI"
      },
      "outputs": [],
      "source": [
        "import re\n",
        "def getTop5(rec):\n",
        "  return re.findall(r'\"([^\"]*)\"', str(rec))[0:5]"
      ]
    },
    {
      "cell_type": "markdown",
      "metadata": {
        "id": "IUz3Uye7BaP0"
      },
      "source": [
        "## extract the first 5 words from the output"
      ]
    },
    {
      "cell_type": "code",
      "execution_count": 151,
      "metadata": {
        "colab": {
          "base_uri": "https://localhost:8080/"
        },
        "id": "CTKM4RPtpCGF",
        "outputId": "7338c8cb-9a17-4677-9760-990c6ed6489c"
      },
      "outputs": [
        {
          "name": "stderr",
          "output_type": "stream",
          "text": [
            "/usr/local/lib/python3.7/dist-packages/ipykernel_launcher.py:1: SettingWithCopyWarning: \n",
            "A value is trying to be set on a copy of a slice from a DataFrame.\n",
            "Try using .loc[row_indexer,col_indexer] = value instead\n",
            "\n",
            "See the caveats in the documentation: https://pandas.pydata.org/pandas-docs/stable/user_guide/indexing.html#returning-a-view-versus-a-copy\n",
            "  \"\"\"Entry point for launching an IPython kernel.\n",
            "/usr/local/lib/python3.7/dist-packages/ipykernel_launcher.py:2: SettingWithCopyWarning: \n",
            "A value is trying to be set on a copy of a slice from a DataFrame.\n",
            "Try using .loc[row_indexer,col_indexer] = value instead\n",
            "\n",
            "See the caveats in the documentation: https://pandas.pydata.org/pandas-docs/stable/user_guide/indexing.html#returning-a-view-versus-a-copy\n",
            "  \n",
            "/usr/local/lib/python3.7/dist-packages/ipykernel_launcher.py:3: SettingWithCopyWarning: \n",
            "A value is trying to be set on a copy of a slice from a DataFrame.\n",
            "Try using .loc[row_indexer,col_indexer] = value instead\n",
            "\n",
            "See the caveats in the documentation: https://pandas.pydata.org/pandas-docs/stable/user_guide/indexing.html#returning-a-view-versus-a-copy\n",
            "  This is separate from the ipykernel package so we can avoid doing imports until\n",
            "/usr/local/lib/python3.7/dist-packages/ipykernel_launcher.py:4: SettingWithCopyWarning: \n",
            "A value is trying to be set on a copy of a slice from a DataFrame.\n",
            "Try using .loc[row_indexer,col_indexer] = value instead\n",
            "\n",
            "See the caveats in the documentation: https://pandas.pydata.org/pandas-docs/stable/user_guide/indexing.html#returning-a-view-versus-a-copy\n",
            "  after removing the cwd from sys.path.\n",
            "/usr/local/lib/python3.7/dist-packages/ipykernel_launcher.py:5: SettingWithCopyWarning: \n",
            "A value is trying to be set on a copy of a slice from a DataFrame.\n",
            "Try using .loc[row_indexer,col_indexer] = value instead\n",
            "\n",
            "See the caveats in the documentation: https://pandas.pydata.org/pandas-docs/stable/user_guide/indexing.html#returning-a-view-versus-a-copy\n",
            "  \"\"\"\n",
            "/usr/local/lib/python3.7/dist-packages/ipykernel_launcher.py:6: SettingWithCopyWarning: \n",
            "A value is trying to be set on a copy of a slice from a DataFrame.\n",
            "Try using .loc[row_indexer,col_indexer] = value instead\n",
            "\n",
            "See the caveats in the documentation: https://pandas.pydata.org/pandas-docs/stable/user_guide/indexing.html#returning-a-view-versus-a-copy\n",
            "  \n"
          ]
        }
      ],
      "source": [
        "result_df['basic_lsi_words'] = df['basic_lsi_words'].apply(lambda x: getTop5(x))\n",
        "result_df['basic_lda_words'] = df['basic_lda_words'].apply(lambda x: getTop5(x))\n",
        "result_df['freqfilter_lsi_words'] = df['freqfilter_lsi_words'].apply(lambda x: getTop5(x))\n",
        "result_df['freqfilter_lda_words'] = df['freqfilter_lda_words'].apply(lambda x: getTop5(x))\n",
        "result_df['spacy_lsi_words'] = df['spacy_lsi_words'].apply(lambda x: getTop5(x))\n",
        "result_df['spacy_lda_words'] = df['spacy_lda_words'].apply(lambda x: getTop5(x))\n"
      ]
    },
    {
      "cell_type": "code",
      "execution_count": 152,
      "metadata": {
        "colab": {
          "base_uri": "https://localhost:8080/",
          "height": 669
        },
        "id": "-RvTARqi6Al5",
        "outputId": "33af3811-1a3d-44c8-8673-8b8779ff28cb"
      },
      "outputs": [
        {
          "data": {
            "text/html": [
              "\n",
              "  <div id=\"df-1cb55c4b-ae50-46f8-8cb6-0d74e0c5b0ed\">\n",
              "    <div class=\"colab-df-container\">\n",
              "      <div>\n",
              "<style scoped>\n",
              "    .dataframe tbody tr th:only-of-type {\n",
              "        vertical-align: middle;\n",
              "    }\n",
              "\n",
              "    .dataframe tbody tr th {\n",
              "        vertical-align: top;\n",
              "    }\n",
              "\n",
              "    .dataframe thead th {\n",
              "        text-align: right;\n",
              "    }\n",
              "</style>\n",
              "<table border=\"1\" class=\"dataframe\">\n",
              "  <thead>\n",
              "    <tr style=\"text-align: right;\">\n",
              "      <th></th>\n",
              "      <th>category</th>\n",
              "      <th>text</th>\n",
              "      <th>basic_lsi_words</th>\n",
              "      <th>basic_lda_words</th>\n",
              "      <th>freqfilter_lsi_words</th>\n",
              "      <th>freqfilter_lda_words</th>\n",
              "      <th>spacy_lsi_words</th>\n",
              "      <th>spacy_lda_words</th>\n",
              "    </tr>\n",
              "  </thead>\n",
              "  <tbody>\n",
              "    <tr>\n",
              "      <th>0</th>\n",
              "      <td>tech</td>\n",
              "      <td>tv future in the hands of viewers with home th...</td>\n",
              "      <td>[tv, people, u, want, brand]</td>\n",
              "      <td>[tv, want, people, u, brand]</td>\n",
              "      <td>[tv, want, people, u, brand]</td>\n",
              "      <td>[tv, u, want, people, brand]</td>\n",
              "      <td>[people, tv, they, what, us]</td>\n",
              "      <td>[people, tv, they, what, it]</td>\n",
              "    </tr>\n",
              "    <tr>\n",
              "      <th>1</th>\n",
              "      <td>business</td>\n",
              "      <td>worldcom boss  left books alone  former worldc...</td>\n",
              "      <td>[mr, worldcom, ebbers, myers, accounting]</td>\n",
              "      <td>[mr, worldcom, ebbers, accounting, myers]</td>\n",
              "      <td>[mr, worldcom, ebbers, myers, accounting]</td>\n",
              "      <td>[mr, worldcom, ebbers, myers, accounting]</td>\n",
              "      <td>[ebbers, accounting, fraud, he, who]</td>\n",
              "      <td>[ebbers, fraud, accounting, who, he]</td>\n",
              "    </tr>\n",
              "    <tr>\n",
              "      <th>2</th>\n",
              "      <td>sport</td>\n",
              "      <td>tigers wary of farrell  gamble  leicester say ...</td>\n",
              "      <td>[farrell, leicester, gamble, well, rugby]</td>\n",
              "      <td>[farrell, gamble, union, well, league]</td>\n",
              "      <td>[farrell, union, gamble, league, rugby]</td>\n",
              "      <td>[farrell, rugby, league, leicester, well]</td>\n",
              "      <td>[he, leicester, union, tigers, league]</td>\n",
              "      <td>[he, leicester, league, tigers, union]</td>\n",
              "    </tr>\n",
              "    <tr>\n",
              "      <th>3</th>\n",
              "      <td>sport</td>\n",
              "      <td>yeading face newcastle in fa cup premiership s...</td>\n",
              "      <td>[side, face, cup, yeading, west]</td>\n",
              "      <td>[side, cup, yeading, west, united]</td>\n",
              "      <td>[side, cup, face, west, united]</td>\n",
              "      <td>[side, united, cup, west, face]</td>\n",
              "      <td>[january, v, side, weekend, who]</td>\n",
              "      <td>[january, v, side, weekend, who]</td>\n",
              "    </tr>\n",
              "    <tr>\n",
              "      <th>4</th>\n",
              "      <td>entertainment</td>\n",
              "      <td>ocean s twelve raids box office ocean s twelve...</td>\n",
              "      <td>[ocean, sequel, u, starring, office]</td>\n",
              "      <td>[sequel, ocean, box, office, twelve]</td>\n",
              "      <td>[sequel, ocean, starring, u, twelve]</td>\n",
              "      <td>[sequel, ocean, office, u, starring]</td>\n",
              "      <td>[sequel, weekend, it, twelve, ocean]</td>\n",
              "      <td>[sequel, it, weekend, twelve, the sequel]</td>\n",
              "    </tr>\n",
              "  </tbody>\n",
              "</table>\n",
              "</div>\n",
              "      <button class=\"colab-df-convert\" onclick=\"convertToInteractive('df-1cb55c4b-ae50-46f8-8cb6-0d74e0c5b0ed')\"\n",
              "              title=\"Convert this dataframe to an interactive table.\"\n",
              "              style=\"display:none;\">\n",
              "        \n",
              "  <svg xmlns=\"http://www.w3.org/2000/svg\" height=\"24px\"viewBox=\"0 0 24 24\"\n",
              "       width=\"24px\">\n",
              "    <path d=\"M0 0h24v24H0V0z\" fill=\"none\"/>\n",
              "    <path d=\"M18.56 5.44l.94 2.06.94-2.06 2.06-.94-2.06-.94-.94-2.06-.94 2.06-2.06.94zm-11 1L8.5 8.5l.94-2.06 2.06-.94-2.06-.94L8.5 2.5l-.94 2.06-2.06.94zm10 10l.94 2.06.94-2.06 2.06-.94-2.06-.94-.94-2.06-.94 2.06-2.06.94z\"/><path d=\"M17.41 7.96l-1.37-1.37c-.4-.4-.92-.59-1.43-.59-.52 0-1.04.2-1.43.59L10.3 9.45l-7.72 7.72c-.78.78-.78 2.05 0 2.83L4 21.41c.39.39.9.59 1.41.59.51 0 1.02-.2 1.41-.59l7.78-7.78 2.81-2.81c.8-.78.8-2.07 0-2.86zM5.41 20L4 18.59l7.72-7.72 1.47 1.35L5.41 20z\"/>\n",
              "  </svg>\n",
              "      </button>\n",
              "      \n",
              "  <style>\n",
              "    .colab-df-container {\n",
              "      display:flex;\n",
              "      flex-wrap:wrap;\n",
              "      gap: 12px;\n",
              "    }\n",
              "\n",
              "    .colab-df-convert {\n",
              "      background-color: #E8F0FE;\n",
              "      border: none;\n",
              "      border-radius: 50%;\n",
              "      cursor: pointer;\n",
              "      display: none;\n",
              "      fill: #1967D2;\n",
              "      height: 32px;\n",
              "      padding: 0 0 0 0;\n",
              "      width: 32px;\n",
              "    }\n",
              "\n",
              "    .colab-df-convert:hover {\n",
              "      background-color: #E2EBFA;\n",
              "      box-shadow: 0px 1px 2px rgba(60, 64, 67, 0.3), 0px 1px 3px 1px rgba(60, 64, 67, 0.15);\n",
              "      fill: #174EA6;\n",
              "    }\n",
              "\n",
              "    [theme=dark] .colab-df-convert {\n",
              "      background-color: #3B4455;\n",
              "      fill: #D2E3FC;\n",
              "    }\n",
              "\n",
              "    [theme=dark] .colab-df-convert:hover {\n",
              "      background-color: #434B5C;\n",
              "      box-shadow: 0px 1px 3px 1px rgba(0, 0, 0, 0.15);\n",
              "      filter: drop-shadow(0px 1px 2px rgba(0, 0, 0, 0.3));\n",
              "      fill: #FFFFFF;\n",
              "    }\n",
              "  </style>\n",
              "\n",
              "      <script>\n",
              "        const buttonEl =\n",
              "          document.querySelector('#df-1cb55c4b-ae50-46f8-8cb6-0d74e0c5b0ed button.colab-df-convert');\n",
              "        buttonEl.style.display =\n",
              "          google.colab.kernel.accessAllowed ? 'block' : 'none';\n",
              "\n",
              "        async function convertToInteractive(key) {\n",
              "          const element = document.querySelector('#df-1cb55c4b-ae50-46f8-8cb6-0d74e0c5b0ed');\n",
              "          const dataTable =\n",
              "            await google.colab.kernel.invokeFunction('convertToInteractive',\n",
              "                                                     [key], {});\n",
              "          if (!dataTable) return;\n",
              "\n",
              "          const docLinkHtml = 'Like what you see? Visit the ' +\n",
              "            '<a target=\"_blank\" href=https://colab.research.google.com/notebooks/data_table.ipynb>data table notebook</a>'\n",
              "            + ' to learn more about interactive tables.';\n",
              "          element.innerHTML = '';\n",
              "          dataTable['output_type'] = 'display_data';\n",
              "          await google.colab.output.renderOutput(dataTable, element);\n",
              "          const docLink = document.createElement('div');\n",
              "          docLink.innerHTML = docLinkHtml;\n",
              "          element.appendChild(docLink);\n",
              "        }\n",
              "      </script>\n",
              "    </div>\n",
              "  </div>\n",
              "  "
            ],
            "text/plain": [
              "        category                                               text  \\\n",
              "0           tech  tv future in the hands of viewers with home th...   \n",
              "1       business  worldcom boss  left books alone  former worldc...   \n",
              "2          sport  tigers wary of farrell  gamble  leicester say ...   \n",
              "3          sport  yeading face newcastle in fa cup premiership s...   \n",
              "4  entertainment  ocean s twelve raids box office ocean s twelve...   \n",
              "\n",
              "                             basic_lsi_words  \\\n",
              "0               [tv, people, u, want, brand]   \n",
              "1  [mr, worldcom, ebbers, myers, accounting]   \n",
              "2  [farrell, leicester, gamble, well, rugby]   \n",
              "3           [side, face, cup, yeading, west]   \n",
              "4       [ocean, sequel, u, starring, office]   \n",
              "\n",
              "                             basic_lda_words  \\\n",
              "0               [tv, want, people, u, brand]   \n",
              "1  [mr, worldcom, ebbers, accounting, myers]   \n",
              "2     [farrell, gamble, union, well, league]   \n",
              "3         [side, cup, yeading, west, united]   \n",
              "4       [sequel, ocean, box, office, twelve]   \n",
              "\n",
              "                        freqfilter_lsi_words  \\\n",
              "0               [tv, want, people, u, brand]   \n",
              "1  [mr, worldcom, ebbers, myers, accounting]   \n",
              "2    [farrell, union, gamble, league, rugby]   \n",
              "3            [side, cup, face, west, united]   \n",
              "4       [sequel, ocean, starring, u, twelve]   \n",
              "\n",
              "                        freqfilter_lda_words  \\\n",
              "0               [tv, u, want, people, brand]   \n",
              "1  [mr, worldcom, ebbers, myers, accounting]   \n",
              "2  [farrell, rugby, league, leicester, well]   \n",
              "3            [side, united, cup, west, face]   \n",
              "4       [sequel, ocean, office, u, starring]   \n",
              "\n",
              "                          spacy_lsi_words  \\\n",
              "0            [people, tv, they, what, us]   \n",
              "1    [ebbers, accounting, fraud, he, who]   \n",
              "2  [he, leicester, union, tigers, league]   \n",
              "3        [january, v, side, weekend, who]   \n",
              "4    [sequel, weekend, it, twelve, ocean]   \n",
              "\n",
              "                             spacy_lda_words  \n",
              "0               [people, tv, they, what, it]  \n",
              "1       [ebbers, fraud, accounting, who, he]  \n",
              "2     [he, leicester, league, tigers, union]  \n",
              "3           [january, v, side, weekend, who]  \n",
              "4  [sequel, it, weekend, twelve, the sequel]  "
            ]
          },
          "execution_count": 152,
          "metadata": {},
          "output_type": "execute_result"
        }
      ],
      "source": [
        "result_df.head(5)"
      ]
    },
    {
      "cell_type": "code",
      "execution_count": 66,
      "metadata": {
        "id": "JCmEIVHC0v54"
      },
      "outputs": [],
      "source": [
        "from gensim.models import LsiModel, CoherenceModel\n",
        "from gensim.models import LdaModel, LdaMulticore\n",
        "\n",
        "def getCoheranceByGenismLsiLDa(dictionary_var,records):\n",
        "  dtm = [dictionary_var.doc2bow(doc) for doc in records]\n",
        "  lsi_model = LsiModel(corpus=dtm, id2word=dictionary_var, num_topics=10)\n",
        "  goodLdaModel= LdaMulticore(corpus=dtm, id2word=dictionary_var, passes = 5, workers = 8, iterations = 50, num_topics=10)\n",
        "  result = dict(); \n",
        "  result['lsi_coher'] = CoherenceModel(model=lsi_model, texts=records,dictionary=dictionary_var, coherence='c_v').get_coherence()\n",
        "  result['lda_coher']   = CoherenceModel(model=goodLdaModel, texts=records.tolist(), dictionary=dictionary_var, coherence='c_v').get_coherence()\n",
        "  return result"
      ]
    },
    {
      "cell_type": "code",
      "execution_count": 67,
      "metadata": {
        "colab": {
          "base_uri": "https://localhost:8080/"
        },
        "id": "rzo1EyAP2eJk",
        "outputId": "72329b53-9ed9-4ba7-b9e2-afc320084c54"
      },
      "outputs": [
        {
          "name": "stderr",
          "output_type": "stream",
          "text": [
            "WARNING:gensim.models.ldamulticore:too few updates, training might not converge; consider increasing the number of passes or iterations to improve accuracy\n"
          ]
        },
        {
          "name": "stdout",
          "output_type": "stream",
          "text": [
            "{'lsi_coher': 0.3666159965570199, 'lda_coher': 0.3511177217331644}\n"
          ]
        }
      ],
      "source": [
        "print(getCoheranceByGenismLsiLDa(dictionary_basic,df['clean_text']))"
      ]
    },
    {
      "cell_type": "code",
      "execution_count": 68,
      "metadata": {
        "colab": {
          "base_uri": "https://localhost:8080/"
        },
        "id": "AkFLbTFd0wAs",
        "outputId": "06d50635-892f-46e5-f4fc-7ad62cd915bb"
      },
      "outputs": [
        {
          "name": "stderr",
          "output_type": "stream",
          "text": [
            "WARNING:gensim.models.ldamulticore:too few updates, training might not converge; consider increasing the number of passes or iterations to improve accuracy\n"
          ]
        },
        {
          "name": "stdout",
          "output_type": "stream",
          "text": [
            "{'lsi_coher': 0.34793964174130715, 'lda_coher': 0.3917676420198509}\n"
          ]
        }
      ],
      "source": [
        "print(getCoheranceByGenismLsiLDa(dictionary_freq_filter,df['clean_text']))"
      ]
    },
    {
      "cell_type": "code",
      "execution_count": 69,
      "metadata": {
        "colab": {
          "base_uri": "https://localhost:8080/"
        },
        "id": "k_4g9MJ42gKY",
        "outputId": "ec21e63f-bb6f-402e-c92e-6889eeae4118"
      },
      "outputs": [
        {
          "name": "stderr",
          "output_type": "stream",
          "text": [
            "WARNING:gensim.models.ldamulticore:too few updates, training might not converge; consider increasing the number of passes or iterations to improve accuracy\n"
          ]
        },
        {
          "name": "stdout",
          "output_type": "stream",
          "text": [
            "{'lsi_coher': 0.4013961961124031, 'lda_coher': 0.32745132537000143}\n"
          ]
        }
      ],
      "source": [
        "print(getCoheranceByGenismLsiLDa(dictionary_spacy,df['spacy_features']))"
      ]
    },
    {
      "cell_type": "markdown",
      "metadata": {
        "id": "21DbpsInfqxg"
      },
      "source": [
        "Relatively LSI models performed better than LDA models based on coherence value\n",
        "\n",
        "Best model: Based on coherence value LSI model using TFIDF Vectorrization imited to nouns, noun phrases, and named entity recognition only performed better"
      ]
    }
  ],
  "metadata": {
    "colab": {
      "collapsed_sections": [],
      "provenance": []
    },
    "kernelspec": {
      "display_name": "Python 3",
      "name": "python3"
    },
    "language_info": {
      "name": "python"
    }
  },
  "nbformat": 4,
  "nbformat_minor": 0
}
