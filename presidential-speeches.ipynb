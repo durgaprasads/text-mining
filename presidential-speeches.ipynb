{
 "cells": [
  {
   "cell_type": "markdown",
   "metadata": {},
   "source": [
    "## web scraping presidential speeches from millercenter.org"
   ]
  },
  {
   "cell_type": "code",
   "execution_count": 41,
   "metadata": {},
   "outputs": [],
   "source": [
    "# importing the libraries\n",
    "import urllib.request    \n",
    "from time import sleep\n",
    "from random import uniform\n",
    "import re,time\n",
    "from bs4 import BeautifulSoup as bs\n",
    "from selenium import webdriver\n",
    "import pandas as pd"
   ]
  },
  {
   "cell_type": "code",
   "execution_count": 42,
   "metadata": {},
   "outputs": [],
   "source": [
    "# url for presidential speeches\n",
    "url = 'https://millercenter.org/the-presidency/presidential-speeches'  "
   ]
  },
  {
   "cell_type": "code",
   "execution_count": null,
   "metadata": {},
   "outputs": [],
   "source": [
    "#!pip install requests_html\n",
    "driver = webdriver.Chrome('./chromedriver')\n",
    "driver.get(url)\n",
    "page_source = driver.page_source\n",
    "html_source = bs(page_source,'lxml') #html parser"
   ]
  },
  {
   "cell_type": "code",
   "execution_count": 44,
   "metadata": {},
   "outputs": [
    {
     "data": {
      "text/plain": [
       "'Presidential Speeches | Miller Center'"
      ]
     },
     "execution_count": 44,
     "metadata": {},
     "output_type": "execute_result"
    }
   ],
   "source": [
    "html_source.title.text                      # Returns content between <title> and </title>up"
   ]
  },
  {
   "cell_type": "code",
   "execution_count": 45,
   "metadata": {},
   "outputs": [],
   "source": [
    "#Web scraping function to get links for all the inaugural speeches\n",
    "\n",
    "def getHtmlSource():\n",
    "    speeches=list()\n",
    "    viewMore = html_source.find_all('ul', {'class': 'js-pager__items pager visually-hidden'})\n",
    "    len(viewMore)\n",
    "    while len(viewMore)>0:\n",
    "        driver.execute_script(\"window.scrollTo(0, document.body.scrollHeight);\")\n",
    "        time.sleep(2)\n",
    "        page_source = driver.page_source\n",
    "        html_source1 = bs(page_source,'lxml')\n",
    "        speeches = html_source1.find_all(\"a\", href= re.compile('presidential-speeches/'))\n",
    "        viewMore = html_source1.find_all('ul', {'class': 'js-pager__items pager visually-hidden'})\n",
    "    print(len(viewMore),'-',len(speeches))\n",
    "    return viewMore"
   ]
  },
  {
   "cell_type": "code",
   "execution_count": 46,
   "metadata": {},
   "outputs": [
    {
     "name": "stdout",
     "output_type": "stream",
     "text": [
      "0\n"
     ]
    }
   ],
   "source": [
    "speeches=list()\n",
    "speeches=getHtmlSource() ## commented invoking web scraping for now\n",
    "speech_links=list()\n",
    "for speech in speeches:\n",
    "    if str(speech).find('inaugural')>=0:\n",
    "        speech_links.append(\"https://millercenter.org\"+speech['href'])\n",
    "print(len(speech_links))"
   ]
  },
  {
   "cell_type": "code",
   "execution_count": 47,
   "metadata": {},
   "outputs": [],
   "source": [
    "## saved the links from above webscraping function to save time while iterating multiple times\n",
    "speech_links_predefined=['https://millercenter.org/the-presidency/presidential-speeches/january-20-2021-inaugural-address',\n",
    " 'https://millercenter.org/the-presidency/presidential-speeches/january-20-2017-inaugural-address',\n",
    " 'https://millercenter.org/the-presidency/presidential-speeches/january-21-2013-second-inaugural-address',\n",
    " 'https://millercenter.org/the-presidency/presidential-speeches/january-20-2009-inaugural-address',\n",
    " 'https://millercenter.org/the-presidency/presidential-speeches/january-20-2005-second-inaugural-address-0',\n",
    " 'https://millercenter.org/the-presidency/presidential-speeches/january-20-2001-first-inaugural-address',\n",
    " 'https://millercenter.org/the-presidency/presidential-speeches/january-20-1997-second-inaugural',\n",
    " 'https://millercenter.org/the-presidency/presidential-speeches/january-20-1993-first-inaugural',\n",
    " 'https://millercenter.org/the-presidency/presidential-speeches/january-20-1989-inaugural-address',\n",
    " 'https://millercenter.org/the-presidency/presidential-speeches/january-21-1985-second-inaugural-address',\n",
    " 'https://millercenter.org/the-presidency/presidential-speeches/january-20-1981-first-inaugural-address',\n",
    " 'https://millercenter.org/the-presidency/presidential-speeches/january-20-1977-inaugural-address',\n",
    " 'https://millercenter.org/the-presidency/presidential-speeches/january-20-1973-second-inaugural-address',\n",
    " 'https://millercenter.org/the-presidency/presidential-speeches/january-20-1969-first-inaugural-address',\n",
    " 'https://millercenter.org/the-presidency/presidential-speeches/january-20-1965-inaugural-address',\n",
    " 'https://millercenter.org/the-presidency/presidential-speeches/january-20-1961-inaugural-address',\n",
    " 'https://millercenter.org/the-presidency/presidential-speeches/january-20-1953-first-inaugural-address',\n",
    " 'https://millercenter.org/the-presidency/presidential-speeches/january-20-1949-inaugural-address',\n",
    " 'https://millercenter.org/the-presidency/presidential-speeches/january-20-1945-fourth-inaugural-address',\n",
    " 'https://millercenter.org/the-presidency/presidential-speeches/january-20-1941-third-inaugural-address',\n",
    " 'https://millercenter.org/the-presidency/presidential-speeches/january-20-1937-second-inaugural-address',\n",
    " 'https://millercenter.org/the-presidency/presidential-speeches/march-4-1933-first-inaugural-address',\n",
    " 'https://millercenter.org/the-presidency/presidential-speeches/march-4-1929-inaugural-address',\n",
    " 'https://millercenter.org/the-presidency/presidential-speeches/march-4-1925-inaugural-address',\n",
    " 'https://millercenter.org/the-presidency/presidential-speeches/march-4-1921-inaugural-address',\n",
    " 'https://millercenter.org/the-presidency/presidential-speeches/march-5-1917-second-inaugural-address',\n",
    " 'https://millercenter.org/the-presidency/presidential-speeches/march-4-1913-first-inaugural-address',\n",
    " 'https://millercenter.org/the-presidency/presidential-speeches/march-4-1909-inaugural-address',\n",
    " 'https://millercenter.org/the-presidency/presidential-speeches/march-4-1905-inaugural-address',\n",
    " 'https://millercenter.org/the-presidency/presidential-speeches/march-4-1901-second-inaugural-address',\n",
    " 'https://millercenter.org/the-presidency/presidential-speeches/march-4-1897-first-inaugural-address',\n",
    " 'https://millercenter.org/the-presidency/presidential-speeches/march-4-1893-second-inaugural-address',\n",
    " 'https://millercenter.org/the-presidency/presidential-speeches/march-4-1889-inaugural-address',\n",
    " 'https://millercenter.org/the-presidency/presidential-speeches/march-4-1885-first-inaugural-address',\n",
    " 'https://millercenter.org/the-presidency/presidential-speeches/march-4-1881-inaugural-address',\n",
    " 'https://millercenter.org/the-presidency/presidential-speeches/march-5-1877-inaugural-address',\n",
    " 'https://millercenter.org/the-presidency/presidential-speeches/march-4-1873-second-inaugural-address',\n",
    " 'https://millercenter.org/the-presidency/presidential-speeches/march-4-1869-first-inaugural-address',\n",
    " 'https://millercenter.org/the-presidency/presidential-speeches/march-4-1865-second-inaugural-address',\n",
    " 'https://millercenter.org/the-presidency/presidential-speeches/march-4-1861-first-inaugural-address',\n",
    " 'https://millercenter.org/the-presidency/presidential-speeches/march-4-1857-inaugural-address',\n",
    " 'https://millercenter.org/the-presidency/presidential-speeches/march-4-1853-inaugural-address',\n",
    " 'https://millercenter.org/the-presidency/presidential-speeches/march-5-1849-inaugural-address',\n",
    " 'https://millercenter.org/the-presidency/presidential-speeches/march-4-1845-inaugural-address',\n",
    " 'https://millercenter.org/the-presidency/presidential-speeches/march-4-1841-inaugural-address',\n",
    " 'https://millercenter.org/the-presidency/presidential-speeches/march-4-1837-inaugural-address',\n",
    " 'https://millercenter.org/the-presidency/presidential-speeches/march-4-1833-second-inaugural-address',\n",
    " 'https://millercenter.org/the-presidency/presidential-speeches/march-4-1829-first-inaugural-address',\n",
    " 'https://millercenter.org/the-presidency/presidential-speeches/march-4-1825-inaugural-address',\n",
    " 'https://millercenter.org/the-presidency/presidential-speeches/march-5-1821-second-inaugural-address',\n",
    " 'https://millercenter.org/the-presidency/presidential-speeches/march-4-1817-first-inaugural-address',\n",
    " 'https://millercenter.org/the-presidency/presidential-speeches/march-4-1813-second-inaugural-address',\n",
    " 'https://millercenter.org/the-presidency/presidential-speeches/march-4-1809-first-inaugural-address',\n",
    " 'https://millercenter.org/the-presidency/presidential-speeches/march-4-1805-second-inaugural-address',\n",
    " 'https://millercenter.org/the-presidency/presidential-speeches/march-4-1801-first-inaugural-address',\n",
    " 'https://millercenter.org/the-presidency/presidential-speeches/march-4-1797-inaugural-address',\n",
    " 'https://millercenter.org/the-presidency/presidential-speeches/march-4-1793-second-inaugural-address',\n",
    " 'https://millercenter.org/the-presidency/presidential-speeches/april-30-1789-first-inaugural-address']"
   ]
  },
  {
   "cell_type": "code",
   "execution_count": 48,
   "metadata": {},
   "outputs": [
    {
     "data": {
      "text/html": [
       "<div>\n",
       "<style scoped>\n",
       "    .dataframe tbody tr th:only-of-type {\n",
       "        vertical-align: middle;\n",
       "    }\n",
       "\n",
       "    .dataframe tbody tr th {\n",
       "        vertical-align: top;\n",
       "    }\n",
       "\n",
       "    .dataframe thead th {\n",
       "        text-align: right;\n",
       "    }\n",
       "</style>\n",
       "<table border=\"1\" class=\"dataframe\">\n",
       "  <thead>\n",
       "    <tr style=\"text-align: right;\">\n",
       "      <th></th>\n",
       "      <th>inaugural_date</th>\n",
       "      <th>president_name</th>\n",
       "      <th>speech</th>\n",
       "    </tr>\n",
       "  </thead>\n",
       "  <tbody>\n",
       "    <tr>\n",
       "      <th>0</th>\n",
       "      <td>January 20, 2021</td>\n",
       "      <td>Joe Biden</td>\n",
       "      <td>Chief Justice Roberts, Vice President Harris, ...</td>\n",
       "    </tr>\n",
       "    <tr>\n",
       "      <th>1</th>\n",
       "      <td>January 20, 2017</td>\n",
       "      <td>Donald Trump</td>\n",
       "      <td>Chief Justice Roberts, President Carter, Presi...</td>\n",
       "    </tr>\n",
       "    <tr>\n",
       "      <th>2</th>\n",
       "      <td>January 21, 2013</td>\n",
       "      <td>Barack Obama</td>\n",
       "      <td>\\nVice President Biden, Mr. Chief Justice,\\nme...</td>\n",
       "    </tr>\n",
       "    <tr>\n",
       "      <th>3</th>\n",
       "      <td>January 20, 2009</td>\n",
       "      <td>Barack Obama</td>\n",
       "      <td>I stand here today humbled by the task before ...</td>\n",
       "    </tr>\n",
       "    <tr>\n",
       "      <th>4</th>\n",
       "      <td>January 20, 2005</td>\n",
       "      <td>George W. Bush</td>\n",
       "      <td>Vice President Cheney, Mr. Chief Justice, Pres...</td>\n",
       "    </tr>\n",
       "  </tbody>\n",
       "</table>\n",
       "</div>"
      ],
      "text/plain": [
       "     inaugural_date   president_name  \\\n",
       "0  January 20, 2021       Joe Biden    \n",
       "1  January 20, 2017    Donald Trump    \n",
       "2  January 21, 2013    Barack Obama    \n",
       "3  January 20, 2009    Barack Obama    \n",
       "4  January 20, 2005  George W. Bush    \n",
       "\n",
       "                                              speech  \n",
       "0  Chief Justice Roberts, Vice President Harris, ...  \n",
       "1  Chief Justice Roberts, President Carter, Presi...  \n",
       "2  \\nVice President Biden, Mr. Chief Justice,\\nme...  \n",
       "3  I stand here today humbled by the task before ...  \n",
       "4  Vice President Cheney, Mr. Chief Justice, Pres...  "
      ]
     },
     "execution_count": 48,
     "metadata": {},
     "output_type": "execute_result"
    }
   ],
   "source": [
    "## extracting each inaugural speech from the above links and saving it to dataframe\n",
    "speech_df = pd.DataFrame(columns=['inaugural_date', 'president_name', 'speech'])\n",
    "for sp in speech_links:\n",
    "    final_speech=''\n",
    "    driver.get(sp)\n",
    "    speech_page_source = driver.page_source\n",
    "    speech_html_source = bs(speech_page_source,'lxml') #html parserpage_source = driver.page_source\n",
    "    transcript_div = speech_html_source.find('div', class_=\"view-transcript\")\n",
    "    president_name = speech_html_source.find('label', class_=\"presidential-speeches--label\").text.split(\"Presidency\")[0]\n",
    "    ptags= transcript_div.findAll('p')\n",
    "    for p in ptags:\n",
    "        final_speech=final_speech+p.text\n",
    "    valueDict = {'inaugural_date': speech_html_source.title.text.split(\":\")[0], 'president_name': president_name, 'speech': final_speech}\n",
    "    speech_df=speech_df.append(valueDict, ignore_index=True)\n",
    "speech_df.head(5)"
   ]
  },
  {
   "cell_type": "code",
   "execution_count": 50,
   "metadata": {},
   "outputs": [
    {
     "data": {
      "text/plain": [
       "'Chief Justice Roberts, Vice President Harris, Speaker Pelosi, Leader Schumer, Leader McConnell, Vice President Pence, distinguished guests, and my fellow Americans.This is America’s day.This is democracy’s day.A day of history and hope.Of renewal and resolve.Through a crucible for the ages America has been tested anew and America has risen to the challenge.Today, we celebrate the triumph not of a candidate, but of a cause, the cause of democracy.The will of the people has been heard and the will of the people has been heeded.We have learned again that democracy is precious.Democracy is fragile.And at this hour, my friends, democracy has prevailed.So now, on this hallowed ground where just days ago violence sought to shake this Capitol’s very foundation, we come together as one nation, under God, indivisible, to carry out the peaceful transfer of power as we have for more than two centuries.We look ahead in our uniquely American way – restless, bold, optimistic – and set our sights on the nation we know we can be and we must be.I thank my predecessors of both parties for their presence here.I thank them from the bottom of my heart.You know the resilience of our Constitution and the strength of our nation.As does President Carter, who I spoke to last night but who cannot be with us today, but whom we salute for his lifetime of service.I have just taken the sacred oath each of these patriots took — an oath first sworn by George Washington.But the American story depends not on any one of us, not on some of us, but on all of us.On “We the People” who seek a more perfect Union.This is a great nation and we are a good people.Over the centuries through storm and strife, in peace and in war, we have come so far. But we still have far to go.We will press forward with speed and urgency, for we have much to do in this winter of peril and possibility.Much to repair.Much to restore.Much to heal.Much to build.And much to gain.Few periods in our nation’s history have been more challenging or difficult than the one we’re in now.A once-in-a-century virus silently stalks the country.It’s taken as many lives in one year as America lost in all of World War II.Millions of jobs have been lost.Hundreds of thousands of businesses closed.A cry for racial justice some 400 years in the making moves us. The dream of justice for all will be deferred no longer.A cry for survival comes from the planet itself. A cry that can’t be any more desperate or any more clear.And now, a rise in political extremism, white supremacy, domestic terrorism that we must confront and we will defeat.To overcome these challenges – to restore the soul and to secure the future of America – requires more than words.It requires that most elusive of things in a democracy:Unity.Unity.In another January in Washington, on New Year’s Day 1863, Abraham Lincoln signed the Emancipation Proclamation.When he put pen to paper, the President said, “If my name ever goes down into history it will be for this act and my whole soul is in it.”My whole soul is in it.Today, on this January day, my whole soul is in this:Bringing America together.Uniting our people.And uniting our nation.I ask every American to join me in this cause.Uniting to fight the common foes we face:Anger, resentment, hatred.Extremism, lawlessness, violence.Disease, joblessness, hopelessness.With unity we can do great things. Important things.We can right wrongs.We can put people to work in good jobs.We can teach our children in safe schools.We can overcome this deadly virus.We can reward work, rebuild the middle class, and make health care\\nsecure for all.We can deliver racial justice.We can make America, once again, the leading force for good in the world.I know speaking of unity can sound to some like a foolish fantasy.I know the forces that divide us are deep and they are real.But I also know they are not new.Our history has been a constant struggle between the American ideal that we are all created equal and the harsh, ugly reality that racism, nativism, fear, and demonization have long torn us apart.The battle is perennial.Victory is never assured.Through the Civil War, the Great Depression, World War, 9/11, through struggle, sacrifice, and setbacks, our “better angels” have always prevailed.In each of these moments, enough of us came together to carry all of us forward.And, we can do so now.History, faith, and reason show the way, the way of unity.We can see each other not as adversaries but as neighbors.We can treat each other with dignity and respect.We can join forces, stop the shouting, and lower the temperature.For without unity, there is no peace, only bitterness and fury.No progress, only exhausting outrage.No nation, only a state of chaos.This is our historic moment of crisis and challenge, and unity is the path forward.And, we must meet this moment as the United States of America.If we do that, I guarantee you, we will not fail.We have never, ever, ever failed in America when we have acted together.And so today, at this time and in this place, let us start afresh.All of us.Let us listen to one another.Hear one another.\\nSee one another.Show respect to one another.Politics need not be a raging fire destroying everything in its path.Every disagreement doesn’t have to be a cause for total war.And, we must reject a culture in which facts themselves are manipulated and even manufactured.My fellow Americans, we have to be different than this.America has to be better than this.And, I believe America is better than this.Just look around.Here we stand, in the shadow of a Capitol dome that was completed amid the Civil War, when the Union itself hung in the balance.Yet we endured and we prevailed.Here we stand looking out to the great Mall where Dr. King spoke of his dream.Here we stand, where 108 years ago at another inaugural, thousands of protestors tried to block brave women from marching for the right to vote.Today, we mark the swearing-in of the first woman in American history elected to national office – Vice President Kamala Harris.Don’t tell me things can’t change.Here we stand across the Potomac from Arlington National Cemetery, where heroes who gave the last full measure of devotion rest in eternal peace.And here we stand, just days after a riotous mob thought they could use violence to silence the will of the people, to stop the work of our democracy, and to drive us from this sacred ground.That did not happen.It will never happen.Not today.Not tomorrow.Not ever.To all those who supported our campaign I am humbled by the faith you have placed in us.To all those who did not support us, let me say this: Hear me out as we move forward. Take a measure of me and my heart.And if you still disagree, so be it.That’s democracy. That’s America. The right to dissent peaceably, within the guardrails of our Republic, is perhaps our nation’s greatest strength.Yet hear me clearly: Disagreement must not lead to disunion.And I pledge this to you: I will be a President for all Americans.I will fight as hard for those who did not support me as for those who did.Many centuries ago, Saint Augustine, a saint of my church, wrote that a people was a multitude defined by the common objects of their love.What are the common objects we love that define us as Americans?I think I know.Opportunity.Security.Liberty.Dignity.Respect.Honor.And, yes, the truth.Recent weeks and months have taught us a painful lesson.There is truth and there are lies.Lies told for power and for profit.And each of us has a duty and responsibility, as citizens, as Americans, and especially as leaders – leaders who have pledged to honor our Constitution and protect our nation — to defend the truth and to defeat the lies.I understand that many Americans view the future with some fear and trepidation.I understand they worry about their jobs, about taking care of their families, about what comes next.I get it.But the answer is not to turn inward, to retreat into competing factions, distrusting those who don’t look like you do, or worship the way you do, or don’t get their news from the same sources you do.We must end this uncivil war that pits red against blue, rural versus urban, conservative versus liberal.We can do this if we open our souls instead of hardening our hearts.If we show a little tolerance and humility.If we’re willing to stand in the other person’s shoes just for a moment.\\nBecause here is the thing about life: There is no accounting for what fate will deal you.There are some days when we need a hand.There are other days when we’re called on to lend one.That is how we must be with one another.And, if we are this way, our country will be stronger, more prosperous, more ready for the future.My fellow Americans, in the work ahead of us, we will need each other.We will need all our strength to persevere through this dark winter.We are entering what may well be the toughest and deadliest period of the virus.We must set aside the politics and finally face this pandemic as one nation.I promise you this: as the Bible says weeping may endure for a night but joy cometh in the morning.We will get through this, togetherThe world is watching today.So here is my message to those beyond our borders: America has been tested and we have come out stronger for it.We will repair our alliances and engage with the world once again.Not to meet yesterday’s challenges, but today’s and tomorrow’s.We will lead not merely by the example of our power but by the power of our example.We will be a strong and trusted partner for peace, progress, and security.We have been through so much in this nation.And, in my first act as President, I would like to ask you to join me in a moment of silent prayer to remember all those we lost this past year to the pandemic.To those 400,000 fellow Americans – mothers and fathers, husbands and wives, sons and daughters, friends, neighbors, and co-workers.We will honor them by becoming the people and nation we know we can and should be.Let us say a silent prayer for those who lost their lives, for those they left behind, and for our country.Amen.This is a time of testing.We face an attack on democracy and on truth.A raging virus.Growing inequity.The sting of systemic racism.A climate in crisis.America’s role in the world.Any one of these would be enough to challenge us in profound ways.But the fact is we face them all at once, presenting this nation with the gravest of responsibilities.Now we must step up.All of us.It is a time for boldness, for there is so much to do.And, this is certain.We will be judged, you and I, for how we resolve the cascading crises of our era.Will we rise to the occasion?Will we master this rare and difficult hour?Will we meet our obligations and pass along a new and better world for our children?I believe we must and I believe we will.And when we do, we will write the next chapter in the American story.It’s a story that might sound something like a song that means a lot to me.It’s called “American Anthem” and there is one verse stands out for me:“The work and prayers\\nof centuries have brought us to this day\\nWhat shall be our legacy?\\nWhat will our children say?…\\nLet me know in my heart\\nWhen my days are through\\nAmerica\\nAmerica\\nI gave my best to you.”Let us add our own work and prayers to the unfolding story of our nation.If we do this then when our days are through our children and our children’s children will say of us they gave their best.They did their duty.They healed a broken land.\\nMy fellow Americans, I close today where I began, with a sacred oath.Before God and all of you I give you my word.I will always level with you.I will defend the Constitution.I will defend our democracy.I will defend America.I will give my all in your service thinking not of power, but of possibilities.Not of personal interest, but of the public good.And together, we shall write an American story of hope, not fear.Of unity, not division.Of light, not darkness.An American story of decency and dignity.Of love and of healing.Of greatness and of goodness.May this be the story that guides us.The story that inspires us.The story that tells ages yet to come that we answered the call of history.We met the moment.That democracy and hope, truth and justice, did not die on our watch but thrived.That our America secured liberty at home and stood once again as a beacon to the world.That is what we owe our forebearers, one another, and generations to follow.So, with purpose and resolve we turn to the tasks of our time.Sustained by faith.Driven by conviction.And, devoted to one another and to this country we love with all our hearts.May God bless America and may God protect our troops.Thank you, America.'"
      ]
     },
     "execution_count": 50,
     "metadata": {},
     "output_type": "execute_result"
    }
   ],
   "source": [
    "## verifying the speech \n",
    "speech_df.speech[0]"
   ]
  },
  {
   "cell_type": "code",
   "execution_count": 51,
   "metadata": {},
   "outputs": [
    {
     "name": "stdout",
     "output_type": "stream",
     "text": [
      "no of speeches available  58\n"
     ]
    }
   ],
   "source": [
    "print(\"no of speeches available \",len(speech_df))"
   ]
  }
 ],
 "metadata": {
  "kernelspec": {
   "display_name": "Python 3",
   "language": "python",
   "name": "python3"
  },
  "language_info": {
   "codemirror_mode": {
    "name": "ipython",
    "version": 3
   },
   "file_extension": ".py",
   "mimetype": "text/x-python",
   "name": "python",
   "nbconvert_exporter": "python",
   "pygments_lexer": "ipython3",
   "version": "3.7.0"
  }
 },
 "nbformat": 4,
 "nbformat_minor": 5
}
